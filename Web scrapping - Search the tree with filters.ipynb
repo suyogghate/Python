{
 "cells": [
  {
   "cell_type": "code",
   "execution_count": 1,
   "id": "3dfbee6e-aa7b-436a-9517-cabb5eb4d910",
   "metadata": {},
   "outputs": [],
   "source": [
    "# import the required library\n",
    "from bs4 import BeautifulSoup"
   ]
  },
  {
   "cell_type": "code",
   "execution_count": 2,
   "id": "4ac50875-d4f5-4eed-a973-cadfc4d4faa2",
   "metadata": {},
   "outputs": [
    {
     "name": "stdout",
     "output_type": "stream",
     "text": [
      "Requirement already satisfied: lxml in c:\\users\\hp\\appdata\\local\\programs\\python\\python312\\lib\\site-packages (5.3.1)\n"
     ]
    },
    {
     "name": "stderr",
     "output_type": "stream",
     "text": [
      "\n",
      "[notice] A new release of pip is available: 24.3.1 -> 25.0.1\n",
      "[notice] To update, run: python.exe -m pip install --upgrade pip\n"
     ]
    }
   ],
   "source": [
    "!pip install lxml"
   ]
  },
  {
   "cell_type": "code",
   "execution_count": 3,
   "id": "2ecd5f2b-8367-4fc1-907c-4b7f147084c8",
   "metadata": {},
   "outputs": [],
   "source": [
    "# import the web scrapping example html file\n",
    "HTMLfilePath = \"web_scrapping_example.html\"  # change as per the path of your HTML file\n",
    "with open(HTMLfilePath, \"r\") as organization:\n",
    "    soup = BeautifulSoup(organization, \"lxml\")\n"
   ]
  },
  {
   "cell_type": "code",
   "execution_count": 4,
   "id": "593a3f30-30c4-48f4-9e80-cbc15d823dd7",
   "metadata": {},
   "outputs": [
    {
     "data": {
      "text/plain": [
       "['html',\n",
       " <html lang=\"en\">\n",
       " <head>\n",
       " <meta charset=\"utf-8\"/>\n",
       " <meta content=\"width=device-width, initial-scale=1.0\" name=\"viewport\"/>\n",
       " <title>Sample Web Scraping Page</title>\n",
       " </head>\n",
       " <body>\n",
       " <h1 class=\"heading\" id=\"main-heading\">Welcome to Web Scraping</h1>\n",
       " <p class=\"text description\" id=\"paragraph-1\">This is a sample paragraph with some <b class=\"bold-text\">bold</b> text.</p>\n",
       " <p class=\"text info\" id=\"paragraph-2\">This is another paragraph with class <i class=\"italic-text\">info</i>.</p>\n",
       " <h2 class=\"section-heading\" id=\"links-section-heading\">Links Section</h2>\n",
       " <ul class=\"links-container\" id=\"links-list\">\n",
       " <li class=\"link-item\"><a class=\"external-link\" href=\"https://example.com\" id=\"link-1\">Example Website</a></li>\n",
       " <li class=\"link-item\"><a class=\"external-link\" href=\"https://example.org\" id=\"link-2\">Example Org</a></li>\n",
       " </ul>\n",
       " <h2 class=\"section-heading\" id=\"table-heading\">Sample Table</h2>\n",
       " <table border=\"1\" class=\"table\" id=\"data-table\">\n",
       " <tr class=\"table-header\" id=\"table-header\">\n",
       " <th class=\"table-heading\">ID</th>\n",
       " <th class=\"table-heading\">Name</th>\n",
       " <th class=\"table-heading\">Age</th>\n",
       " </tr>\n",
       " <tr class=\"table-row\" id=\"row-1\">\n",
       " <td class=\"table-data id\" id=\"id-1\">1</td>\n",
       " <td class=\"table-data name\" id=\"name-1\">Alice</td>\n",
       " <td class=\"table-data age\" id=\"age-1\">25</td>\n",
       " </tr>\n",
       " <tr class=\"table-row\" id=\"row-2\">\n",
       " <td class=\"table-data id\" id=\"id-2\">2</td>\n",
       " <td class=\"table-data name\" id=\"name-2\">Bob</td>\n",
       " <td class=\"table-data age\" id=\"age-2\">30</td>\n",
       " </tr>\n",
       " </table>\n",
       " </body>\n",
       " </html>,\n",
       " '\\n']"
      ]
     },
     "execution_count": 4,
     "metadata": {},
     "output_type": "execute_result"
    }
   ],
   "source": [
    "# view the content of the soup object\n",
    "soup.contents"
   ]
  },
  {
   "cell_type": "code",
   "execution_count": 5,
   "id": "c3d09519-2060-489c-8093-f5f77aa82f1b",
   "metadata": {},
   "outputs": [],
   "source": [
    "# search using find methods\n",
    "tag_li=soup.find(\"li\")"
   ]
  },
  {
   "cell_type": "code",
   "execution_count": 6,
   "id": "4c5c56d7-e564-4bc7-99ca-8c0153587e47",
   "metadata": {},
   "outputs": [
    {
     "name": "stdout",
     "output_type": "stream",
     "text": [
      "<class 'bs4.element.Tag'>\n"
     ]
    }
   ],
   "source": [
    "# print the tag type\n",
    "print(type(tag_li))"
   ]
  },
  {
   "cell_type": "code",
   "execution_count": 7,
   "id": "48684610-bf5f-47a5-b93b-4768424d3648",
   "metadata": {},
   "outputs": [
    {
     "name": "stdout",
     "output_type": "stream",
     "text": [
      "<li class=\"link-item\"><a class=\"external-link\" href=\"https://example.com\" id=\"link-1\">Example Website</a></li>\n"
     ]
    }
   ],
   "source": [
    "# print the tag\n",
    "print(tag_li)"
   ]
  },
  {
   "cell_type": "code",
   "execution_count": 8,
   "id": "f9d790fa-b950-441c-9169-aba9ec7db43d",
   "metadata": {},
   "outputs": [],
   "source": [
    "# search the document using find method for an ID\n",
    "find_id = soup.find(id=\"links-list\")"
   ]
  },
  {
   "cell_type": "code",
   "execution_count": 9,
   "id": "0d872e3c-56c0-4440-b0e6-5477169679e0",
   "metadata": {},
   "outputs": [
    {
     "name": "stdout",
     "output_type": "stream",
     "text": [
      "<ul class=\"links-container\" id=\"links-list\">\n",
      "<li class=\"link-item\"><a class=\"external-link\" href=\"https://example.com\" id=\"link-1\">Example Website</a></li>\n",
      "<li class=\"link-item\"><a class=\"external-link\" href=\"https://example.org\" id=\"link-2\">Example Org</a></li>\n",
      "</ul>\n"
     ]
    }
   ],
   "source": [
    "# print the find_id object\n",
    "print(find_id)"
   ]
  },
  {
   "cell_type": "code",
   "execution_count": 10,
   "id": "5bc2a1d0-508d-4913-9337-336d5e0695d3",
   "metadata": {},
   "outputs": [
    {
     "name": "stdout",
     "output_type": "stream",
     "text": [
      "Example Website\n"
     ]
    }
   ],
   "source": [
    "# print the string value\n",
    "print(find_id.li.a.string)"
   ]
  },
  {
   "cell_type": "code",
   "execution_count": 11,
   "id": "58461a8b-c5fa-44e5-8f4b-ce65ae9dcb43",
   "metadata": {},
   "outputs": [],
   "source": [
    "# search using string only\n",
    "search_for_StringOnly = soup.find_all(string=[\"Alice\", \"Bob\"])"
   ]
  },
  {
   "cell_type": "code",
   "execution_count": 12,
   "id": "ff503eab-8919-4d5c-9c7e-665c9b499e55",
   "metadata": {},
   "outputs": [
    {
     "name": "stdout",
     "output_type": "stream",
     "text": [
      "['Alice', 'Bob']\n"
     ]
    }
   ],
   "source": [
    "# print the search values\n",
    "print(search_for_StringOnly)"
   ]
  },
  {
   "cell_type": "code",
   "execution_count": 29,
   "id": "b28ef25d-067d-419a-9ef3-7ccb40ceca10",
   "metadata": {},
   "outputs": [
    {
     "name": "stdout",
     "output_type": "stream",
     "text": [
      "<ul class=\"links-container\" id=\"links-list\">\n",
      "<li class=\"link-item\"><a class=\"external-link\" href=\"https://example.com\" id=\"link-1\">Example Website</a></li>\n",
      "<li class=\"link-item\"><a class=\"external-link\" href=\"https://example.org\" id=\"link-2\">Example Org</a></li>\n",
      "</ul>\n"
     ]
    }
   ],
   "source": [
    "# search based on css class name (present as an attribute)\n",
    "css_class_search = soup.find(attrs = {\"class\":\"links-container\"})\n",
    "print(css_class_search)"
   ]
  },
  {
   "cell_type": "code",
   "execution_count": 30,
   "id": "7556fe20-b73b-4f48-8020-576951f37412",
   "metadata": {},
   "outputs": [],
   "source": [
    "# create a function to search the document based upon the tag passed as a parameter\n",
    "def isPresent(tag):\n",
    "    return tag.has_attr(\"id\") and tag.get(\"id\") == \"links-list\""
   ]
  },
  {
   "cell_type": "code",
   "execution_count": 32,
   "id": "0bb87a3f-e97b-4364-ba8c-60dc4dcdd85f",
   "metadata": {},
   "outputs": [
    {
     "name": "stdout",
     "output_type": "stream",
     "text": [
      "Example Website\n"
     ]
    }
   ],
   "source": [
    "# search document using the function and print it\n",
    "is_Present = soup.find(isPresent)\n",
    "print(is_Present.li.a.string)"
   ]
  },
  {
   "cell_type": "code",
   "execution_count": 33,
   "id": "8ec237d5-ed03-47fe-9f35-cc871369bc86",
   "metadata": {},
   "outputs": [
    {
     "name": "stdout",
     "output_type": "stream",
     "text": [
      "html\n",
      "head\n",
      "meta\n",
      "meta\n",
      "title\n",
      "body\n",
      "h1\n",
      "p\n",
      "b\n",
      "p\n",
      "i\n",
      "h2\n",
      "ul\n",
      "li\n",
      "a\n",
      "li\n",
      "a\n",
      "h2\n",
      "table\n",
      "tr\n",
      "th\n",
      "th\n",
      "th\n",
      "tr\n",
      "td\n",
      "td\n",
      "td\n",
      "tr\n",
      "td\n",
      "td\n",
      "td\n"
     ]
    }
   ],
   "source": [
    "# print tag name using True - which returns all the tags present in the document\n",
    "for tag in soup.find_all(True):\n",
    "    print(tag.name)"
   ]
  },
  {
   "cell_type": "code",
   "execution_count": 34,
   "id": "5630cbc9-b433-4c61-86a5-1990e151ca80",
   "metadata": {},
   "outputs": [],
   "source": [
    "# search using findall method for the given class\n",
    "find_class = soup.find_all(class_ = \"table-row\")"
   ]
  },
  {
   "cell_type": "code",
   "execution_count": 35,
   "id": "bf5dfbbf-6ac1-4c32-815b-59eac4c97e73",
   "metadata": {},
   "outputs": [
    {
     "data": {
      "text/plain": [
       "bs4.element.ResultSet"
      ]
     },
     "execution_count": 35,
     "metadata": {},
     "output_type": "execute_result"
    }
   ],
   "source": [
    "# view the type of the class\n",
    "type(find_class)"
   ]
  },
  {
   "cell_type": "code",
   "execution_count": 36,
   "id": "7b980f3d-981f-4998-9344-548b454d78cc",
   "metadata": {},
   "outputs": [
    {
     "name": "stdout",
     "output_type": "stream",
     "text": [
      "<tr class=\"table-row\" id=\"row-1\">\n",
      "<td class=\"table-data id\" id=\"id-1\">1</td>\n",
      "<td class=\"table-data name\" id=\"name-1\">Alice</td>\n",
      "<td class=\"table-data age\" id=\"age-1\">25</td>\n",
      "</tr>\n"
     ]
    }
   ],
   "source": [
    "# print the second resultset\n",
    "print(find_class[0])"
   ]
  },
  {
   "cell_type": "code",
   "execution_count": 37,
   "id": "a1422f5c-a75c-498d-a9a1-752ca20cb5d8",
   "metadata": {},
   "outputs": [
    {
     "name": "stdout",
     "output_type": "stream",
     "text": [
      "<tr class=\"table-row\" id=\"row-2\">\n",
      "<td class=\"table-data id\" id=\"id-2\">2</td>\n",
      "<td class=\"table-data name\" id=\"name-2\">Bob</td>\n",
      "<td class=\"table-data age\" id=\"age-2\">30</td>\n",
      "</tr>\n"
     ]
    }
   ],
   "source": [
    "# print the second resultset\n",
    "print(find_class[1])"
   ]
  },
  {
   "cell_type": "code",
   "execution_count": 38,
   "id": "e78822f6-2b8a-4ba9-b111-0a25c5a2ed68",
   "metadata": {},
   "outputs": [
    {
     "name": "stdout",
     "output_type": "stream",
     "text": [
      "[]\n"
     ]
    }
   ],
   "source": [
    "# find parents using find parent method\n",
    "find_class = find_class[0]\n",
    "find_parent = find_class.find_parents(\"tr\")\n",
    "print(find_parent)"
   ]
  },
  {
   "cell_type": "code",
   "execution_count": 39,
   "id": "0825d492-5668-434d-a1f9-11fa5851463c",
   "metadata": {},
   "outputs": [],
   "source": [
    "# now use find method to search based on the id\n",
    "org = soup.find(id = \"data-table\")"
   ]
  },
  {
   "cell_type": "code",
   "execution_count": 41,
   "id": "e6299c4b-e237-4d51-93be-1ddfdfacd971",
   "metadata": {},
   "outputs": [
    {
     "name": "stdout",
     "output_type": "stream",
     "text": [
      "<table border=\"1\" class=\"table\" id=\"data-table\">\n",
      "<tr class=\"table-header\" id=\"table-header\">\n",
      "<th class=\"table-heading\">ID</th>\n",
      "<th class=\"table-heading\">Name</th>\n",
      "<th class=\"table-heading\">Age</th>\n",
      "</tr>\n",
      "<tr class=\"table-row\" id=\"row-1\">\n",
      "<td class=\"table-data id\" id=\"id-1\">1</td>\n",
      "<td class=\"table-data name\" id=\"name-1\">Alice</td>\n",
      "<td class=\"table-data age\" id=\"age-1\">25</td>\n",
      "</tr>\n",
      "<tr class=\"table-row\" id=\"row-2\">\n",
      "<td class=\"table-data id\" id=\"id-2\">2</td>\n",
      "<td class=\"table-data name\" id=\"name-2\">Bob</td>\n",
      "<td class=\"table-data age\" id=\"age-2\">30</td>\n",
      "</tr>\n",
      "</table>\n"
     ]
    }
   ],
   "source": [
    "# print the search object\n",
    "print(org)"
   ]
  },
  {
   "cell_type": "code",
   "execution_count": 43,
   "id": "09c78214-a92e-4915-a45f-d8804103edc9",
   "metadata": {},
   "outputs": [],
   "source": [
    "# find the next siblings\n",
    "next_sibling = org.find_next_siblings()"
   ]
  },
  {
   "cell_type": "code",
   "execution_count": 44,
   "id": "98344a85-98aa-4668-9a70-b48e0592a751",
   "metadata": {},
   "outputs": [
    {
     "name": "stdout",
     "output_type": "stream",
     "text": [
      "<bound method _deprecated_function_alias.<locals>.alias of <table border=\"1\" class=\"table\" id=\"data-table\">\n",
      "<tr class=\"table-header\" id=\"table-header\">\n",
      "<th class=\"table-heading\">ID</th>\n",
      "<th class=\"table-heading\">Name</th>\n",
      "<th class=\"table-heading\">Age</th>\n",
      "</tr>\n",
      "<tr class=\"table-row\" id=\"row-1\">\n",
      "<td class=\"table-data id\" id=\"id-1\">1</td>\n",
      "<td class=\"table-data name\" id=\"name-1\">Alice</td>\n",
      "<td class=\"table-data age\" id=\"age-1\">25</td>\n",
      "</tr>\n",
      "<tr class=\"table-row\" id=\"row-2\">\n",
      "<td class=\"table-data id\" id=\"id-2\">2</td>\n",
      "<td class=\"table-data name\" id=\"name-2\">Bob</td>\n",
      "<td class=\"table-data age\" id=\"age-2\">30</td>\n",
      "</tr>\n",
      "</table>>\n"
     ]
    }
   ],
   "source": [
    "# find parents\n",
    "parent = org.findParents\n",
    "print(parent)"
   ]
  },
  {
   "cell_type": "code",
   "execution_count": 46,
   "id": "230381a7-4c7e-4d75-9a6e-024e19661d40",
   "metadata": {},
   "outputs": [
    {
     "name": "stdout",
     "output_type": "stream",
     "text": [
      "[<h2 class=\"section-heading\" id=\"table-heading\">Sample Table</h2>, <a class=\"external-link\" href=\"https://example.org\" id=\"link-2\">Example Org</a>, <li class=\"link-item\"><a class=\"external-link\" href=\"https://example.org\" id=\"link-2\">Example Org</a></li>, <a class=\"external-link\" href=\"https://example.com\" id=\"link-1\">Example Website</a>, <li class=\"link-item\"><a class=\"external-link\" href=\"https://example.com\" id=\"link-1\">Example Website</a></li>, <ul class=\"links-container\" id=\"links-list\">\n",
      "<li class=\"link-item\"><a class=\"external-link\" href=\"https://example.com\" id=\"link-1\">Example Website</a></li>\n",
      "<li class=\"link-item\"><a class=\"external-link\" href=\"https://example.org\" id=\"link-2\">Example Org</a></li>\n",
      "</ul>, <h2 class=\"section-heading\" id=\"links-section-heading\">Links Section</h2>, <i class=\"italic-text\">info</i>, <p class=\"text info\" id=\"paragraph-2\">This is another paragraph with class <i class=\"italic-text\">info</i>.</p>, <b class=\"bold-text\">bold</b>, <p class=\"text description\" id=\"paragraph-1\">This is a sample paragraph with some <b class=\"bold-text\">bold</b> text.</p>, <h1 class=\"heading\" id=\"main-heading\">Welcome to Web Scraping</h1>, <body>\n",
      "<h1 class=\"heading\" id=\"main-heading\">Welcome to Web Scraping</h1>\n",
      "<p class=\"text description\" id=\"paragraph-1\">This is a sample paragraph with some <b class=\"bold-text\">bold</b> text.</p>\n",
      "<p class=\"text info\" id=\"paragraph-2\">This is another paragraph with class <i class=\"italic-text\">info</i>.</p>\n",
      "<h2 class=\"section-heading\" id=\"links-section-heading\">Links Section</h2>\n",
      "<ul class=\"links-container\" id=\"links-list\">\n",
      "<li class=\"link-item\"><a class=\"external-link\" href=\"https://example.com\" id=\"link-1\">Example Website</a></li>\n",
      "<li class=\"link-item\"><a class=\"external-link\" href=\"https://example.org\" id=\"link-2\">Example Org</a></li>\n",
      "</ul>\n",
      "<h2 class=\"section-heading\" id=\"table-heading\">Sample Table</h2>\n",
      "<table border=\"1\" class=\"table\" id=\"data-table\">\n",
      "<tr class=\"table-header\" id=\"table-header\">\n",
      "<th class=\"table-heading\">ID</th>\n",
      "<th class=\"table-heading\">Name</th>\n",
      "<th class=\"table-heading\">Age</th>\n",
      "</tr>\n",
      "<tr class=\"table-row\" id=\"row-1\">\n",
      "<td class=\"table-data id\" id=\"id-1\">1</td>\n",
      "<td class=\"table-data name\" id=\"name-1\">Alice</td>\n",
      "<td class=\"table-data age\" id=\"age-1\">25</td>\n",
      "</tr>\n",
      "<tr class=\"table-row\" id=\"row-2\">\n",
      "<td class=\"table-data id\" id=\"id-2\">2</td>\n",
      "<td class=\"table-data name\" id=\"name-2\">Bob</td>\n",
      "<td class=\"table-data age\" id=\"age-2\">30</td>\n",
      "</tr>\n",
      "</table>\n",
      "</body>, <title>Sample Web Scraping Page</title>, <meta content=\"width=device-width, initial-scale=1.0\" name=\"viewport\"/>, <meta charset=\"utf-8\"/>, <head>\n",
      "<meta charset=\"utf-8\"/>\n",
      "<meta content=\"width=device-width, initial-scale=1.0\" name=\"viewport\"/>\n",
      "<title>Sample Web Scraping Page</title>\n",
      "</head>, <html lang=\"en\">\n",
      "<head>\n",
      "<meta charset=\"utf-8\"/>\n",
      "<meta content=\"width=device-width, initial-scale=1.0\" name=\"viewport\"/>\n",
      "<title>Sample Web Scraping Page</title>\n",
      "</head>\n",
      "<body>\n",
      "<h1 class=\"heading\" id=\"main-heading\">Welcome to Web Scraping</h1>\n",
      "<p class=\"text description\" id=\"paragraph-1\">This is a sample paragraph with some <b class=\"bold-text\">bold</b> text.</p>\n",
      "<p class=\"text info\" id=\"paragraph-2\">This is another paragraph with class <i class=\"italic-text\">info</i>.</p>\n",
      "<h2 class=\"section-heading\" id=\"links-section-heading\">Links Section</h2>\n",
      "<ul class=\"links-container\" id=\"links-list\">\n",
      "<li class=\"link-item\"><a class=\"external-link\" href=\"https://example.com\" id=\"link-1\">Example Website</a></li>\n",
      "<li class=\"link-item\"><a class=\"external-link\" href=\"https://example.org\" id=\"link-2\">Example Org</a></li>\n",
      "</ul>\n",
      "<h2 class=\"section-heading\" id=\"table-heading\">Sample Table</h2>\n",
      "<table border=\"1\" class=\"table\" id=\"data-table\">\n",
      "<tr class=\"table-header\" id=\"table-header\">\n",
      "<th class=\"table-heading\">ID</th>\n",
      "<th class=\"table-heading\">Name</th>\n",
      "<th class=\"table-heading\">Age</th>\n",
      "</tr>\n",
      "<tr class=\"table-row\" id=\"row-1\">\n",
      "<td class=\"table-data id\" id=\"id-1\">1</td>\n",
      "<td class=\"table-data name\" id=\"name-1\">Alice</td>\n",
      "<td class=\"table-data age\" id=\"age-1\">25</td>\n",
      "</tr>\n",
      "<tr class=\"table-row\" id=\"row-2\">\n",
      "<td class=\"table-data id\" id=\"id-2\">2</td>\n",
      "<td class=\"table-data name\" id=\"name-2\">Bob</td>\n",
      "<td class=\"table-data age\" id=\"age-2\">30</td>\n",
      "</tr>\n",
      "</table>\n",
      "</body>\n",
      "</html>]\n"
     ]
    }
   ],
   "source": [
    "# find and print previous\n",
    "all_previous = org.find_all_previous()\n",
    "print(all_previous)"
   ]
  },
  {
   "cell_type": "code",
   "execution_count": 47,
   "id": "c34bff9d-7649-4089-8bde-f6555e90fb14",
   "metadata": {},
   "outputs": [
    {
     "name": "stdout",
     "output_type": "stream",
     "text": [
      "<h2 class=\"section-heading\" id=\"table-heading\">Sample Table</h2>\n"
     ]
    }
   ],
   "source": [
    "# search and print previous sibling\n",
    "previous_sibling = org.find_previous_sibling()\n",
    "print(previous_sibling)"
   ]
  },
  {
   "cell_type": "code",
   "execution_count": 49,
   "id": "be14e911-096e-4e36-b761-5ceb88abe73a",
   "metadata": {},
   "outputs": [
    {
     "name": "stdout",
     "output_type": "stream",
     "text": [
      "[<tr class=\"table-header\" id=\"table-header\">\n",
      "<th class=\"table-heading\">ID</th>\n",
      "<th class=\"table-heading\">Name</th>\n",
      "<th class=\"table-heading\">Age</th>\n",
      "</tr>, <th class=\"table-heading\">ID</th>, <th class=\"table-heading\">Name</th>, <th class=\"table-heading\">Age</th>, <tr class=\"table-row\" id=\"row-1\">\n",
      "<td class=\"table-data id\" id=\"id-1\">1</td>\n",
      "<td class=\"table-data name\" id=\"name-1\">Alice</td>\n",
      "<td class=\"table-data age\" id=\"age-1\">25</td>\n",
      "</tr>, <td class=\"table-data id\" id=\"id-1\">1</td>, <td class=\"table-data name\" id=\"name-1\">Alice</td>, <td class=\"table-data age\" id=\"age-1\">25</td>, <tr class=\"table-row\" id=\"row-2\">\n",
      "<td class=\"table-data id\" id=\"id-2\">2</td>\n",
      "<td class=\"table-data name\" id=\"name-2\">Bob</td>\n",
      "<td class=\"table-data age\" id=\"age-2\">30</td>\n",
      "</tr>, <td class=\"table-data id\" id=\"id-2\">2</td>, <td class=\"table-data name\" id=\"name-2\">Bob</td>, <td class=\"table-data age\" id=\"age-2\">30</td>]\n"
     ]
    }
   ],
   "source": [
    "# search and print all next\n",
    "all_next = org.find_all_next()\n",
    "print(all_next)"
   ]
  },
  {
   "cell_type": "code",
   "execution_count": 51,
   "id": "a33151a0-0b53-46f0-b4f8-132cc2696686",
   "metadata": {},
   "outputs": [
    {
     "name": "stdout",
     "output_type": "stream",
     "text": [
      "\n",
      "abc@gmail.com\n"
     ]
    }
   ],
   "source": [
    "# use regular expression to search the document\n",
    "import re\n",
    "email_example = \"\"\"<br/>\n",
    "<p>My email id is: </p>\n",
    "abc@gmail.com\"\"\"\n",
    "soup_email = BeautifulSoup(email_example, \"lxml\")\n",
    "# use compile method to compile the information which contains resular expression\n",
    "emailid_regexp = re.compile(r\"\\w+@\\w+\\.\\w+\")\n",
    "# find and print the email id using regular expression\n",
    "email_id = soup_email.find(string = emailid_regexp)\n",
    "print(email_id)"
   ]
  },
  {
   "cell_type": "code",
   "execution_count": null,
   "id": "914191b4-2004-413d-9f47-2cd5ef718a58",
   "metadata": {},
   "outputs": [],
   "source": []
  },
  {
   "cell_type": "code",
   "execution_count": null,
   "id": "6de53e3b-0e45-4b31-8897-3ec60adc641b",
   "metadata": {},
   "outputs": [],
   "source": []
  },
  {
   "cell_type": "code",
   "execution_count": null,
   "id": "5a4097df-ece9-4aa6-a18c-8780d2d0601e",
   "metadata": {},
   "outputs": [],
   "source": []
  },
  {
   "cell_type": "code",
   "execution_count": null,
   "id": "0a6e6f01-f730-4b01-8ac0-7c19989ce64d",
   "metadata": {},
   "outputs": [],
   "source": []
  },
  {
   "cell_type": "code",
   "execution_count": null,
   "id": "e0399a9a-7111-4f0e-aadc-1a39ce3e0f6b",
   "metadata": {},
   "outputs": [],
   "source": []
  },
  {
   "cell_type": "code",
   "execution_count": null,
   "id": "51f1960b-6d41-46b2-bed6-a08f4f57ffff",
   "metadata": {},
   "outputs": [],
   "source": []
  },
  {
   "cell_type": "code",
   "execution_count": null,
   "id": "c859720a-c4b8-4ee8-a918-acc246238e70",
   "metadata": {},
   "outputs": [],
   "source": []
  }
 ],
 "metadata": {
  "kernelspec": {
   "display_name": "Python 3 (ipykernel)",
   "language": "python",
   "name": "python3"
  },
  "language_info": {
   "codemirror_mode": {
    "name": "ipython",
    "version": 3
   },
   "file_extension": ".py",
   "mimetype": "text/x-python",
   "name": "python",
   "nbconvert_exporter": "python",
   "pygments_lexer": "ipython3",
   "version": "3.12.9"
  }
 },
 "nbformat": 4,
 "nbformat_minor": 5
}
