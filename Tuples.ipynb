{
 "cells": [
  {
   "cell_type": "markdown",
   "id": "e0400e53-b0be-4a44-9d77-b7583a1d2069",
   "metadata": {},
   "source": [
    "# Tuples in Python"
   ]
  },
  {
   "cell_type": "code",
   "execution_count": 1,
   "id": "ad658eb8-3523-4c77-b01b-a5967693cfea",
   "metadata": {},
   "outputs": [],
   "source": [
    "# Collection of immutable heterogenous python objects"
   ]
  },
  {
   "cell_type": "code",
   "execution_count": 2,
   "id": "3be2ea48-15f2-4c36-9170-d832d1ab4ecf",
   "metadata": {},
   "outputs": [
    {
     "name": "stdout",
     "output_type": "stream",
     "text": [
      "<class 'tuple'>\n"
     ]
    }
   ],
   "source": [
    "emp=()\n",
    "print(type(emp))"
   ]
  },
  {
   "cell_type": "code",
   "execution_count": 3,
   "id": "07e5501e-b23c-4991-b5b4-24d453c33f96",
   "metadata": {},
   "outputs": [
    {
     "name": "stdout",
     "output_type": "stream",
     "text": [
      "()\n"
     ]
    }
   ],
   "source": [
    "print(emp)"
   ]
  },
  {
   "cell_type": "code",
   "execution_count": 7,
   "id": "50d30ddd-d1aa-4306-8bd1-3f02470bd6b2",
   "metadata": {},
   "outputs": [],
   "source": [
    "city = \"Pune\",\n",
    "# we can create tuple with only one element\n",
    "#  The above is a tuple also"
   ]
  },
  {
   "cell_type": "code",
   "execution_count": 6,
   "id": "73141f1a-bc73-4ef6-af1d-2e5c3b543ec9",
   "metadata": {},
   "outputs": [
    {
     "data": {
      "text/plain": [
       "tuple"
      ]
     },
     "execution_count": 6,
     "metadata": {},
     "output_type": "execute_result"
    }
   ],
   "source": [
    "type(city)"
   ]
  },
  {
   "cell_type": "code",
   "execution_count": 8,
   "id": "ac5b5e2f-ceea-4dd8-81e8-0c1f4f7f1270",
   "metadata": {},
   "outputs": [
    {
     "data": {
      "text/plain": [
       "'Pune'"
      ]
     },
     "execution_count": 8,
     "metadata": {},
     "output_type": "execute_result"
    }
   ],
   "source": [
    "city = (\"Pune\")\n",
    "city"
   ]
  },
  {
   "cell_type": "code",
   "execution_count": 9,
   "id": "31080f62-18c8-45ff-87d0-9dfddff98f28",
   "metadata": {},
   "outputs": [
    {
     "data": {
      "text/plain": [
       "('Pune',)"
      ]
     },
     "execution_count": 9,
     "metadata": {},
     "output_type": "execute_result"
    }
   ],
   "source": [
    "city = (\"Pune\",)\n",
    "city"
   ]
  },
  {
   "cell_type": "code",
   "execution_count": 10,
   "id": "8253baa7-1acc-42e7-bfc2-0e097e9759bb",
   "metadata": {},
   "outputs": [
    {
     "data": {
      "text/plain": [
       "('Pune', 'Banglore', 'Mumbai', 'Delhi')"
      ]
     },
     "execution_count": 10,
     "metadata": {},
     "output_type": "execute_result"
    }
   ],
   "source": [
    "city = (\"Pune\", \"Banglore\", \"Mumbai\", \"Delhi\")\n",
    "city"
   ]
  },
  {
   "cell_type": "code",
   "execution_count": 11,
   "id": "97ec7ee3-2b20-4ef7-9341-b1e7a609362a",
   "metadata": {},
   "outputs": [
    {
     "name": "stdout",
     "output_type": "stream",
     "text": [
      "[1, 2, 3, 4, 5]\n"
     ]
    }
   ],
   "source": [
    "list1 = [1, 2, 3, 4]\n",
    "tuple1 = (1, 2, 3, 4)\n",
    "list1.append(5)\n",
    "print(list1)"
   ]
  },
  {
   "cell_type": "code",
   "execution_count": 12,
   "id": "96c6a98b-d764-4139-81aa-41f04ce5f1eb",
   "metadata": {},
   "outputs": [
    {
     "ename": "AttributeError",
     "evalue": "'tuple' object has no attribute 'append'",
     "output_type": "error",
     "traceback": [
      "\u001b[31m---------------------------------------------------------------------------\u001b[39m",
      "\u001b[31mAttributeError\u001b[39m                            Traceback (most recent call last)",
      "\u001b[36mCell\u001b[39m\u001b[36m \u001b[39m\u001b[32mIn[12]\u001b[39m\u001b[32m, line 1\u001b[39m\n\u001b[32m----> \u001b[39m\u001b[32m1\u001b[39m \u001b[43mtuple1\u001b[49m\u001b[43m.\u001b[49m\u001b[43mappend\u001b[49m(\u001b[32m5\u001b[39m)\n",
      "\u001b[31mAttributeError\u001b[39m: 'tuple' object has no attribute 'append'"
     ]
    }
   ],
   "source": [
    "tuple1.append(5)  # gives error"
   ]
  },
  {
   "cell_type": "code",
   "execution_count": 13,
   "id": "b1708256-9ae8-4e17-9df2-a4c979a2d31b",
   "metadata": {},
   "outputs": [
    {
     "name": "stdout",
     "output_type": "stream",
     "text": [
      "('Pune', 'Banglore', 'Mumbai', 'Delhi')\n"
     ]
    }
   ],
   "source": [
    "print(city)"
   ]
  },
  {
   "cell_type": "code",
   "execution_count": 14,
   "id": "59d42a78-7b6e-4de4-bc7a-5ea0fa2d60fe",
   "metadata": {},
   "outputs": [
    {
     "data": {
      "text/plain": [
       "'Mumbai'"
      ]
     },
     "execution_count": 14,
     "metadata": {},
     "output_type": "execute_result"
    }
   ],
   "source": [
    "city[2]"
   ]
  },
  {
   "cell_type": "code",
   "execution_count": 15,
   "id": "d6aa1d6d-02d8-41d1-9f28-4742bb6d0df3",
   "metadata": {},
   "outputs": [
    {
     "data": {
      "text/plain": [
       "'Delhi'"
      ]
     },
     "execution_count": 15,
     "metadata": {},
     "output_type": "execute_result"
    }
   ],
   "source": [
    "city[-1]"
   ]
  },
  {
   "cell_type": "markdown",
   "id": "44e13072-ec92-4c7a-95a7-0b3705b40f35",
   "metadata": {},
   "source": [
    "# concatenation"
   ]
  },
  {
   "cell_type": "code",
   "execution_count": 16,
   "id": "c5c41e38-3780-401c-adfb-53bed26c702d",
   "metadata": {},
   "outputs": [
    {
     "name": "stdout",
     "output_type": "stream",
     "text": [
      "('Pune', 'Banglore', 'Mumbai', 'Delhi', 1, 2, 3, 4)\n"
     ]
    }
   ],
   "source": [
    "num = 1, 2, 3, 4\n",
    "print(city + num)"
   ]
  },
  {
   "cell_type": "markdown",
   "id": "26b786de-4df3-4687-9b73-39aa64304f23",
   "metadata": {},
   "source": [
    "# Nesting"
   ]
  },
  {
   "cell_type": "code",
   "execution_count": 17,
   "id": "eb2d8a74-7ebd-4389-8ed3-1dca25ae1ec7",
   "metadata": {},
   "outputs": [
    {
     "data": {
      "text/plain": [
       "(('Pune', 'Banglore', 'Mumbai', 'Delhi'), (1, 2, 3, 4))"
      ]
     },
     "execution_count": 17,
     "metadata": {},
     "output_type": "execute_result"
    }
   ],
   "source": [
    "nest = (city, num)\n",
    "nest"
   ]
  },
  {
   "cell_type": "code",
   "execution_count": 20,
   "id": "2993d7b4-f99e-415d-aa8f-d55e27779af0",
   "metadata": {},
   "outputs": [
    {
     "data": {
      "text/plain": [
       "('Python', 'Python', 'Python', 'Python', 'Python')"
      ]
     },
     "execution_count": 20,
     "metadata": {},
     "output_type": "execute_result"
    }
   ],
   "source": [
    "rep = (\"Python\",)*5\n",
    "rep"
   ]
  },
  {
   "cell_type": "code",
   "execution_count": 21,
   "id": "9c5dc7ec-05f5-4659-9018-1ba8f7fda97f",
   "metadata": {},
   "outputs": [],
   "source": [
    "rep=(\"Python\",)"
   ]
  },
  {
   "cell_type": "code",
   "execution_count": 22,
   "id": "8c5744e1-39c9-4523-afae-586e3cfb7219",
   "metadata": {},
   "outputs": [
    {
     "name": "stdout",
     "output_type": "stream",
     "text": [
      "('Python', 'Python', 'Python', 'Python', 'Python', 'Python', 'Python', 'Python', 'Python', 'Python')\n"
     ]
    }
   ],
   "source": [
    "print(rep*10)"
   ]
  },
  {
   "cell_type": "code",
   "execution_count": 23,
   "id": "fc6a8227-7ab8-48ff-a27f-4d8fa80d3db2",
   "metadata": {},
   "outputs": [
    {
     "data": {
      "text/plain": [
       "('Python',)"
      ]
     },
     "execution_count": 23,
     "metadata": {},
     "output_type": "execute_result"
    }
   ],
   "source": [
    "rep"
   ]
  },
  {
   "cell_type": "markdown",
   "id": "3a849e75-2f12-42b9-8109-0b1a96b5af23",
   "metadata": {},
   "source": [
    "# Slicing"
   ]
  },
  {
   "cell_type": "code",
   "execution_count": 24,
   "id": "ad64bf2f-553e-42be-b3d4-9989d63ec8e2",
   "metadata": {},
   "outputs": [
    {
     "data": {
      "text/plain": [
       "(1, 2, 3, 4)"
      ]
     },
     "execution_count": 24,
     "metadata": {},
     "output_type": "execute_result"
    }
   ],
   "source": [
    "num"
   ]
  },
  {
   "cell_type": "code",
   "execution_count": 25,
   "id": "cba5cd6d-5ec8-4d42-a230-a4e17f341a1e",
   "metadata": {},
   "outputs": [
    {
     "data": {
      "text/plain": [
       "(2, 3, 4)"
      ]
     },
     "execution_count": 25,
     "metadata": {},
     "output_type": "execute_result"
    }
   ],
   "source": [
    "num[1:]"
   ]
  },
  {
   "cell_type": "code",
   "execution_count": 26,
   "id": "3896b463-9f7d-4850-aa64-71fd66737262",
   "metadata": {},
   "outputs": [
    {
     "data": {
      "text/plain": [
       "(1, 2, 3, 4)"
      ]
     },
     "execution_count": 26,
     "metadata": {},
     "output_type": "execute_result"
    }
   ],
   "source": [
    "num[:]"
   ]
  },
  {
   "cell_type": "code",
   "execution_count": 27,
   "id": "e8312798-c66a-484a-b3e4-33257d53025e",
   "metadata": {},
   "outputs": [
    {
     "data": {
      "text/plain": [
       "(4, 3, 2, 1)"
      ]
     },
     "execution_count": 27,
     "metadata": {},
     "output_type": "execute_result"
    }
   ],
   "source": [
    "num[::-1]"
   ]
  },
  {
   "cell_type": "markdown",
   "id": "42f0f1d7-0ed5-4a40-8f14-7ce51c57e8a3",
   "metadata": {},
   "source": [
    "# Unpacking"
   ]
  },
  {
   "cell_type": "code",
   "execution_count": 28,
   "id": "0675e88c-339d-4f04-930e-8a618024efc1",
   "metadata": {},
   "outputs": [
    {
     "data": {
      "text/plain": [
       "('S', 'i', 'm', 'p', 'l', 'i', 'l', 'e', 'a', 'r', 'n')"
      ]
     },
     "execution_count": 28,
     "metadata": {},
     "output_type": "execute_result"
    }
   ],
   "source": [
    "tuple(\"Simplilearn\")"
   ]
  },
  {
   "cell_type": "code",
   "execution_count": 29,
   "id": "7c312d17-879b-43b3-9399-399bdf7756f1",
   "metadata": {},
   "outputs": [
    {
     "name": "stdout",
     "output_type": "stream",
     "text": [
      "(1, 2, 3, 4)\n"
     ]
    }
   ],
   "source": [
    "print(num)"
   ]
  },
  {
   "cell_type": "code",
   "execution_count": 30,
   "id": "f27c5aab-43b6-4494-9c99-e1d50ca005ad",
   "metadata": {},
   "outputs": [],
   "source": [
    "a, b, c, d = num"
   ]
  },
  {
   "cell_type": "code",
   "execution_count": 31,
   "id": "897615e5-2546-4c9f-90b7-bfc9c8a57541",
   "metadata": {},
   "outputs": [
    {
     "name": "stdout",
     "output_type": "stream",
     "text": [
      "1 2 3 4\n"
     ]
    }
   ],
   "source": [
    "print(a, b, c, d)"
   ]
  },
  {
   "cell_type": "code",
   "execution_count": 32,
   "id": "ecbfe346-e1e3-46b7-b2d4-3da043affded",
   "metadata": {},
   "outputs": [
    {
     "name": "stdout",
     "output_type": "stream",
     "text": [
      "1 [2, 3] 4\n"
     ]
    }
   ],
   "source": [
    "a, *b, c = num\n",
    "print(a, b, c)"
   ]
  },
  {
   "cell_type": "markdown",
   "id": "0fe583f0-7a4a-424d-98d8-837f187ee3d5",
   "metadata": {},
   "source": [
    "# Deleting a tuple"
   ]
  },
  {
   "cell_type": "code",
   "execution_count": 33,
   "id": "215a42ff-b872-4edb-b5de-5dce4c6aaf89",
   "metadata": {},
   "outputs": [
    {
     "name": "stdout",
     "output_type": "stream",
     "text": [
      "(1, 2, 3, 4)\n"
     ]
    }
   ],
   "source": [
    "tuple1=(1, 2, 3, 4)\n",
    "print(tuple1)"
   ]
  },
  {
   "cell_type": "code",
   "execution_count": 34,
   "id": "55c38911-eefa-4b73-8164-28a33250972d",
   "metadata": {},
   "outputs": [],
   "source": [
    "del tuple1"
   ]
  },
  {
   "cell_type": "code",
   "execution_count": 35,
   "id": "34a07d50-c01c-4732-87f7-92850e8c5137",
   "metadata": {},
   "outputs": [
    {
     "ename": "NameError",
     "evalue": "name 'tuple1' is not defined",
     "output_type": "error",
     "traceback": [
      "\u001b[31m---------------------------------------------------------------------------\u001b[39m",
      "\u001b[31mNameError\u001b[39m                                 Traceback (most recent call last)",
      "\u001b[36mCell\u001b[39m\u001b[36m \u001b[39m\u001b[32mIn[35]\u001b[39m\u001b[32m, line 1\u001b[39m\n\u001b[32m----> \u001b[39m\u001b[32m1\u001b[39m \u001b[38;5;28mprint\u001b[39m(\u001b[43mtuple1\u001b[49m)\n",
      "\u001b[31mNameError\u001b[39m: name 'tuple1' is not defined"
     ]
    }
   ],
   "source": [
    "print(tuple1)"
   ]
  },
  {
   "cell_type": "markdown",
   "id": "975cb435-9fb5-468b-9273-969dd2014536",
   "metadata": {},
   "source": [
    "# Built-in methods()"
   ]
  },
  {
   "cell_type": "code",
   "execution_count": 36,
   "id": "347ac395-a6d3-4885-a0d1-273e3baf5565",
   "metadata": {},
   "outputs": [],
   "source": [
    "num1=(3,5,2,7,2, 5, 0, 1, 2, 4)"
   ]
  },
  {
   "cell_type": "code",
   "execution_count": 37,
   "id": "414aa374-2a99-4f22-bd0b-b201bea1c4ea",
   "metadata": {},
   "outputs": [
    {
     "data": {
      "text/plain": [
       "3"
      ]
     },
     "execution_count": 37,
     "metadata": {},
     "output_type": "execute_result"
    }
   ],
   "source": [
    "num1.count(2)"
   ]
  },
  {
   "cell_type": "code",
   "execution_count": 38,
   "id": "79cc10e4-530f-44ea-8dfe-57d0ce1483a1",
   "metadata": {},
   "outputs": [
    {
     "data": {
      "text/plain": [
       "31"
      ]
     },
     "execution_count": 38,
     "metadata": {},
     "output_type": "execute_result"
    }
   ],
   "source": [
    "sum(num1)"
   ]
  },
  {
   "cell_type": "code",
   "execution_count": 39,
   "id": "014dfef8-bf93-484e-8d73-05417a331bed",
   "metadata": {},
   "outputs": [
    {
     "ename": "NameError",
     "evalue": "name 'lem' is not defined",
     "output_type": "error",
     "traceback": [
      "\u001b[31m---------------------------------------------------------------------------\u001b[39m",
      "\u001b[31mNameError\u001b[39m                                 Traceback (most recent call last)",
      "\u001b[36mCell\u001b[39m\u001b[36m \u001b[39m\u001b[32mIn[39]\u001b[39m\u001b[32m, line 1\u001b[39m\n\u001b[32m----> \u001b[39m\u001b[32m1\u001b[39m \u001b[43mlem\u001b[49m(num1)\n",
      "\u001b[31mNameError\u001b[39m: name 'lem' is not defined"
     ]
    }
   ],
   "source": [
    "lem(num1)"
   ]
  },
  {
   "cell_type": "code",
   "execution_count": 40,
   "id": "3271826e-7f66-4d59-8472-539ff3096a30",
   "metadata": {},
   "outputs": [
    {
     "data": {
      "text/plain": [
       "10"
      ]
     },
     "execution_count": 40,
     "metadata": {},
     "output_type": "execute_result"
    }
   ],
   "source": [
    "len(num1)"
   ]
  },
  {
   "cell_type": "code",
   "execution_count": 41,
   "id": "dac76f1c-2fc1-4f5a-a29c-57e81eefbec3",
   "metadata": {},
   "outputs": [
    {
     "data": {
      "text/plain": [
       "7"
      ]
     },
     "execution_count": 41,
     "metadata": {},
     "output_type": "execute_result"
    }
   ],
   "source": [
    "max(num1)"
   ]
  },
  {
   "cell_type": "code",
   "execution_count": 42,
   "id": "a8cfe6fa-e0d2-4b4a-a501-fe638257a9a0",
   "metadata": {},
   "outputs": [
    {
     "data": {
      "text/plain": [
       "0"
      ]
     },
     "execution_count": 42,
     "metadata": {},
     "output_type": "execute_result"
    }
   ],
   "source": [
    "min(num1)"
   ]
  },
  {
   "cell_type": "code",
   "execution_count": 43,
   "id": "477f71e8-3634-4520-b205-ad73bb65c466",
   "metadata": {},
   "outputs": [
    {
     "name": "stdout",
     "output_type": "stream",
     "text": [
      "<class 'list'>\n"
     ]
    }
   ],
   "source": [
    "lst = [1, 2, 3, 4, 5]\n",
    "print(type(lst))"
   ]
  },
  {
   "cell_type": "code",
   "execution_count": 44,
   "id": "d18a5f5a-d736-4efb-907d-7c722de0c1c7",
   "metadata": {},
   "outputs": [],
   "source": [
    "tpl = tuple(lst)"
   ]
  },
  {
   "cell_type": "code",
   "execution_count": 45,
   "id": "c6729336-08b6-4b17-975a-96d91445e3a6",
   "metadata": {},
   "outputs": [
    {
     "name": "stdout",
     "output_type": "stream",
     "text": [
      "(1, 2, 3, 4, 5)\n"
     ]
    }
   ],
   "source": [
    "print(tpl)"
   ]
  },
  {
   "cell_type": "code",
   "execution_count": 46,
   "id": "8d52a2c2-e1ab-4955-bacf-b45034de3172",
   "metadata": {},
   "outputs": [
    {
     "data": {
      "text/plain": [
       "tuple"
      ]
     },
     "execution_count": 46,
     "metadata": {},
     "output_type": "execute_result"
    }
   ],
   "source": [
    "type(tpl)"
   ]
  },
  {
   "cell_type": "markdown",
   "id": "afb8adf9-1821-4c73-98e2-b0a1dafb621e",
   "metadata": {},
   "source": [
    "# Nesting tuples in list"
   ]
  },
  {
   "cell_type": "code",
   "execution_count": 47,
   "id": "5684dfbb-35be-4a3b-8b4b-8208e85a15ff",
   "metadata": {},
   "outputs": [
    {
     "data": {
      "text/plain": [
       "[(1, 2, 3), (4, 5, 6)]"
      ]
     },
     "execution_count": 47,
     "metadata": {},
     "output_type": "execute_result"
    }
   ],
   "source": [
    "lst = [(1, 2, 3), (4, 5, 6)]\n",
    "lst"
   ]
  },
  {
   "cell_type": "code",
   "execution_count": 48,
   "id": "6547f738-f579-4ae4-8ee4-0030bf1bc4b8",
   "metadata": {},
   "outputs": [],
   "source": [
    "lst.append((\"Tuple\", \"inside\", \"list\"))"
   ]
  },
  {
   "cell_type": "code",
   "execution_count": 49,
   "id": "143e2fef-e943-4b5d-8428-d0733c98cda7",
   "metadata": {},
   "outputs": [
    {
     "data": {
      "text/plain": [
       "[(1, 2, 3), (4, 5, 6), ('Tuple', 'inside', 'list')]"
      ]
     },
     "execution_count": 49,
     "metadata": {},
     "output_type": "execute_result"
    }
   ],
   "source": [
    "lst"
   ]
  },
  {
   "cell_type": "code",
   "execution_count": 51,
   "id": "4e8c51d7-8fe3-42f0-8fd8-400401568dc6",
   "metadata": {},
   "outputs": [],
   "source": [
    "lst.remove((1, 2, 3))"
   ]
  },
  {
   "cell_type": "code",
   "execution_count": 52,
   "id": "c27a4549-8116-4a51-943a-46f1763b9a0f",
   "metadata": {},
   "outputs": [
    {
     "data": {
      "text/plain": [
       "[(4, 5, 6), ('Tuple', 'inside', 'list')]"
      ]
     },
     "execution_count": 52,
     "metadata": {},
     "output_type": "execute_result"
    }
   ],
   "source": [
    "lst"
   ]
  },
  {
   "cell_type": "markdown",
   "id": "ae539be7-efe6-4576-b0f5-a3d47a092b2b",
   "metadata": {},
   "source": [
    "# Nesting lists within tuples"
   ]
  },
  {
   "cell_type": "code",
   "execution_count": 58,
   "id": "347c6b0c-2866-436a-9f84-0e2424263493",
   "metadata": {},
   "outputs": [
    {
     "data": {
      "text/plain": [
       "([1, 2, 3], [4, 5, 6])"
      ]
     },
     "execution_count": 58,
     "metadata": {},
     "output_type": "execute_result"
    }
   ],
   "source": [
    "tpl = ([1, 2, 3],[4, 5, 6])\n",
    "tpl"
   ]
  },
  {
   "cell_type": "code",
   "execution_count": 59,
   "id": "dc8025b2-d754-4218-970b-abcb8086ce2e",
   "metadata": {},
   "outputs": [],
   "source": [
    "tpl[0].append(4)"
   ]
  },
  {
   "cell_type": "code",
   "execution_count": 61,
   "id": "f6b09162-186d-4bf3-8caf-4ede31caf401",
   "metadata": {},
   "outputs": [
    {
     "data": {
      "text/plain": [
       "([1, 2, 3, 4], [4, 5, 6])"
      ]
     },
     "execution_count": 61,
     "metadata": {},
     "output_type": "execute_result"
    }
   ],
   "source": [
    "tpl"
   ]
  },
  {
   "cell_type": "code",
   "execution_count": 62,
   "id": "75ac200d-aa43-4b0d-9c88-2d222e3d685d",
   "metadata": {},
   "outputs": [],
   "source": [
    "tpl[0].remove(4)"
   ]
  },
  {
   "cell_type": "code",
   "execution_count": 63,
   "id": "8d17f797-1d1d-4524-a700-b7294e37cda5",
   "metadata": {},
   "outputs": [
    {
     "data": {
      "text/plain": [
       "([1, 2, 3], [4, 5, 6])"
      ]
     },
     "execution_count": 63,
     "metadata": {},
     "output_type": "execute_result"
    }
   ],
   "source": [
    "tpl"
   ]
  },
  {
   "cell_type": "code",
   "execution_count": 64,
   "id": "e75d8826-5e05-499d-8b3d-1059447acc51",
   "metadata": {},
   "outputs": [
    {
     "ename": "AttributeError",
     "evalue": "'tuple' object has no attribute 'append'",
     "output_type": "error",
     "traceback": [
      "\u001b[31m---------------------------------------------------------------------------\u001b[39m",
      "\u001b[31mAttributeError\u001b[39m                            Traceback (most recent call last)",
      "\u001b[36mCell\u001b[39m\u001b[36m \u001b[39m\u001b[32mIn[64]\u001b[39m\u001b[32m, line 1\u001b[39m\n\u001b[32m----> \u001b[39m\u001b[32m1\u001b[39m \u001b[43mtpl\u001b[49m\u001b[43m.\u001b[49m\u001b[43mappend\u001b[49m([\u001b[32m7\u001b[39m, \u001b[32m8\u001b[39m, \u001b[32m9\u001b[39m])\n",
      "\u001b[31mAttributeError\u001b[39m: 'tuple' object has no attribute 'append'"
     ]
    }
   ],
   "source": [
    "tpl.append([7, 8, 9])"
   ]
  },
  {
   "cell_type": "code",
   "execution_count": null,
   "id": "906040b8-fb5e-40f5-b0f6-d98b37d457b2",
   "metadata": {},
   "outputs": [],
   "source": []
  }
 ],
 "metadata": {
  "kernelspec": {
   "display_name": "Python 3 (ipykernel)",
   "language": "python",
   "name": "python3"
  },
  "language_info": {
   "codemirror_mode": {
    "name": "ipython",
    "version": 3
   },
   "file_extension": ".py",
   "mimetype": "text/x-python",
   "name": "python",
   "nbconvert_exporter": "python",
   "pygments_lexer": "ipython3",
   "version": "3.12.9"
  }
 },
 "nbformat": 4,
 "nbformat_minor": 5
}
