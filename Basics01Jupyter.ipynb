{
 "cells": [
  {
   "cell_type": "code",
   "execution_count": 1,
   "id": "8943f6b9-3193-493c-9c50-2724ee883ccf",
   "metadata": {},
   "outputs": [],
   "source": [
    "x=100"
   ]
  },
  {
   "cell_type": "code",
   "execution_count": 2,
   "id": "0487255b-d2a9-48a2-9d1d-624aa0ceda6a",
   "metadata": {},
   "outputs": [
    {
     "data": {
      "text/plain": [
       "int"
      ]
     },
     "execution_count": 2,
     "metadata": {},
     "output_type": "execute_result"
    }
   ],
   "source": [
    "type(x)"
   ]
  },
  {
   "cell_type": "code",
   "execution_count": 4,
   "id": "feae5909-1498-4ef9-ad57-0eb3b97510b1",
   "metadata": {},
   "outputs": [
    {
     "data": {
      "text/plain": [
       "int"
      ]
     },
     "execution_count": 4,
     "metadata": {},
     "output_type": "execute_result"
    }
   ],
   "source": [
    "x = 345*56\n",
    "type(x)"
   ]
  },
  {
   "cell_type": "code",
   "execution_count": 5,
   "id": "602b2e81-6339-48da-9fbf-4cea3ba89027",
   "metadata": {},
   "outputs": [
    {
     "name": "stdout",
     "output_type": "stream",
     "text": [
      "19320\n"
     ]
    }
   ],
   "source": [
    "print(x)"
   ]
  },
  {
   "cell_type": "code",
   "execution_count": 6,
   "id": "a348c344-d382-4430-8493-bd40c0978496",
   "metadata": {},
   "outputs": [],
   "source": [
    "x = 3.14"
   ]
  },
  {
   "cell_type": "code",
   "execution_count": 7,
   "id": "bcf020bb-6c97-4d3a-8096-2b2b2da97f1c",
   "metadata": {},
   "outputs": [
    {
     "name": "stdout",
     "output_type": "stream",
     "text": [
      "3.14\n"
     ]
    }
   ],
   "source": [
    "print(x)"
   ]
  },
  {
   "cell_type": "code",
   "execution_count": 8,
   "id": "357d21f1-af8f-4f78-97f1-eb40fb3cf087",
   "metadata": {},
   "outputs": [
    {
     "data": {
      "text/plain": [
       "float"
      ]
     },
     "execution_count": 8,
     "metadata": {},
     "output_type": "execute_result"
    }
   ],
   "source": [
    "type(x)"
   ]
  },
  {
   "cell_type": "code",
   "execution_count": 11,
   "id": "c8b14e3e-8253-40fe-b9fa-6a97e74e10c0",
   "metadata": {},
   "outputs": [
    {
     "name": "stdout",
     "output_type": "stream",
     "text": [
      "simplilearn\n",
      "<class 'str'>\n"
     ]
    }
   ],
   "source": [
    "x = \"simplilearn\"\n",
    "print(x)\n",
    "print(type(x))"
   ]
  },
  {
   "cell_type": "code",
   "execution_count": 12,
   "id": "a8e70f40-2f9a-44d7-8acb-e9cc21738153",
   "metadata": {},
   "outputs": [
    {
     "name": "stdout",
     "output_type": "stream",
     "text": [
      "Simplilearn\n",
      "<class 'str'>\n"
     ]
    }
   ],
   "source": [
    "x = 'Simplilearn'\n",
    "print(x)\n",
    "print(type(x))"
   ]
  },
  {
   "cell_type": "code",
   "execution_count": 14,
   "id": "6f509de6-ac66-4e5a-b418-665af9fe4171",
   "metadata": {},
   "outputs": [
    {
     "name": "stdout",
     "output_type": "stream",
     "text": [
      "[1, 2, 3, 4]\n",
      "<class 'list'>\n"
     ]
    }
   ],
   "source": [
    "x = [1,2,3,4]\n",
    "print(x)\n",
    "print(type(x))"
   ]
  },
  {
   "cell_type": "code",
   "execution_count": 16,
   "id": "bf1cb720-9466-436a-bb45-a2f41dc10a9b",
   "metadata": {},
   "outputs": [
    {
     "name": "stdout",
     "output_type": "stream",
     "text": [
      "3\n",
      "[1, 2, 45, 4]\n"
     ]
    }
   ],
   "source": [
    "print(x[2])\n",
    "x[2] = 45\n",
    "print(x)"
   ]
  },
  {
   "cell_type": "code",
   "execution_count": 18,
   "id": "124ab7e7-15e6-4e91-917a-a87756e1fc51",
   "metadata": {},
   "outputs": [
    {
     "name": "stdout",
     "output_type": "stream",
     "text": [
      "(23, 45, 78, 10)\n",
      "<class 'tuple'>\n"
     ]
    }
   ],
   "source": [
    "y = (23, 45, 78, 10)\n",
    "print(y)\n",
    "print(type (y))"
   ]
  },
  {
   "cell_type": "code",
   "execution_count": 19,
   "id": "49808819-e506-4207-a156-328242a03b5c",
   "metadata": {},
   "outputs": [
    {
     "name": "stdout",
     "output_type": "stream",
     "text": [
      "45\n"
     ]
    }
   ],
   "source": [
    "print(y[1])"
   ]
  },
  {
   "cell_type": "code",
   "execution_count": 20,
   "id": "b28d5cca-988e-4421-a336-56f139c684c0",
   "metadata": {},
   "outputs": [
    {
     "ename": "TypeError",
     "evalue": "'tuple' object does not support item assignment",
     "output_type": "error",
     "traceback": [
      "\u001b[31m---------------------------------------------------------------------------\u001b[39m",
      "\u001b[31mTypeError\u001b[39m                                 Traceback (most recent call last)",
      "\u001b[36mCell\u001b[39m\u001b[36m \u001b[39m\u001b[32mIn[20]\u001b[39m\u001b[32m, line 1\u001b[39m\n\u001b[32m----> \u001b[39m\u001b[32m1\u001b[39m \u001b[43my\u001b[49m\u001b[43m[\u001b[49m\u001b[32;43m1\u001b[39;49m\u001b[43m]\u001b[49m = \u001b[32m12\u001b[39m\n",
      "\u001b[31mTypeError\u001b[39m: 'tuple' object does not support item assignment"
     ]
    }
   ],
   "source": [
    "y[1] = 12"
   ]
  },
  {
   "cell_type": "code",
   "execution_count": 21,
   "id": "2f84cd0e-132d-49f1-b925-2daf45df7daf",
   "metadata": {},
   "outputs": [
    {
     "data": {
      "text/plain": [
       "_io.TextIOWrapper"
      ]
     },
     "execution_count": 21,
     "metadata": {},
     "output_type": "execute_result"
    }
   ],
   "source": [
    "y = open('JupyterNoteBookBasics.ipynb', 'r')\n",
    "type(y)"
   ]
  },
  {
   "cell_type": "code",
   "execution_count": 22,
   "id": "7059efb0-9689-4bc4-b1c8-b85ceb6e786d",
   "metadata": {},
   "outputs": [],
   "source": [
    "(x, y, z) = 2, 5, 9"
   ]
  },
  {
   "cell_type": "code",
   "execution_count": 24,
   "id": "ac6b726b-befa-451b-ad8c-22f748822d8f",
   "metadata": {},
   "outputs": [
    {
     "name": "stdout",
     "output_type": "stream",
     "text": [
      "2\n",
      "5\n",
      "9\n"
     ]
    }
   ],
   "source": [
    "print(x)\n",
    "print(y)\n",
    "print(z)"
   ]
  },
  {
   "cell_type": "code",
   "execution_count": 25,
   "id": "984dfe11-5383-4692-b70d-ae403a5d8788",
   "metadata": {},
   "outputs": [
    {
     "ename": "ValueError",
     "evalue": "too many values to unpack (expected 2)",
     "output_type": "error",
     "traceback": [
      "\u001b[31m---------------------------------------------------------------------------\u001b[39m",
      "\u001b[31mValueError\u001b[39m                                Traceback (most recent call last)",
      "\u001b[36mCell\u001b[39m\u001b[36m \u001b[39m\u001b[32mIn[25]\u001b[39m\u001b[32m, line 1\u001b[39m\n\u001b[32m----> \u001b[39m\u001b[32m1\u001b[39m (x, y) = \u001b[32m2\u001b[39m, \u001b[32m5\u001b[39m, \u001b[32m9\u001b[39m\n",
      "\u001b[31mValueError\u001b[39m: too many values to unpack (expected 2)"
     ]
    }
   ],
   "source": [
    "(x, y) = 2, 5, 9"
   ]
  },
  {
   "cell_type": "code",
   "execution_count": 26,
   "id": "77294e4f-06bb-465f-894c-9f8b80bd3fda",
   "metadata": {},
   "outputs": [
    {
     "name": "stdout",
     "output_type": "stream",
     "text": [
      "1 1 1\n"
     ]
    }
   ],
   "source": [
    "x=y=z=1\n",
    "print(x, y, z)"
   ]
  },
  {
   "cell_type": "markdown",
   "id": "6c2cde76-889a-430d-bf2d-92c4d1bc067f",
   "metadata": {},
   "source": [
    "# Naming convention for variables"
   ]
  },
  {
   "cell_type": "code",
   "execution_count": 29,
   "id": "8e545084-532d-44c1-8f90-5d06fd4ac316",
   "metadata": {},
   "outputs": [],
   "source": [
    "# _abc, abc, a100, _a45 are allowed as variables\n",
    "# 3a, @abc, a466$, xyz-2 are NOT allowed"
   ]
  },
  {
   "cell_type": "code",
   "execution_count": 31,
   "id": "cb720719-7448-4ece-8cab-21bfba88f893",
   "metadata": {},
   "outputs": [
    {
     "name": "stdout",
     "output_type": "stream",
     "text": [
      "100 200\n"
     ]
    }
   ],
   "source": [
    "a100 = 100\n",
    "A100 = 200\n",
    "print(a100, A100)\n",
    "# python is case sensitive"
   ]
  },
  {
   "cell_type": "markdown",
   "id": "4b65e541-6893-45fb-ae97-5fd073cac948",
   "metadata": {},
   "source": [
    "# Arithmetic Operators"
   ]
  },
  {
   "cell_type": "code",
   "execution_count": 32,
   "id": "9dc55801-3468-4821-b106-cda3d4230cb0",
   "metadata": {},
   "outputs": [
    {
     "name": "stdout",
     "output_type": "stream",
     "text": [
      "0\n"
     ]
    }
   ],
   "source": [
    "# +, -, *, /, //(without decimal)\n",
    "result = 2//3\n",
    "print(result)"
   ]
  },
  {
   "cell_type": "code",
   "execution_count": 34,
   "id": "278c9040-e27d-489e-815e-6225d0ceecff",
   "metadata": {},
   "outputs": [
    {
     "name": "stdout",
     "output_type": "stream",
     "text": [
      "1\n"
     ]
    }
   ],
   "source": [
    "# %\n",
    "result = 3 % 2\n",
    "print(result)"
   ]
  },
  {
   "cell_type": "code",
   "execution_count": 35,
   "id": "2f7c3060-227f-4b96-a967-f4be197aa9f3",
   "metadata": {},
   "outputs": [
    {
     "name": "stdout",
     "output_type": "stream",
     "text": [
      "0.5508771929824562\n"
     ]
    }
   ],
   "source": [
    "x = 3.14\n",
    "y = 5.7\n",
    "result = x/y\n",
    "print(result)"
   ]
  },
  {
   "cell_type": "markdown",
   "id": "f6dd8802-e7e7-499c-8d0e-9ee2de0f152f",
   "metadata": {},
   "source": [
    "# String operations"
   ]
  },
  {
   "cell_type": "code",
   "execution_count": 38,
   "id": "b336eeb1-78fc-4dbd-8305-54cecb177a2e",
   "metadata": {},
   "outputs": [
    {
     "name": "stdout",
     "output_type": "stream",
     "text": [
      "m\n",
      "l\n"
     ]
    }
   ],
   "source": [
    "var = \"Simplilearn\"\n",
    "print(var[2])\n",
    "print(var[6])"
   ]
  },
  {
   "cell_type": "code",
   "execution_count": 41,
   "id": "315aa1da-354f-41e7-8c46-4764f8715196",
   "metadata": {},
   "outputs": [
    {
     "name": "stdout",
     "output_type": "stream",
     "text": [
      "Sim\n"
     ]
    }
   ],
   "source": [
    "print(var[0:3])\n",
    "# last index is excluded here"
   ]
  },
  {
   "cell_type": "code",
   "execution_count": 43,
   "id": "50f3aff6-05d3-4e23-a84f-f91244f2609f",
   "metadata": {},
   "outputs": [
    {
     "name": "stdout",
     "output_type": "stream",
     "text": [
      "Sim\n",
      "ilearn\n"
     ]
    }
   ],
   "source": [
    "print(var[:3])\n",
    "print(var[5:])"
   ]
  },
  {
   "cell_type": "code",
   "execution_count": 44,
   "id": "30598989-2d98-4754-9ad7-ddd8e2cc0ca2",
   "metadata": {},
   "outputs": [
    {
     "name": "stdout",
     "output_type": "stream",
     "text": [
      "Simplilearn\n"
     ]
    }
   ],
   "source": [
    "print(var[0:20])"
   ]
  },
  {
   "cell_type": "code",
   "execution_count": 45,
   "id": "b919156d-b978-4dab-bf46-e737f93c98cb",
   "metadata": {},
   "outputs": [
    {
     "data": {
      "text/plain": [
       "11"
      ]
     },
     "execution_count": 45,
     "metadata": {},
     "output_type": "execute_result"
    }
   ],
   "source": [
    "len(var)"
   ]
  },
  {
   "cell_type": "code",
   "execution_count": null,
   "id": "1d40b6ed-29d2-473c-b029-38c370da4b34",
   "metadata": {},
   "outputs": [],
   "source": []
  }
 ],
 "metadata": {
  "kernelspec": {
   "display_name": "Python 3 (ipykernel)",
   "language": "python",
   "name": "python3"
  },
  "language_info": {
   "codemirror_mode": {
    "name": "ipython",
    "version": 3
   },
   "file_extension": ".py",
   "mimetype": "text/x-python",
   "name": "python",
   "nbconvert_exporter": "python",
   "pygments_lexer": "ipython3",
   "version": "3.12.9"
  }
 },
 "nbformat": 4,
 "nbformat_minor": 5
}
