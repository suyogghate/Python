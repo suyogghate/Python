{
 "cells": [
  {
   "cell_type": "code",
   "execution_count": 1,
   "id": "6b3d8c5b-8e58-4d21-97da-8fefaf0f413f",
   "metadata": {},
   "outputs": [],
   "source": [
    "# import the required library\n",
    "from bs4 import BeautifulSoup"
   ]
  },
  {
   "cell_type": "code",
   "execution_count": 2,
   "id": "3474f365-a306-4750-842a-6fdf2215093b",
   "metadata": {},
   "outputs": [],
   "source": [
    "# create employee html document\n",
    "employee_html_doc = \"\"\"<employees>\n",
    "    <employee class=\"accountant\">\n",
    "        <firstName>John</firstName> <lastName>Doe</lastName>\n",
    "    </employee>\n",
    "    <employee class=\"manager\">\n",
    "        <firstName>Anna</firstName> <lastName>Smith</lastName>\n",
    "    </employee>\n",
    "    <employee class=\"developer\">\n",
    "        <firstName>Peter</firstName> <lastName>Jones</lastName>\n",
    "    </employee>\n",
    "</employees>\"\"\""
   ]
  },
  {
   "cell_type": "code",
   "execution_count": 5,
   "id": "67a7ef56-8ae3-4ed3-8d0c-da6ab2ab1250",
   "metadata": {},
   "outputs": [],
   "source": [
    "# create soup object\n",
    "soup_emp = BeautifulSoup(employee_html_doc, 'html.parser')"
   ]
  },
  {
   "cell_type": "code",
   "execution_count": 6,
   "id": "7002f338-0277-4e26-9235-06d3c2d0a5ca",
   "metadata": {},
   "outputs": [
    {
     "data": {
      "text/plain": [
       "<employee class=\"accountant\">\n",
       "<firstname>John</firstname> <lastname>Doe</lastname>\n",
       "</employee>"
      ]
     },
     "execution_count": 6,
     "metadata": {},
     "output_type": "execute_result"
    }
   ],
   "source": [
    "# access and view tag\n",
    "tag = soup_emp.employee\n",
    "tag"
   ]
  },
  {
   "cell_type": "code",
   "execution_count": 7,
   "id": "74c37f52-fada-4a94-997d-c41f95d75fad",
   "metadata": {},
   "outputs": [],
   "source": [
    "# modify the tag\n",
    "tag['class'] = 'manager'"
   ]
  },
  {
   "cell_type": "code",
   "execution_count": 8,
   "id": "ec541c04-ca73-4726-b64f-7c15739d307a",
   "metadata": {},
   "outputs": [
    {
     "data": {
      "text/plain": [
       "<employee class=\"manager\">\n",
       "<firstname>John</firstname> <lastname>Doe</lastname>\n",
       "</employee>"
      ]
     },
     "execution_count": 8,
     "metadata": {},
     "output_type": "execute_result"
    }
   ],
   "source": [
    "# view the tag to see modification\n",
    "tag"
   ]
  },
  {
   "cell_type": "code",
   "execution_count": 9,
   "id": "3223aa2d-b9e1-4bc3-8b60-137a2b1af762",
   "metadata": {},
   "outputs": [
    {
     "data": {
      "text/plain": [
       "<employees>\n",
       "<employee class=\"manager\">\n",
       "<firstname>John</firstname> <lastname>Doe</lastname>\n",
       "</employee>\n",
       "<employee class=\"manager\">\n",
       "<firstname>Anna</firstname> <lastname>Smith</lastname>\n",
       "</employee>\n",
       "<employee class=\"developer\">\n",
       "<firstname>Peter</firstname> <lastname>Jones</lastname>\n",
       "</employee>\n",
       "</employees>"
      ]
     },
     "execution_count": 9,
     "metadata": {},
     "output_type": "execute_result"
    }
   ],
   "source": [
    "# view the soup object to verify the modification\n",
    "soup_emp"
   ]
  },
  {
   "cell_type": "code",
   "execution_count": 10,
   "id": "d0cf4910-72a1-4929-a8fe-390f6e77d773",
   "metadata": {},
   "outputs": [
    {
     "data": {
      "text/plain": [
       "[<rank>Manager 1</rank>]"
      ]
     },
     "execution_count": 10,
     "metadata": {},
     "output_type": "execute_result"
    }
   ],
   "source": [
    "# add a tag\n",
    "tag = soup_emp.new_tag('rank')\n",
    "tag.string = 'Manager 1'\n",
    "# modify using insert_after method\n",
    "soup_emp.employees.employee.insert_after(tag)"
   ]
  },
  {
   "cell_type": "code",
   "execution_count": 11,
   "id": "dfb494d9-600d-4f84-bdff-51dbb54db594",
   "metadata": {},
   "outputs": [
    {
     "name": "stdout",
     "output_type": "stream",
     "text": [
      "<employees>\n",
      "<employee class=\"manager\">\n",
      "<firstname>John</firstname> <lastname>Doe</lastname>\n",
      "</employee><rank>Manager 1</rank>\n",
      "<employee class=\"manager\">\n",
      "<firstname>Anna</firstname> <lastname>Smith</lastname>\n",
      "</employee>\n",
      "<employee class=\"developer\">\n",
      "<firstname>Peter</firstname> <lastname>Jones</lastname>\n",
      "</employee>\n",
      "</employees>\n"
     ]
    }
   ],
   "source": [
    "# view the soup object\n",
    "print(soup_emp)"
   ]
  },
  {
   "cell_type": "code",
   "execution_count": 12,
   "id": "96cc5355-7f7a-4f04-9d00-9ec2a4b2780f",
   "metadata": {},
   "outputs": [],
   "source": [
    "# clear all the modified tag\n",
    "tag.clear()"
   ]
  },
  {
   "cell_type": "code",
   "execution_count": 13,
   "id": "580c28c7-57ae-4194-b710-734d4c7daee2",
   "metadata": {},
   "outputs": [
    {
     "name": "stdout",
     "output_type": "stream",
     "text": [
      "<employees>\n",
      "<employee class=\"manager\">\n",
      "<firstname>John</firstname> <lastname>Doe</lastname>\n",
      "</employee><rank></rank>\n",
      "<employee class=\"manager\">\n",
      "<firstname>Anna</firstname> <lastname>Smith</lastname>\n",
      "</employee>\n",
      "<employee class=\"developer\">\n",
      "<firstname>Peter</firstname> <lastname>Jones</lastname>\n",
      "</employee>\n",
      "</employees>\n"
     ]
    }
   ],
   "source": [
    "# view the soup object\n",
    "print(soup_emp)"
   ]
  },
  {
   "cell_type": "code",
   "execution_count": 14,
   "id": "967d7cb9-08c0-4d06-b216-a3e80ad21cc3",
   "metadata": {},
   "outputs": [
    {
     "data": {
      "text/plain": [
       "<employee class=\"manager\">\n",
       "<firstname>John</firstname> <lastname>Doe</lastname>\n",
       "</employee>"
      ]
     },
     "execution_count": 14,
     "metadata": {},
     "output_type": "execute_result"
    }
   ],
   "source": [
    "# create a tag object and view it\n",
    "tag = soup_emp.employees.employee\n",
    "tag"
   ]
  },
  {
   "cell_type": "code",
   "execution_count": 15,
   "id": "56974f6b-747e-471c-bfad-b8de453947f1",
   "metadata": {},
   "outputs": [
    {
     "data": {
      "text/plain": [
       "'John'"
      ]
     },
     "execution_count": 15,
     "metadata": {},
     "output_type": "execute_result"
    }
   ],
   "source": [
    "# extract the information using extract method\n",
    "tag.firstname.string.extract()"
   ]
  },
  {
   "cell_type": "code",
   "execution_count": 16,
   "id": "fa8d4d2e-c0f0-49e7-93f7-ddfe07e4fc9e",
   "metadata": {},
   "outputs": [
    {
     "data": {
      "text/plain": [
       "<firstname></firstname>"
      ]
     },
     "execution_count": 16,
     "metadata": {},
     "output_type": "execute_result"
    }
   ],
   "source": [
    "# modify the tag name\n",
    "tag.firstname.replace_with('first name')"
   ]
  },
  {
   "cell_type": "code",
   "execution_count": 17,
   "id": "83682908-fceb-4e31-ad6a-a436e079f749",
   "metadata": {},
   "outputs": [
    {
     "data": {
      "text/plain": [
       "<employees>\n",
       "<employee class=\"manager\">\n",
       "first name <lastname>Doe</lastname>\n",
       "</employee><rank></rank>\n",
       "<employee class=\"manager\">\n",
       "<firstname>Anna</firstname> <lastname>Smith</lastname>\n",
       "</employee>\n",
       "<employee class=\"developer\">\n",
       "<firstname>Peter</firstname> <lastname>Jones</lastname>\n",
       "</employee>\n",
       "</employees>"
      ]
     },
     "execution_count": 17,
     "metadata": {},
     "output_type": "execute_result"
    }
   ],
   "source": [
    "# view thw change\n",
    "soup_emp.employees"
   ]
  },
  {
   "cell_type": "code",
   "execution_count": null,
   "id": "084af766-8240-421a-8ae3-d5883cd733b6",
   "metadata": {},
   "outputs": [],
   "source": []
  },
  {
   "cell_type": "code",
   "execution_count": null,
   "id": "a177aae9-c65f-4d8b-b40f-2e4b98a835ca",
   "metadata": {},
   "outputs": [],
   "source": []
  },
  {
   "cell_type": "code",
   "execution_count": null,
   "id": "2e354f3f-51f1-4f0f-8f38-deba7e2f7156",
   "metadata": {},
   "outputs": [],
   "source": []
  }
 ],
 "metadata": {
  "kernelspec": {
   "display_name": "Python 3 (ipykernel)",
   "language": "python",
   "name": "python3"
  },
  "language_info": {
   "codemirror_mode": {
    "name": "ipython",
    "version": 3
   },
   "file_extension": ".py",
   "mimetype": "text/x-python",
   "name": "python",
   "nbconvert_exporter": "python",
   "pygments_lexer": "ipython3",
   "version": "3.12.9"
  }
 },
 "nbformat": 4,
 "nbformat_minor": 5
}
