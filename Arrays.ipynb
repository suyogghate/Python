{
 "cells": [
  {
   "cell_type": "code",
   "execution_count": 2,
   "id": "0ce78511-627a-414b-b443-7bc7798417d6",
   "metadata": {},
   "outputs": [
    {
     "name": "stdout",
     "output_type": "stream",
     "text": [
      "array('i', [-1, 2, 3, 4])\n"
     ]
    }
   ],
   "source": [
    "from array import *\n",
    "\n",
    "arr = array('i', [-1, 2, 3, 4])\n",
    "print(arr)"
   ]
  },
  {
   "cell_type": "code",
   "execution_count": 3,
   "id": "0864e632-cf20-4a95-baf0-a0a0b14278a1",
   "metadata": {},
   "outputs": [
    {
     "name": "stdout",
     "output_type": "stream",
     "text": [
      "(1382629745824, 4)\n"
     ]
    }
   ],
   "source": [
    "print(arr.buffer_info())\n",
    "# tells us the memory locations and how much resources we are using"
   ]
  },
  {
   "cell_type": "code",
   "execution_count": 4,
   "id": "a3bbc8c4-ece2-40d1-887d-5c25736201e1",
   "metadata": {},
   "outputs": [
    {
     "name": "stdout",
     "output_type": "stream",
     "text": [
      "3\n"
     ]
    }
   ],
   "source": [
    "print(arr[2])"
   ]
  },
  {
   "cell_type": "code",
   "execution_count": 5,
   "id": "9677a684-8cad-4005-b07e-f9bf94e57ca1",
   "metadata": {},
   "outputs": [
    {
     "name": "stdout",
     "output_type": "stream",
     "text": [
      "-1234"
     ]
    }
   ],
   "source": [
    "for i in arr:\n",
    "    print(i, end=\"\")"
   ]
  },
  {
   "cell_type": "code",
   "execution_count": 6,
   "id": "32937726-7a62-497f-8414-8f144408504e",
   "metadata": {},
   "outputs": [
    {
     "name": "stdout",
     "output_type": "stream",
     "text": [
      "1 2\n",
      "2 3\n",
      "3 4\n"
     ]
    }
   ],
   "source": [
    "for pnt in range(1, 4):\n",
    "    print(pnt, arr[pnt])"
   ]
  },
  {
   "cell_type": "code",
   "execution_count": 7,
   "id": "5616aaf1-5277-4bd2-8252-f4a85069368a",
   "metadata": {},
   "outputs": [
    {
     "name": "stdout",
     "output_type": "stream",
     "text": [
      "array('i', [4, 3, 2, -1])\n"
     ]
    }
   ],
   "source": [
    "arr.reverse()\n",
    "print(arr)"
   ]
  },
  {
   "cell_type": "code",
   "execution_count": 8,
   "id": "d7637111-be83-42ea-8929-2a0bf493ecbe",
   "metadata": {},
   "outputs": [
    {
     "name": "stdout",
     "output_type": "stream",
     "text": [
      "array('i', [4, 3, 2, -1, 10])\n"
     ]
    }
   ],
   "source": [
    "arr.append(10)\n",
    "print(arr)"
   ]
  },
  {
   "cell_type": "code",
   "execution_count": 9,
   "id": "52870c94-de1d-4eb7-9a4c-e41c6adb6314",
   "metadata": {},
   "outputs": [
    {
     "name": "stdout",
     "output_type": "stream",
     "text": [
      "array('i', [-1, 3, 4, 2])\n"
     ]
    }
   ],
   "source": [
    "arr = array('i', [-1, 2, 3, 4, 2])\n",
    "arr.remove(2)   # removes the first occurance only\n",
    "print(arr)"
   ]
  },
  {
   "cell_type": "code",
   "execution_count": 11,
   "id": "3bc0c14a-6afe-4b29-b22e-da16f9ca731e",
   "metadata": {},
   "outputs": [
    {
     "name": "stdout",
     "output_type": "stream",
     "text": [
      "2\n",
      "2\n"
     ]
    }
   ],
   "source": [
    "print(arr[3])\n",
    "print(arr.index(4))"
   ]
  },
  {
   "cell_type": "code",
   "execution_count": 13,
   "id": "c6baa7e8-8413-43d4-a7ab-8fb556b13710",
   "metadata": {},
   "outputs": [
    {
     "name": "stdin",
     "output_type": "stream",
     "text": [
      "Enter size of array:  4\n"
     ]
    },
    {
     "name": "stdout",
     "output_type": "stream",
     "text": [
      "Enter 4 elements: \n"
     ]
    },
    {
     "name": "stdin",
     "output_type": "stream",
     "text": [
      " 1\n",
      " 2\n",
      " 3\n",
      " 4\n"
     ]
    },
    {
     "name": "stdout",
     "output_type": "stream",
     "text": [
      "array('i', [1, 2, 3, 4])\n"
     ]
    }
   ],
   "source": [
    "from array import *\n",
    "\n",
    "arr = array(\"i\", [])\n",
    "x = int(input(\"Enter size of array: \"))\n",
    "print(f\"Enter {x} elements: \")\n",
    "for i in range(x):\n",
    "    n = int(input())\n",
    "    arr.append(n)\n",
    "print(arr)"
   ]
  },
  {
   "cell_type": "code",
   "execution_count": null,
   "id": "bd888bb4-fd88-4602-9d9d-204d01f36cf3",
   "metadata": {},
   "outputs": [],
   "source": []
  }
 ],
 "metadata": {
  "kernelspec": {
   "display_name": "Python 3 (ipykernel)",
   "language": "python",
   "name": "python3"
  },
  "language_info": {
   "codemirror_mode": {
    "name": "ipython",
    "version": 3
   },
   "file_extension": ".py",
   "mimetype": "text/x-python",
   "name": "python",
   "nbconvert_exporter": "python",
   "pygments_lexer": "ipython3",
   "version": "3.12.9"
  }
 },
 "nbformat": 4,
 "nbformat_minor": 5
}
