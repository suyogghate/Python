{
 "cells": [
  {
   "cell_type": "markdown",
   "id": "5d9174a8-53bc-48ef-a33f-67bfe409d38c",
   "metadata": {},
   "source": [
    "# Creating a List"
   ]
  },
  {
   "cell_type": "code",
   "execution_count": 1,
   "id": "c87a6fe9-68eb-4ec7-825e-4cbc2205c45c",
   "metadata": {},
   "outputs": [],
   "source": [
    "num = [1, 2, 3, 4, 5]"
   ]
  },
  {
   "cell_type": "code",
   "execution_count": 2,
   "id": "79474c83-3ec9-4120-8475-f7b1c8ae8904",
   "metadata": {},
   "outputs": [
    {
     "name": "stdout",
     "output_type": "stream",
     "text": [
      "[1, 2, 3, 4, 5]\n"
     ]
    }
   ],
   "source": [
    "print(num)"
   ]
  },
  {
   "cell_type": "code",
   "execution_count": 3,
   "id": "b56c15b0-f024-4965-886b-50e977d2e0df",
   "metadata": {},
   "outputs": [
    {
     "name": "stdout",
     "output_type": "stream",
     "text": [
      "['r', 't', 'y', 'u']\n"
     ]
    }
   ],
   "source": [
    "letter = ['r', 't', 'y', 'u']\n",
    "print(letter)"
   ]
  },
  {
   "cell_type": "code",
   "execution_count": 4,
   "id": "feed9a0c-d094-4072-85a2-e3bab775a907",
   "metadata": {},
   "outputs": [
    {
     "name": "stdout",
     "output_type": "stream",
     "text": [
      "['apple', 'banana', 'mango', 'grapes']\n"
     ]
    }
   ],
   "source": [
    "fruits = [\"apple\", \"banana\", \"mango\", \"grapes\"]\n",
    "print(fruits)"
   ]
  },
  {
   "cell_type": "code",
   "execution_count": 13,
   "id": "0c7236f1-0b7d-4c9d-86f0-ed06008d7362",
   "metadata": {},
   "outputs": [
    {
     "name": "stdout",
     "output_type": "stream",
     "text": [
      "[2, 'Simplilearn', 'get', 'certified', True, 6.45]\n"
     ]
    }
   ],
   "source": [
    "mix = [2, \"Simplilearn\", \"get\", \"certified\", True, 6.45]\n",
    "print(mix)"
   ]
  },
  {
   "cell_type": "code",
   "execution_count": 7,
   "id": "cf27a3c6-d4f5-42ef-b1ab-41ef51c59894",
   "metadata": {},
   "outputs": [
    {
     "name": "stdout",
     "output_type": "stream",
     "text": [
      "[[1, 2], ['a', 'b']]\n"
     ]
    }
   ],
   "source": [
    "mat = [[1, 2], ['a', 'b']]\n",
    "print(mat)"
   ]
  },
  {
   "cell_type": "markdown",
   "id": "0e104b7e-7dcc-4ff6-9068-f64cd086f16a",
   "metadata": {},
   "source": [
    "# Accessing elements in List"
   ]
  },
  {
   "cell_type": "code",
   "execution_count": 8,
   "id": "ef4f308d-158e-45f5-92cd-7ea1aff9d1a1",
   "metadata": {},
   "outputs": [
    {
     "name": "stdout",
     "output_type": "stream",
     "text": [
      "[2, 'Simplilearn', True, 6.45]\n"
     ]
    }
   ],
   "source": [
    "print(mix)"
   ]
  },
  {
   "cell_type": "code",
   "execution_count": 9,
   "id": "677ca72b-fbe8-455f-92d6-325436d743cb",
   "metadata": {},
   "outputs": [
    {
     "data": {
      "text/plain": [
       "True"
      ]
     },
     "execution_count": 9,
     "metadata": {},
     "output_type": "execute_result"
    }
   ],
   "source": [
    "mix[2]"
   ]
  },
  {
   "cell_type": "code",
   "execution_count": 10,
   "id": "075945f1-38c3-4023-bf7f-6389a52aae26",
   "metadata": {},
   "outputs": [
    {
     "data": {
      "text/plain": [
       "True"
      ]
     },
     "execution_count": 10,
     "metadata": {},
     "output_type": "execute_result"
    }
   ],
   "source": [
    "mix[-2]"
   ]
  },
  {
   "cell_type": "code",
   "execution_count": 11,
   "id": "e7bad223-b54a-46ae-9db0-c459b14e1ae5",
   "metadata": {},
   "outputs": [
    {
     "data": {
      "text/plain": [
       "[2, 'Simplilearn', True]"
      ]
     },
     "execution_count": 11,
     "metadata": {},
     "output_type": "execute_result"
    }
   ],
   "source": [
    "mix[0:3]"
   ]
  },
  {
   "cell_type": "code",
   "execution_count": 12,
   "id": "70d8d5c9-b052-4be2-9d4d-90cfddb10d25",
   "metadata": {},
   "outputs": [
    {
     "data": {
      "text/plain": [
       "[6.45]"
      ]
     },
     "execution_count": 12,
     "metadata": {},
     "output_type": "execute_result"
    }
   ],
   "source": [
    "mix[3:]"
   ]
  },
  {
   "cell_type": "code",
   "execution_count": 14,
   "id": "506370aa-daf7-4747-a46c-298d842680d9",
   "metadata": {},
   "outputs": [
    {
     "data": {
      "text/plain": [
       "['Simplilearn', 'get', 'certified']"
      ]
     },
     "execution_count": 14,
     "metadata": {},
     "output_type": "execute_result"
    }
   ],
   "source": [
    "mix[1:4]"
   ]
  },
  {
   "cell_type": "code",
   "execution_count": 15,
   "id": "716708cd-69ca-48c6-9988-fd98bbdf6262",
   "metadata": {},
   "outputs": [
    {
     "data": {
      "text/plain": [
       "[2, 'get', True]"
      ]
     },
     "execution_count": 15,
     "metadata": {},
     "output_type": "execute_result"
    }
   ],
   "source": [
    "mix[::2]"
   ]
  },
  {
   "cell_type": "code",
   "execution_count": 16,
   "id": "7973ce6b-d523-4d4c-9a76-67542f09b358",
   "metadata": {},
   "outputs": [
    {
     "data": {
      "text/plain": [
       "[6.45, True, 'certified', 'get', 'Simplilearn', 2]"
      ]
     },
     "execution_count": 16,
     "metadata": {},
     "output_type": "execute_result"
    }
   ],
   "source": [
    "mix[::-1]"
   ]
  },
  {
   "cell_type": "markdown",
   "id": "a9757599-d49b-4261-a62c-470ae0a74dd3",
   "metadata": {},
   "source": [
    "# Operations on List"
   ]
  },
  {
   "cell_type": "code",
   "execution_count": 17,
   "id": "00c027a6-a150-4f34-969a-6887a3b862b0",
   "metadata": {},
   "outputs": [
    {
     "name": "stdout",
     "output_type": "stream",
     "text": [
      "[0, 0, 0, 0, 0, 0, 0, 0, 0, 0, 0, 0, 0, 0, 0, 0, 0, 0, 0, 0, 0, 0, 0, 0, 0, 0, 0, 0, 0, 0, 0, 0, 0, 0, 0, 0, 0, 0, 0, 0, 0, 0, 0, 0, 0, 0, 0, 0, 0, 0, 0, 0, 0, 0, 0, 0, 0, 0, 0, 0, 0, 0, 0, 0, 0, 0, 0, 0, 0, 0, 0, 0, 0, 0, 0, 0, 0, 0, 0, 0, 0, 0, 0, 0, 0, 0, 0, 0, 0, 0, 0, 0, 0, 0, 0, 0, 0, 0, 0, 0]\n"
     ]
    }
   ],
   "source": [
    "z = [0] * 100\n",
    "print(z)"
   ]
  },
  {
   "cell_type": "code",
   "execution_count": 18,
   "id": "646617ea-51cb-4f27-90d4-460482b1d3db",
   "metadata": {},
   "outputs": [
    {
     "name": "stdout",
     "output_type": "stream",
     "text": [
      "['r', 't', 'y', 'u']\n"
     ]
    }
   ],
   "source": [
    "print(letter)"
   ]
  },
  {
   "cell_type": "code",
   "execution_count": 19,
   "id": "13a4e199-bdd1-4732-91a4-9cdca535c68a",
   "metadata": {},
   "outputs": [
    {
     "name": "stdout",
     "output_type": "stream",
     "text": [
      "['apple', 'banana', 'mango', 'grapes']\n"
     ]
    }
   ],
   "source": [
    "print(fruits)"
   ]
  },
  {
   "cell_type": "code",
   "execution_count": 20,
   "id": "32457466-8a9c-4344-baa6-8a36aad00ba1",
   "metadata": {},
   "outputs": [],
   "source": [
    "conc = letter + fruits"
   ]
  },
  {
   "cell_type": "code",
   "execution_count": 21,
   "id": "39fe4cbc-757a-48bc-9139-5c86097103c0",
   "metadata": {},
   "outputs": [
    {
     "name": "stdout",
     "output_type": "stream",
     "text": [
      "['r', 't', 'y', 'u', 'apple', 'banana', 'mango', 'grapes']\n"
     ]
    }
   ],
   "source": [
    "print(conc)"
   ]
  },
  {
   "cell_type": "code",
   "execution_count": 22,
   "id": "0076b88a-2da6-4cae-b146-82f6503d5888",
   "metadata": {},
   "outputs": [
    {
     "name": "stdout",
     "output_type": "stream",
     "text": [
      "['H', 'e', 'y', ' ', 't', 'h', 'e', 'r', 'e']\n"
     ]
    }
   ],
   "source": [
    "var = list(\"Hey there\")\n",
    "print(var)"
   ]
  },
  {
   "cell_type": "code",
   "execution_count": 23,
   "id": "34319c95-634d-4739-8270-f9c3d38dce69",
   "metadata": {},
   "outputs": [
    {
     "name": "stdout",
     "output_type": "stream",
     "text": [
      "[1, 2, 3, 4, 5]\n"
     ]
    }
   ],
   "source": [
    "print(num)"
   ]
  },
  {
   "cell_type": "code",
   "execution_count": 26,
   "id": "288026c9-a6e1-4f70-a7f8-c570d49abe54",
   "metadata": {},
   "outputs": [
    {
     "name": "stdout",
     "output_type": "stream",
     "text": [
      "1\n",
      "[2, 3, 4, 5]\n"
     ]
    }
   ],
   "source": [
    "two, *other = num\n",
    "print(two)\n",
    "print(other)"
   ]
  },
  {
   "cell_type": "code",
   "execution_count": 27,
   "id": "80cbd759-9f6c-45d1-8952-c501feb4a637",
   "metadata": {},
   "outputs": [
    {
     "name": "stdout",
     "output_type": "stream",
     "text": [
      "1\n",
      "[2, 3, 4, 5]\n"
     ]
    }
   ],
   "source": [
    "two, *other = num\n",
    "print(two)\n",
    "print(other)"
   ]
  },
  {
   "cell_type": "markdown",
   "id": "2b016abf-c461-4c06-8012-3b4735dabb5b",
   "metadata": {},
   "source": [
    "# Methods in List"
   ]
  },
  {
   "cell_type": "code",
   "execution_count": 28,
   "id": "186ecdb4-2352-4f10-bf60-5d2b339a403b",
   "metadata": {},
   "outputs": [
    {
     "name": "stdout",
     "output_type": "stream",
     "text": [
      "[1, 2, 3, 4, 5]\n"
     ]
    }
   ],
   "source": [
    "print(num)"
   ]
  },
  {
   "cell_type": "code",
   "execution_count": 29,
   "id": "94959d08-6dec-4a71-83d7-29436ea09209",
   "metadata": {},
   "outputs": [
    {
     "data": {
      "text/plain": [
       "[1, 2, 3, 4, 5, 6]"
      ]
     },
     "execution_count": 29,
     "metadata": {},
     "output_type": "execute_result"
    }
   ],
   "source": [
    "num.append(6)\n",
    "num"
   ]
  },
  {
   "cell_type": "code",
   "execution_count": 30,
   "id": "f376547a-80a7-4499-9fea-cc82bb651a59",
   "metadata": {},
   "outputs": [
    {
     "name": "stdout",
     "output_type": "stream",
     "text": [
      "['apple', 'banana', 'mango', 'grapes']\n"
     ]
    }
   ],
   "source": [
    "num.extend(fruits)\n",
    "print(fruits)"
   ]
  },
  {
   "cell_type": "code",
   "execution_count": 31,
   "id": "5e77ae8d-de55-43aa-9d4c-681e1efb2ded",
   "metadata": {},
   "outputs": [
    {
     "name": "stdout",
     "output_type": "stream",
     "text": [
      "[1, 2, 3, 4, 5, 6, 'apple', 'banana', 'mango', 'grapes']\n"
     ]
    }
   ],
   "source": [
    "print(num)"
   ]
  },
  {
   "cell_type": "code",
   "execution_count": 32,
   "id": "63ed3673-45ba-41b0-bda4-e7f10e56e9c6",
   "metadata": {},
   "outputs": [
    {
     "data": {
      "text/plain": [
       "[1, 2, 3, 'Python', 4, 5, 6, 'apple', 'banana', 'mango', 'grapes']"
      ]
     },
     "execution_count": 32,
     "metadata": {},
     "output_type": "execute_result"
    }
   ],
   "source": [
    "num.insert(3, \"Python\")\n",
    "num"
   ]
  },
  {
   "cell_type": "code",
   "execution_count": 33,
   "id": "05aaac57-9746-426f-846e-35b1de8a97e5",
   "metadata": {},
   "outputs": [
    {
     "data": {
      "text/plain": [
       "[1, 2, 3, 4, 5, 6, 'apple', 'banana', 'mango', 'grapes']"
      ]
     },
     "execution_count": 33,
     "metadata": {},
     "output_type": "execute_result"
    }
   ],
   "source": [
    "num.remove(\"Python\")\n",
    "num"
   ]
  },
  {
   "cell_type": "code",
   "execution_count": 34,
   "id": "22ee7b45-7585-4079-af49-2f7378922bba",
   "metadata": {},
   "outputs": [
    {
     "data": {
      "text/plain": [
       "['f', 'k', 'o', 'q', 't', 'z']"
      ]
     },
     "execution_count": 34,
     "metadata": {},
     "output_type": "execute_result"
    }
   ],
   "source": [
    "var1 = ['f', 'k', 'z', 't', 'o', 'q']\n",
    "var1.sort()\n",
    "var1"
   ]
  },
  {
   "cell_type": "markdown",
   "id": "1c42177d-f518-494d-b602-db8138cfa72f",
   "metadata": {},
   "source": [
    "# Built-in functions in List"
   ]
  },
  {
   "cell_type": "code",
   "execution_count": 35,
   "id": "d128ead8-cdd7-465c-8fa3-39f999027c0f",
   "metadata": {},
   "outputs": [
    {
     "data": {
      "text/plain": [
       "7"
      ]
     },
     "execution_count": 35,
     "metadata": {},
     "output_type": "execute_result"
    }
   ],
   "source": [
    "x = [2, 67, 1, 4, 44, 90, 24]\n",
    "len(x)"
   ]
  },
  {
   "cell_type": "code",
   "execution_count": 36,
   "id": "5adf1eaa-b3a2-41ca-a395-07d7bcb5675e",
   "metadata": {},
   "outputs": [
    {
     "data": {
      "text/plain": [
       "1"
      ]
     },
     "execution_count": 36,
     "metadata": {},
     "output_type": "execute_result"
    }
   ],
   "source": [
    "min(x)"
   ]
  },
  {
   "cell_type": "code",
   "execution_count": 37,
   "id": "641ae069-7ffb-43cc-8549-ebe146804b18",
   "metadata": {},
   "outputs": [
    {
     "data": {
      "text/plain": [
       "90"
      ]
     },
     "execution_count": 37,
     "metadata": {},
     "output_type": "execute_result"
    }
   ],
   "source": [
    "max(x)"
   ]
  },
  {
   "cell_type": "code",
   "execution_count": 38,
   "id": "c4d62e13-f929-4066-9f51-94cafa26f3ee",
   "metadata": {},
   "outputs": [
    {
     "data": {
      "text/plain": [
       "232"
      ]
     },
     "execution_count": 38,
     "metadata": {},
     "output_type": "execute_result"
    }
   ],
   "source": [
    "sum(x)"
   ]
  },
  {
   "cell_type": "code",
   "execution_count": 39,
   "id": "d9551cc0-6a0d-4f29-b426-b4bf53dce3e2",
   "metadata": {},
   "outputs": [
    {
     "data": {
      "text/plain": [
       "33.142857142857146"
      ]
     },
     "execution_count": 39,
     "metadata": {},
     "output_type": "execute_result"
    }
   ],
   "source": [
    "sum(x) / len(x)"
   ]
  },
  {
   "cell_type": "code",
   "execution_count": null,
   "id": "70e2e95c-0b57-488e-a01b-e01920fac729",
   "metadata": {},
   "outputs": [],
   "source": []
  }
 ],
 "metadata": {
  "kernelspec": {
   "display_name": "Python 3 (ipykernel)",
   "language": "python",
   "name": "python3"
  },
  "language_info": {
   "codemirror_mode": {
    "name": "ipython",
    "version": 3
   },
   "file_extension": ".py",
   "mimetype": "text/x-python",
   "name": "python",
   "nbconvert_exporter": "python",
   "pygments_lexer": "ipython3",
   "version": "3.12.9"
  }
 },
 "nbformat": 4,
 "nbformat_minor": 5
}
