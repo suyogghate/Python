{
 "cells": [
  {
   "cell_type": "code",
   "execution_count": 1,
   "id": "9848d0c9-7c34-42ef-863e-9b41fed8aa93",
   "metadata": {},
   "outputs": [
    {
     "name": "stdout",
     "output_type": "stream",
     "text": [
      "Today is Thursday\n",
      "Tommorow in Friday\n",
      "I am waiting for weekend\n"
     ]
    }
   ],
   "source": [
    "import os\n",
    "file = open('today.txt', 'r')\n",
    "print(file.read())\n",
    "file.close()"
   ]
  },
  {
   "cell_type": "code",
   "execution_count": 2,
   "id": "0976e6eb-5b3c-429d-b205-69360f45671d",
   "metadata": {},
   "outputs": [
    {
     "name": "stdout",
     "output_type": "stream",
     "text": [
      "Today i\n"
     ]
    }
   ],
   "source": [
    "file = open('today.txt', 'r')\n",
    "print(file.read(7))\n",
    "file.close()"
   ]
  },
  {
   "cell_type": "code",
   "execution_count": 4,
   "id": "5241f8bf-a2f7-4b9e-b01e-751857e878c2",
   "metadata": {},
   "outputs": [
    {
     "name": "stdout",
     "output_type": "stream",
     "text": [
      "Today is Thursday\n",
      "\n"
     ]
    }
   ],
   "source": [
    "file = open('today.txt', 'r')\n",
    "print(file.readline())\n",
    "file.close()"
   ]
  },
  {
   "cell_type": "code",
   "execution_count": 5,
   "id": "818e1d9d-1153-4bc1-b8cb-9415a474b55e",
   "metadata": {},
   "outputs": [
    {
     "name": "stdout",
     "output_type": "stream",
     "text": [
      "['Today is Thursday\\n', 'Tommorow in Friday\\n', 'I am waiting for weekend']\n"
     ]
    }
   ],
   "source": [
    "file = open('today.txt', 'r')\n",
    "print(file.readlines())\n",
    "file.close()"
   ]
  },
  {
   "cell_type": "code",
   "execution_count": 6,
   "id": "d1f5c374-2a68-4c29-ae60-738253f48654",
   "metadata": {},
   "outputs": [
    {
     "name": "stdout",
     "output_type": "stream",
     "text": [
      "Tod\n"
     ]
    }
   ],
   "source": [
    "file = open('today.txt', 'r')\n",
    "print(file.readline(3))\n",
    "file.close()"
   ]
  },
  {
   "cell_type": "code",
   "execution_count": 7,
   "id": "097584f4-aec1-4046-94c7-7072950022c0",
   "metadata": {},
   "outputs": [],
   "source": [
    "file = open('today.txt', 'w')\n",
    "file.write(\"Sunday\")\n",
    "file.write(\"Monday\")\n",
    "file.close()"
   ]
  },
  {
   "cell_type": "code",
   "execution_count": 8,
   "id": "0ef43e76-803c-4f40-9181-e60857c244d4",
   "metadata": {},
   "outputs": [],
   "source": [
    "file = open('Simplilearn.txt', 'x')\n",
    "file.write(\"Sunshine\")\n",
    "file.close()"
   ]
  },
  {
   "cell_type": "code",
   "execution_count": 9,
   "id": "8f58b6e0-62c0-40ef-9ea8-6dfb75ef9849",
   "metadata": {},
   "outputs": [],
   "source": [
    "os.remove('today.txt')"
   ]
  },
  {
   "cell_type": "code",
   "execution_count": 11,
   "id": "7fdcd59a-6502-4fc2-8954-2bf44e6b22a4",
   "metadata": {},
   "outputs": [
    {
     "name": "stdout",
     "output_type": "stream",
     "text": [
      "There is no file with name today.txt\n"
     ]
    }
   ],
   "source": [
    "if os.path.exists('E:/Python/today.txt'):\n",
    "    os.remove('today.txt')\n",
    "else:\n",
    "    print(\"There is no file with name today.txt\")"
   ]
  },
  {
   "cell_type": "code",
   "execution_count": 15,
   "id": "81361562-bf55-45c9-a0ee-f8d1e84577f9",
   "metadata": {},
   "outputs": [
    {
     "name": "stdout",
     "output_type": "stream",
     "text": [
      "[]\n"
     ]
    }
   ],
   "source": [
    "file = open('E:/Python/Simplilearn2.txt', 'r')\n",
    "for line in file:\n",
    "    print(file.readlines())\n",
    "file.close()"
   ]
  },
  {
   "cell_type": "code",
   "execution_count": null,
   "id": "ad516d80-2454-4deb-8dbc-2d9067327485",
   "metadata": {},
   "outputs": [],
   "source": []
  },
  {
   "cell_type": "code",
   "execution_count": null,
   "id": "52abd4a1-24ef-4ce8-a092-1428b670b06f",
   "metadata": {},
   "outputs": [],
   "source": []
  },
  {
   "cell_type": "code",
   "execution_count": null,
   "id": "d4a412a3-af98-4117-9bf5-8c180c196ee1",
   "metadata": {},
   "outputs": [],
   "source": []
  },
  {
   "cell_type": "code",
   "execution_count": null,
   "id": "4f2626ab-5f70-4072-8638-1aaeaeb6cde5",
   "metadata": {},
   "outputs": [],
   "source": []
  }
 ],
 "metadata": {
  "kernelspec": {
   "display_name": "Python 3 (ipykernel)",
   "language": "python",
   "name": "python3"
  },
  "language_info": {
   "codemirror_mode": {
    "name": "ipython",
    "version": 3
   },
   "file_extension": ".py",
   "mimetype": "text/x-python",
   "name": "python",
   "nbconvert_exporter": "python",
   "pygments_lexer": "ipython3",
   "version": "3.12.9"
  }
 },
 "nbformat": 4,
 "nbformat_minor": 5
}
