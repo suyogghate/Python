{
 "cells": [
  {
   "cell_type": "code",
   "execution_count": 2,
   "id": "26418efe-891d-4204-9bc2-481feed9b081",
   "metadata": {},
   "outputs": [
    {
     "name": "stdout",
     "output_type": "stream",
     "text": [
      "Inside if block\n"
     ]
    }
   ],
   "source": [
    "a=60\n",
    "if a>50:\n",
    "    print(\"Inside if block\")\n",
    "else:\n",
    "    print(\"Outside if block\")"
   ]
  },
  {
   "cell_type": "code",
   "execution_count": 7,
   "id": "b2bcd1de-361e-4514-80f1-9dc545a6f98e",
   "metadata": {},
   "outputs": [
    {
     "name": "stdin",
     "output_type": "stream",
     "text": [
      "Enter any number:  4\n"
     ]
    },
    {
     "name": "stdout",
     "output_type": "stream",
     "text": [
      "Your number is even.\n"
     ]
    }
   ],
   "source": [
    "x=int(input(\"Enter any number: \"))\n",
    "if x%2 == 0:\n",
    "    print(\"Your number is even.\")\n",
    "else:\n",
    "    print(\"Your number is odd.\")"
   ]
  },
  {
   "cell_type": "markdown",
   "id": "8879a8de-74b5-48a0-bd34-04c3188d72ec",
   "metadata": {},
   "source": [
    "# Nested if statements"
   ]
  },
  {
   "cell_type": "code",
   "execution_count": 9,
   "id": "c2b19be1-86e1-491c-a436-a9748d006dbe",
   "metadata": {},
   "outputs": [
    {
     "name": "stdout",
     "output_type": "stream",
     "text": [
      "num is grater than 25\n"
     ]
    }
   ],
   "source": [
    "num=30\n",
    "if num<25:\n",
    "    if num%2 == 0:\n",
    "        print(\"num is an even number less than 25\")\n",
    "    else:\n",
    "        print(\"num is odd number less than 25\")\n",
    "else:\n",
    "    print(\"num is grater than 25\")"
   ]
  },
  {
   "cell_type": "markdown",
   "id": "553ab1e4-b516-4f94-8891-7b9dfebce496",
   "metadata": {},
   "source": [
    "# If elif statement"
   ]
  },
  {
   "cell_type": "code",
   "execution_count": 11,
   "id": "3105af17-f0ca-43b9-8e84-975da759846d",
   "metadata": {},
   "outputs": [
    {
     "name": "stdout",
     "output_type": "stream",
     "text": [
      "This is vowel u\n"
     ]
    }
   ],
   "source": [
    "var=\"u\"\n",
    "if var=='a':\n",
    "    print(\"This is vowel a.\")\n",
    "elif var=='e':\n",
    "    print(\"This is vowel e\")\n",
    "elif var=='i':\n",
    "    print(\"This is vowel i\")\n",
    "elif var=='o':\n",
    "    print(\"This is vowel o\")\n",
    "elif var=='u':\n",
    "    print(\"This is vowel u\")\n",
    "else:\n",
    "    print(\"This is a consonant\")\n",
    "    "
   ]
  },
  {
   "cell_type": "markdown",
   "id": "37d1e86a-9bf9-4873-988b-7deccce1bd21",
   "metadata": {},
   "source": [
    "# Loops in Python"
   ]
  },
  {
   "cell_type": "code",
   "execution_count": 15,
   "id": "f62f426e-7e87-4729-9421-a72ceab753e8",
   "metadata": {},
   "outputs": [
    {
     "name": "stdin",
     "output_type": "stream",
     "text": [
      "Enter your number:  36\n"
     ]
    },
    {
     "name": "stdout",
     "output_type": "stream",
     "text": [
      "36 is not a multiple of 7\n"
     ]
    },
    {
     "name": "stdin",
     "output_type": "stream",
     "text": [
      "Enter your number:  6\n"
     ]
    },
    {
     "name": "stdout",
     "output_type": "stream",
     "text": [
      "6 is not a multiple of 7\n"
     ]
    },
    {
     "name": "stdin",
     "output_type": "stream",
     "text": [
      "Enter your number:  67\n"
     ]
    },
    {
     "name": "stdout",
     "output_type": "stream",
     "text": [
      "67 is not a multiple of 7\n"
     ]
    },
    {
     "name": "stdin",
     "output_type": "stream",
     "text": [
      "Enter your number:  21\n"
     ]
    },
    {
     "name": "stdout",
     "output_type": "stream",
     "text": [
      "21 is a multiple of 7.\n"
     ]
    }
   ],
   "source": [
    "val=int(input(\"Enter your number: \"))\n",
    "while val%7 != 0:\n",
    "    print(f\"{val} is not a multiple of 7\")\n",
    "    val=int(input(\"Enter your number: \"))\n",
    "else:\n",
    "    print(f\"{val} is a multiple of 7.\")"
   ]
  },
  {
   "cell_type": "code",
   "execution_count": 17,
   "id": "27248d3a-9b09-4b02-bcef-b8f30b60accf",
   "metadata": {},
   "outputs": [
    {
     "name": "stdout",
     "output_type": "stream",
     "text": [
      "3\n",
      "6\n",
      "7\n",
      "Simplilearn\n",
      "True\n",
      "45.2\n",
      "S\n",
      "i\n",
      "m\n",
      "p\n",
      "l\n",
      "i\n",
      "l\n",
      "e\n",
      "a\n",
      "r\n",
      "n\n"
     ]
    }
   ],
   "source": [
    "lst = [3, 6, 7, \"Simplilearn\", True, 45.2]\n",
    "for i in lst:\n",
    "    print(i)\n",
    "str = \"Simplilearn\"\n",
    "for c in str:\n",
    "    print(c)"
   ]
  },
  {
   "cell_type": "code",
   "execution_count": 20,
   "id": "8ce51724-bc8c-494a-92a6-3e14a6daf113",
   "metadata": {},
   "outputs": [
    {
     "name": "stdout",
     "output_type": "stream",
     "text": [
      "123\n",
      "abc\n"
     ]
    }
   ],
   "source": [
    "x=[[1, 2, 3], ['a', 'b', 'c']]\n",
    "for i in x:\n",
    "    for j in i:\n",
    "        print(j, end=\"\")\n",
    "    print()"
   ]
  },
  {
   "cell_type": "code",
   "execution_count": 22,
   "id": "38c42828-5f0e-4326-9fc3-5a6064f06753",
   "metadata": {},
   "outputs": [
    {
     "name": "stdout",
     "output_type": "stream",
     "text": [
      "Hey there"
     ]
    }
   ],
   "source": [
    "str = \"Hey there. How are you?\"\n",
    "for c in str:\n",
    "    if c == '.':\n",
    "        break\n",
    "    print(c, end=\"\")"
   ]
  },
  {
   "cell_type": "code",
   "execution_count": 25,
   "id": "2672ded9-9f67-41d1-b263-108dd773775d",
   "metadata": {},
   "outputs": [
    {
     "name": "stdout",
     "output_type": "stream",
     "text": [
      "1\n",
      "4\n",
      "6\n"
     ]
    }
   ],
   "source": [
    "for i in [1, 13, 56, 4, 6]:\n",
    "    if i>10:\n",
    "        continue\n",
    "    print(i)"
   ]
  },
  {
   "cell_type": "code",
   "execution_count": null,
   "id": "270035f8-af77-42e7-b29f-7c15e3ee43bb",
   "metadata": {},
   "outputs": [],
   "source": []
  },
  {
   "cell_type": "code",
   "execution_count": null,
   "id": "2a2a2ab2-e722-409e-b494-3a6b66a7f057",
   "metadata": {},
   "outputs": [],
   "source": []
  }
 ],
 "metadata": {
  "kernelspec": {
   "display_name": "Python 3 (ipykernel)",
   "language": "python",
   "name": "python3"
  },
  "language_info": {
   "codemirror_mode": {
    "name": "ipython",
    "version": 3
   },
   "file_extension": ".py",
   "mimetype": "text/x-python",
   "name": "python",
   "nbconvert_exporter": "python",
   "pygments_lexer": "ipython3",
   "version": "3.12.9"
  }
 },
 "nbformat": 4,
 "nbformat_minor": 5
}
