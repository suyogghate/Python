{
 "cells": [
  {
   "cell_type": "code",
   "execution_count": 3,
   "id": "6aa42e9c-53eb-4aa9-8e54-07fd4c0f8093",
   "metadata": {},
   "outputs": [
    {
     "name": "stdout",
     "output_type": "stream",
     "text": [
      "Collecting scikit-learn\n",
      "  Downloading scikit_learn-1.6.1-cp312-cp312-win_amd64.whl.metadata (15 kB)\n",
      "Requirement already satisfied: numpy>=1.19.5 in c:\\users\\hp\\appdata\\local\\programs\\python\\python312\\lib\\site-packages (from scikit-learn) (2.2.3)\n",
      "Collecting scipy>=1.6.0 (from scikit-learn)\n",
      "  Downloading scipy-1.15.2-cp312-cp312-win_amd64.whl.metadata (60 kB)\n",
      "Collecting joblib>=1.2.0 (from scikit-learn)\n",
      "  Downloading joblib-1.4.2-py3-none-any.whl.metadata (5.4 kB)\n",
      "Collecting threadpoolctl>=3.1.0 (from scikit-learn)\n",
      "  Downloading threadpoolctl-3.6.0-py3-none-any.whl.metadata (13 kB)\n",
      "Downloading scikit_learn-1.6.1-cp312-cp312-win_amd64.whl (11.1 MB)\n",
      "   ---------------------------------------- 0.0/11.1 MB ? eta -:--:--\n",
      "   -- ------------------------------------- 0.8/11.1 MB 4.2 MB/s eta 0:00:03\n",
      "   ----- ---------------------------------- 1.6/11.1 MB 4.4 MB/s eta 0:00:03\n",
      "   -------- ------------------------------- 2.4/11.1 MB 3.9 MB/s eta 0:00:03\n",
      "   ----------- ---------------------------- 3.1/11.1 MB 3.6 MB/s eta 0:00:03\n",
      "   -------------- ------------------------- 3.9/11.1 MB 3.8 MB/s eta 0:00:02\n",
      "   ----------------- ---------------------- 5.0/11.1 MB 4.0 MB/s eta 0:00:02\n",
      "   --------------------- ------------------ 6.0/11.1 MB 4.1 MB/s eta 0:00:02\n",
      "   ------------------------- -------------- 7.1/11.1 MB 4.2 MB/s eta 0:00:01\n",
      "   ----------------------------- ---------- 8.1/11.1 MB 4.2 MB/s eta 0:00:01\n",
      "   --------------------------------- ------ 9.2/11.1 MB 4.3 MB/s eta 0:00:01\n",
      "   ------------------------------------ --- 10.2/11.1 MB 4.4 MB/s eta 0:00:01\n",
      "   ---------------------------------------- 11.1/11.1 MB 4.3 MB/s eta 0:00:00\n",
      "Downloading joblib-1.4.2-py3-none-any.whl (301 kB)\n",
      "Downloading scipy-1.15.2-cp312-cp312-win_amd64.whl (40.9 MB)\n",
      "   ---------------------------------------- 0.0/40.9 MB ? eta -:--:--\n",
      "    --------------------------------------- 0.8/40.9 MB 3.7 MB/s eta 0:00:11\n",
      "   - -------------------------------------- 1.8/40.9 MB 4.6 MB/s eta 0:00:09\n",
      "   -- ------------------------------------- 2.6/40.9 MB 4.3 MB/s eta 0:00:09\n",
      "   --- ------------------------------------ 3.7/40.9 MB 4.5 MB/s eta 0:00:09\n",
      "   ---- ----------------------------------- 4.5/40.9 MB 4.4 MB/s eta 0:00:09\n",
      "   ----- ---------------------------------- 5.5/40.9 MB 4.5 MB/s eta 0:00:08\n",
      "   ------ --------------------------------- 6.3/40.9 MB 4.5 MB/s eta 0:00:08\n",
      "   ------- -------------------------------- 7.3/40.9 MB 4.5 MB/s eta 0:00:08\n",
      "   -------- ------------------------------- 8.4/40.9 MB 4.5 MB/s eta 0:00:08\n",
      "   --------- ------------------------------ 9.4/40.9 MB 4.6 MB/s eta 0:00:07\n",
      "   --------- ------------------------------ 10.2/40.9 MB 4.6 MB/s eta 0:00:07\n",
      "   ----------- ---------------------------- 11.3/40.9 MB 4.5 MB/s eta 0:00:07\n",
      "   ------------ --------------------------- 12.3/40.9 MB 4.6 MB/s eta 0:00:07\n",
      "   ------------ --------------------------- 13.1/40.9 MB 4.5 MB/s eta 0:00:07\n",
      "   ------------- -------------------------- 14.2/40.9 MB 4.5 MB/s eta 0:00:06\n",
      "   -------------- ------------------------- 15.2/40.9 MB 4.5 MB/s eta 0:00:06\n",
      "   --------------- ------------------------ 16.0/40.9 MB 4.5 MB/s eta 0:00:06\n",
      "   ---------------- ----------------------- 17.0/40.9 MB 4.5 MB/s eta 0:00:06\n",
      "   ----------------- ---------------------- 18.1/40.9 MB 4.5 MB/s eta 0:00:06\n",
      "   ------------------ --------------------- 18.9/40.9 MB 4.5 MB/s eta 0:00:05\n",
      "   ------------------- -------------------- 19.9/40.9 MB 4.5 MB/s eta 0:00:05\n",
      "   -------------------- ------------------- 21.0/40.9 MB 4.5 MB/s eta 0:00:05\n",
      "   --------------------- ------------------ 21.8/40.9 MB 4.5 MB/s eta 0:00:05\n",
      "   ---------------------- ----------------- 22.8/40.9 MB 4.5 MB/s eta 0:00:05\n",
      "   ----------------------- ---------------- 23.6/40.9 MB 4.5 MB/s eta 0:00:04\n",
      "   ------------------------ --------------- 24.6/40.9 MB 4.5 MB/s eta 0:00:04\n",
      "   ------------------------- -------------- 25.7/40.9 MB 4.5 MB/s eta 0:00:04\n",
      "   -------------------------- ------------- 26.7/40.9 MB 4.5 MB/s eta 0:00:04\n",
      "   --------------------------- ------------ 27.8/40.9 MB 4.5 MB/s eta 0:00:03\n",
      "   ---------------------------- ----------- 28.8/40.9 MB 4.5 MB/s eta 0:00:03\n",
      "   ----------------------------- ---------- 29.9/40.9 MB 4.5 MB/s eta 0:00:03\n",
      "   ----------------------------- ---------- 30.7/40.9 MB 4.5 MB/s eta 0:00:03\n",
      "   ------------------------------ --------- 31.7/40.9 MB 4.5 MB/s eta 0:00:03\n",
      "   -------------------------------- ------- 32.8/40.9 MB 4.6 MB/s eta 0:00:02\n",
      "   -------------------------------- ------- 33.6/40.9 MB 4.5 MB/s eta 0:00:02\n",
      "   --------------------------------- ------ 34.6/40.9 MB 4.5 MB/s eta 0:00:02\n",
      "   ---------------------------------- ----- 35.7/40.9 MB 4.5 MB/s eta 0:00:02\n",
      "   ----------------------------------- ---- 36.2/40.9 MB 4.5 MB/s eta 0:00:02\n",
      "   ------------------------------------ --- 37.2/40.9 MB 4.5 MB/s eta 0:00:01\n",
      "   ------------------------------------- -- 38.0/40.9 MB 4.5 MB/s eta 0:00:01\n",
      "   -------------------------------------- - 39.1/40.9 MB 4.5 MB/s eta 0:00:01\n",
      "   ---------------------------------------  40.1/40.9 MB 4.5 MB/s eta 0:00:01\n",
      "   ---------------------------------------  40.9/40.9 MB 4.5 MB/s eta 0:00:01\n",
      "   ---------------------------------------- 40.9/40.9 MB 4.4 MB/s eta 0:00:00\n",
      "Downloading threadpoolctl-3.6.0-py3-none-any.whl (18 kB)\n",
      "Installing collected packages: threadpoolctl, scipy, joblib, scikit-learn\n",
      "Successfully installed joblib-1.4.2 scikit-learn-1.6.1 scipy-1.15.2 threadpoolctl-3.6.0\n"
     ]
    },
    {
     "name": "stderr",
     "output_type": "stream",
     "text": [
      "\n",
      "[notice] A new release of pip is available: 24.3.1 -> 25.0.1\n",
      "[notice] To update, run: python.exe -m pip install --upgrade pip\n"
     ]
    }
   ],
   "source": [
    "!pip install scikit-learn"
   ]
  },
  {
   "cell_type": "code",
   "execution_count": 4,
   "id": "33b5179c-77f6-474e-898b-08e68db68923",
   "metadata": {},
   "outputs": [],
   "source": [
    "#Importing required packages.\n",
    "import pandas as pd\n",
    "# import seaborn as sns\n",
    "import matplotlib.pyplot as plt\n",
    "from sklearn.ensemble import RandomForestClassifier\n",
    "from sklearn.svm import SVC\n",
    "from sklearn import svm\n",
    "from sklearn.neural_network import MLPClassifier\n",
    "from sklearn.linear_model import SGDClassifier\n",
    "from sklearn.metrics import confusion_matrix, classification_report\n",
    "from sklearn.preprocessing import StandardScaler, LabelEncoder\n",
    "from sklearn.model_selection import train_test_split\n",
    "%matplotlib inline"
   ]
  },
  {
   "cell_type": "code",
   "execution_count": 6,
   "id": "53e7e509-25d3-4b36-89db-99b400c58c2f",
   "metadata": {},
   "outputs": [],
   "source": [
    "# Loading dataset\n",
    "animal = pd.read_csv('animal.csv', sep=';')"
   ]
  },
  {
   "cell_type": "code",
   "execution_count": 7,
   "id": "d36da623-b69b-4f88-b90f-caa8f233941a",
   "metadata": {},
   "outputs": [
    {
     "data": {
      "text/html": [
       "<div>\n",
       "<style scoped>\n",
       "    .dataframe tbody tr th:only-of-type {\n",
       "        vertical-align: middle;\n",
       "    }\n",
       "\n",
       "    .dataframe tbody tr th {\n",
       "        vertical-align: top;\n",
       "    }\n",
       "\n",
       "    .dataframe thead th {\n",
       "        text-align: right;\n",
       "    }\n",
       "</style>\n",
       "<table border=\"1\" class=\"dataframe\">\n",
       "  <thead>\n",
       "    <tr style=\"text-align: right;\">\n",
       "      <th></th>\n",
       "      <th>,animal,age,visits,priority</th>\n",
       "    </tr>\n",
       "  </thead>\n",
       "  <tbody>\n",
       "    <tr>\n",
       "      <th>0</th>\n",
       "      <td>a,cat,2.5,1,yes</td>\n",
       "    </tr>\n",
       "    <tr>\n",
       "      <th>1</th>\n",
       "      <td>b,cat,3.0,2,yes</td>\n",
       "    </tr>\n",
       "    <tr>\n",
       "      <th>2</th>\n",
       "      <td>c,snake,1.5,1,no</td>\n",
       "    </tr>\n",
       "    <tr>\n",
       "      <th>3</th>\n",
       "      <td>d,dog,,3,yes</td>\n",
       "    </tr>\n",
       "    <tr>\n",
       "      <th>4</th>\n",
       "      <td>e,cat,5.0,2,no</td>\n",
       "    </tr>\n",
       "  </tbody>\n",
       "</table>\n",
       "</div>"
      ],
      "text/plain": [
       "  ,animal,age,visits,priority\n",
       "0             a,cat,2.5,1,yes\n",
       "1             b,cat,3.0,2,yes\n",
       "2            c,snake,1.5,1,no\n",
       "3                d,dog,,3,yes\n",
       "4              e,cat,5.0,2,no"
      ]
     },
     "execution_count": 7,
     "metadata": {},
     "output_type": "execute_result"
    }
   ],
   "source": [
    "animal.head()"
   ]
  },
  {
   "cell_type": "code",
   "execution_count": 8,
   "id": "66d309d0-14f7-4365-bd34-3b65bbfb506c",
   "metadata": {},
   "outputs": [
    {
     "name": "stdout",
     "output_type": "stream",
     "text": [
      "<class 'pandas.core.frame.DataFrame'>\n",
      "RangeIndex: 6 entries, 0 to 5\n",
      "Data columns (total 1 columns):\n",
      " #   Column                       Non-Null Count  Dtype \n",
      "---  ------                       --------------  ----- \n",
      " 0   ,animal,age,visits,priority  6 non-null      object\n",
      "dtypes: object(1)\n",
      "memory usage: 180.0+ bytes\n"
     ]
    }
   ],
   "source": [
    "animal.info()"
   ]
  },
  {
   "cell_type": "code",
   "execution_count": 9,
   "id": "761b358a-c678-47a6-8396-ae65c2f51bd6",
   "metadata": {},
   "outputs": [
    {
     "data": {
      "text/plain": [
       ",animal,age,visits,priority    0\n",
       "dtype: int64"
      ]
     },
     "execution_count": 9,
     "metadata": {},
     "output_type": "execute_result"
    }
   ],
   "source": [
    "animal.isnull().sum()"
   ]
  },
  {
   "cell_type": "code",
   "execution_count": null,
   "id": "40f3d68e-d6a0-4563-b87a-36a59d299c90",
   "metadata": {},
   "outputs": [],
   "source": [
    "# Preprocessing Data\n",
    "bins = (2, 6.5, 8)\n",
    "group_names = ['bad', 'good']\n",
    "wine['quality'] = pd.cut(wine['quality'], bins=bins, labels = group_names)\n",
    "wine['quality'].unique()"
   ]
  },
  {
   "cell_type": "code",
   "execution_count": null,
   "id": "4f567788-50f0-4e50-bc35-d69d9b56562b",
   "metadata": {},
   "outputs": [],
   "source": [
    "label_quality = LabelEncoder()"
   ]
  },
  {
   "cell_type": "code",
   "execution_count": null,
   "id": "16351b5e-947d-4149-8e03-27e1fee17668",
   "metadata": {},
   "outputs": [],
   "source": [
    "wine['quality'] = label_quality.fit_transform(wine['quality'])"
   ]
  },
  {
   "cell_type": "code",
   "execution_count": null,
   "id": "933f66f0-c6c0-49ff-9e94-762fa2989499",
   "metadata": {},
   "outputs": [],
   "source": [
    "wine.head()"
   ]
  },
  {
   "cell_type": "code",
   "execution_count": null,
   "id": "0594142f-ab12-4e01-b045-7606493e7e53",
   "metadata": {},
   "outputs": [],
   "source": [
    "wine['quality'].value_counts()"
   ]
  },
  {
   "cell_type": "code",
   "execution_count": null,
   "id": "d4d2afc5-544c-4cb6-a53f-f33abe3c9c03",
   "metadata": {},
   "outputs": [],
   "source": [
    "sns.countplot(wine['quality'])"
   ]
  },
  {
   "cell_type": "code",
   "execution_count": null,
   "id": "c9bbd207-eccd-4981-807f-45e3ea283f88",
   "metadata": {},
   "outputs": [],
   "source": [
    "# Now separate the dataset as response variables and feature variables\n",
    "X = wine.drop('quality', axis = 1)\n",
    "Y = wine['quality']"
   ]
  },
  {
   "cell_type": "code",
   "execution_count": null,
   "id": "7f6e1f40-eeda-418d-95ef-724da83d5994",
   "metadata": {},
   "outputs": [],
   "source": [
    "# Train and Test splitting of data\n",
    "X_train, X_test, Y_train, Y_test = train_test_split(X, Y, test_size=0.2, random_state=42)"
   ]
  },
  {
   "cell_type": "code",
   "execution_count": null,
   "id": "599b6288-14e3-4f09-a5bc-fb4e083d7d89",
   "metadata": {},
   "outputs": [],
   "source": [
    "# Apply standard scaling to get optimized result\n",
    "sc = StandardScaler()\n",
    "X_train = sc.fit_transform(X_train)\n",
    "X_test = sc.transform(X_test)"
   ]
  },
  {
   "cell_type": "code",
   "execution_count": null,
   "id": "da64c20b-dec6-4d62-88b8-382322308ca4",
   "metadata": {},
   "outputs": [],
   "source": [
    "X_train[:10]"
   ]
  },
  {
   "cell_type": "markdown",
   "id": "f8e99ad5-c050-40e2-92d5-990b11207715",
   "metadata": {},
   "source": [
    "# Random Forest Classifier"
   ]
  },
  {
   "cell_type": "code",
   "execution_count": null,
   "id": "a1bd6c62-63c3-43ae-b68d-b167e2a305cd",
   "metadata": {},
   "outputs": [],
   "source": [
    "rfc = RandomForestClassifier(n_estimators=200)\n",
    "rfc.fit(X_train, Y_train)\n",
    "pred_rfc = rfc.predict(X_test)"
   ]
  },
  {
   "cell_type": "code",
   "execution_count": null,
   "id": "7ebc10e6-d3c6-4c5e-b5f2-1a2087a69d44",
   "metadata": {},
   "outputs": [],
   "source": [
    "pred_rfc[:20]"
   ]
  },
  {
   "cell_type": "code",
   "execution_count": null,
   "id": "2d74f466-020f-4dc9-9107-d182209429b7",
   "metadata": {},
   "outputs": [],
   "source": [
    "X_test[:20]"
   ]
  },
  {
   "cell_type": "code",
   "execution_count": null,
   "id": "a07bd4ac-ebeb-4eeb-b5f0-02f314cb0084",
   "metadata": {},
   "outputs": [],
   "source": [
    "# Let's see how our model perform\n",
    "print(classififcation_report(y_test, pred_rfc))\n",
    "print(confusion_matrix(Y_test, pred_rfc))"
   ]
  },
  {
   "cell_type": "markdown",
   "id": "73db5fc3-8f58-4173-92ee-8b17d399c662",
   "metadata": {},
   "source": [
    "# SVM Classifier"
   ]
  },
  {
   "cell_type": "code",
   "execution_count": null,
   "id": "601ca3f9-d6ce-4797-be0f-ceafcc4471bb",
   "metadata": {},
   "outputs": [],
   "source": [
    "clf=svm.SVC()\n",
    "clf.fit(X_train, Y_train)\n",
    "pred_clf = clf.predict(X_test)"
   ]
  },
  {
   "cell_type": "code",
   "execution_count": null,
   "id": "ef47d610-642d-4131-afcf-e8417c1a2a12",
   "metadata": {},
   "outputs": [],
   "source": [
    "# Let's see how our model performed\n",
    "print(classification_report(Y_test, pred_clf))\n",
    "print(confusion_matrix(Y_test, pred_clf))"
   ]
  },
  {
   "cell_type": "markdown",
   "id": "ff58916b-4980-478a-af2f-41225c5d142a",
   "metadata": {},
   "source": [
    "# Neural Network"
   ]
  },
  {
   "cell_type": "code",
   "execution_count": null,
   "id": "3a53eae2-e23d-44ed-81c4-f09fa9836f4a",
   "metadata": {},
   "outputs": [],
   "source": [
    "mlpc=MLPClassifier(hidden_layer_sizes=(11, 11, 11), max_iter=500)\n",
    "mlpc.fit(X_train, Y_train)\n",
    "pred_mlpc = mlpc.predict(X_test)"
   ]
  },
  {
   "cell_type": "code",
   "execution_count": null,
   "id": "9c304b75-485a-4fac-aa35-e700b15ba1f7",
   "metadata": {},
   "outputs": [],
   "source": [
    "# Let's see how our model performed\n",
    "print(classification_report(Y_test, pred_mlpc))\n",
    "print(confusion_matrix(Y_test, pred_mlpc))"
   ]
  },
  {
   "cell_type": "code",
   "execution_count": null,
   "id": "27360aff-bdea-4b10-8f37-59c951e67c30",
   "metadata": {},
   "outputs": [],
   "source": [
    "from sklearn.metrics import accuracy_score\n",
    "cm = accuracy_score(Y_test, pred_rfc)\n",
    "cm"
   ]
  },
  {
   "cell_type": "code",
   "execution_count": null,
   "id": "ce7ba9d2-16c5-444c-8d8e-29e7bf545e45",
   "metadata": {},
   "outputs": [],
   "source": [
    "wine.head(10)"
   ]
  },
  {
   "cell_type": "code",
   "execution_count": null,
   "id": "0dd58123-6a7e-4144-a862-68a1d689f4f1",
   "metadata": {},
   "outputs": [],
   "source": [
    "Xnew = [[7.3, 0.56, 0.00, 4.23, 0.056, 15.0, 21.0, 4.067, 0.21]]\n",
    "Xnew = sc.transform(Xnew)\n",
    "Ynew = rfc.predict(Xnew)\n",
    "Ynew"
   ]
  },
  {
   "cell_type": "code",
   "execution_count": null,
   "id": "6b28e773-ca35-41d1-91b3-e760d58213cd",
   "metadata": {},
   "outputs": [],
   "source": []
  }
 ],
 "metadata": {
  "kernelspec": {
   "display_name": "Python 3 (ipykernel)",
   "language": "python",
   "name": "python3"
  },
  "language_info": {
   "codemirror_mode": {
    "name": "ipython",
    "version": 3
   },
   "file_extension": ".py",
   "mimetype": "text/x-python",
   "name": "python",
   "nbconvert_exporter": "python",
   "pygments_lexer": "ipython3",
   "version": "3.12.9"
  }
 },
 "nbformat": 4,
 "nbformat_minor": 5
}
