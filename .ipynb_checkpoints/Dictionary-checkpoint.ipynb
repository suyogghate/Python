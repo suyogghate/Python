{
 "cells": [
  {
   "cell_type": "markdown",
   "id": "6499cdc8-8140-4ec2-9760-fe6d8dbca67a",
   "metadata": {},
   "source": [
    "# Creating Dictionary"
   ]
  },
  {
   "cell_type": "code",
   "execution_count": 20,
   "id": "677a2eeb-3804-4edb-b936-5d65306ea875",
   "metadata": {},
   "outputs": [
    {
     "name": "stdout",
     "output_type": "stream",
     "text": [
      "{}\n",
      "<class 'dict'>\n"
     ]
    }
   ],
   "source": [
    "dict0 = {}\n",
    "print(dict0)\n",
    "print(type(dict0))"
   ]
  },
  {
   "cell_type": "code",
   "execution_count": 21,
   "id": "4afa2105-460c-4223-8456-3403339ba8bb",
   "metadata": {},
   "outputs": [
    {
     "name": "stdout",
     "output_type": "stream",
     "text": [
      "{1: 'Welcome', 2: 'to', 3: 'Simplilearn'}\n"
     ]
    }
   ],
   "source": [
    "dict0 = {1:\"Welcome\", 2:\"to\", 3:\"Simplilearn\"}\n",
    "print(dict0)"
   ]
  },
  {
   "cell_type": "code",
   "execution_count": 22,
   "id": "4322a779-eb10-4f1a-bd8f-2d37113dbe89",
   "metadata": {},
   "outputs": [
    {
     "name": "stdout",
     "output_type": "stream",
     "text": [
      "{'name': 'Suyog', 'age': 25, 'profession': 'Developer'}\n"
     ]
    }
   ],
   "source": [
    "dict1 = {\"name\":\"Suyog\", \"age\":25, \"profession\":\"Developer\"}\n",
    "print(dict1)"
   ]
  },
  {
   "cell_type": "code",
   "execution_count": 1,
   "id": "69d1ca2d-6418-4489-a8a8-4e5e31e7eb26",
   "metadata": {},
   "outputs": [
    {
     "name": "stdout",
     "output_type": "stream",
     "text": [
      "{'name': 'Suyog', 'age': 25, 'profession': 'Developer'}\n"
     ]
    }
   ],
   "source": [
    "dict2 = dict({\"name\":\"Suyog\", \"age\":25, \"profession\":\"Developer\"})\n",
    "print(dict2)"
   ]
  },
  {
   "cell_type": "code",
   "execution_count": 2,
   "id": "ad74dd12-70e2-4cd2-9c41-8b0340ef19cc",
   "metadata": {},
   "outputs": [
    {
     "name": "stdout",
     "output_type": "stream",
     "text": [
      "{1: 'Welcome', 2: 'to', 3: 'Python', 4: 'tutorial'}\n"
     ]
    }
   ],
   "source": [
    "dict3 = dict([(1,\"Welcome\"),(2, \"to\"),(3,\"Python\"),(4,\"tutorial\")])\n",
    "print(dict3)"
   ]
  },
  {
   "cell_type": "code",
   "execution_count": 5,
   "id": "541202d1-72c2-4d0c-9c2b-cabcc62bb4a4",
   "metadata": {},
   "outputs": [
    {
     "name": "stdout",
     "output_type": "stream",
     "text": [
      "{'name': {'first': 'Suyog', 'last': 'Ghate'}, 'age': 25, 'profession': 'Developer'}\n",
      "{'first': 'Suyog', 'last': 'Ghate'}\n",
      "Ghate\n"
     ]
    }
   ],
   "source": [
    "dict4 = {\"name\":{\"first\":\"Suyog\", \"last\":\"Ghate\"}, \"age\":25, \"profession\":\"Developer\"}\n",
    "print(dict4)\n",
    "print(dict4[\"name\"])\n",
    "print(dict4[\"name\"]['last'])"
   ]
  },
  {
   "cell_type": "markdown",
   "id": "413c1456-fffa-43d8-acec-8524db8583c1",
   "metadata": {},
   "source": [
    "# Adding elements"
   ]
  },
  {
   "cell_type": "code",
   "execution_count": 6,
   "id": "8d913242-682b-46ad-8793-4627f8d00ff5",
   "metadata": {},
   "outputs": [
    {
     "name": "stdout",
     "output_type": "stream",
     "text": [
      "{0: 'Welcome'}\n"
     ]
    }
   ],
   "source": [
    "d = {}\n",
    "d[0] = \"Welcome\"\n",
    "print(d)"
   ]
  },
  {
   "cell_type": "code",
   "execution_count": 7,
   "id": "92645640-479b-4c24-81b9-61c59ec0556c",
   "metadata": {},
   "outputs": [
    {
     "name": "stdout",
     "output_type": "stream",
     "text": [
      "{0: 'Welcome', 1: {'are', 'How', 'you'}}\n"
     ]
    }
   ],
   "source": [
    "d[1] = {\"How\", \"are\", \"you\"}\n",
    "print(d)"
   ]
  },
  {
   "cell_type": "code",
   "execution_count": 8,
   "id": "94111332-20a2-4ca2-8752-f61df4c7b539",
   "metadata": {},
   "outputs": [
    {
     "name": "stdout",
     "output_type": "stream",
     "text": [
      "{0: 'Welcome', 1: {'are', 'How', 'you'}, 'name': 'Sam'}\n"
     ]
    }
   ],
   "source": [
    "d[\"name\"] = \"Sam\"\n",
    "print(d)"
   ]
  },
  {
   "cell_type": "code",
   "execution_count": 20,
   "id": "8ebd85d6-7272-41da-bf84-4fa7b41978ab",
   "metadata": {},
   "outputs": [
    {
     "name": "stdout",
     "output_type": "stream",
     "text": [
      "{1: {'are', 'How', 'you'}, 'name': {'first': 'Sam', 'last': 'Crew'}}\n"
     ]
    }
   ],
   "source": [
    "d[\"name\"] = {\"first\":\"Sam\", \"last\":\"Crew\"}\n",
    "print(d)"
   ]
  },
  {
   "cell_type": "markdown",
   "id": "5a949b24-ac7f-44fb-bc00-305882951839",
   "metadata": {},
   "source": [
    "# Accessing elements"
   ]
  },
  {
   "cell_type": "code",
   "execution_count": 21,
   "id": "59574898-95bc-475b-8939-2a3698a32e8a",
   "metadata": {},
   "outputs": [
    {
     "name": "stdout",
     "output_type": "stream",
     "text": [
      "{1: {'are', 'How', 'you'}, 'name': {'first': 'Sam', 'last': 'Crew'}}\n"
     ]
    }
   ],
   "source": [
    "print(d)"
   ]
  },
  {
   "cell_type": "code",
   "execution_count": 11,
   "id": "f11570f8-49e3-4d15-a93f-c7a8608a7f68",
   "metadata": {},
   "outputs": [
    {
     "name": "stdout",
     "output_type": "stream",
     "text": [
      "Sam\n"
     ]
    }
   ],
   "source": [
    "print(d[\"name\"][\"first\"])"
   ]
  },
  {
   "cell_type": "code",
   "execution_count": 12,
   "id": "2a0fb312-68ff-43ae-9c84-a0c03bc99b10",
   "metadata": {},
   "outputs": [
    {
     "name": "stdout",
     "output_type": "stream",
     "text": [
      "{'are', 'How', 'you'}\n"
     ]
    }
   ],
   "source": [
    "print(d.get(1))"
   ]
  },
  {
   "cell_type": "markdown",
   "id": "1dc65434-c398-47f4-a6ee-e1c8439e4b9f",
   "metadata": {},
   "source": [
    "# Deleting elements"
   ]
  },
  {
   "cell_type": "code",
   "execution_count": 13,
   "id": "a4f24112-22d6-4414-84ea-97cbbba7b956",
   "metadata": {},
   "outputs": [
    {
     "name": "stdout",
     "output_type": "stream",
     "text": [
      "{0: 'Welcome', 1: {'are', 'How', 'you'}, 'name': {'first': 'Sam', 'last': 'Crew'}}\n"
     ]
    }
   ],
   "source": [
    "print(d)"
   ]
  },
  {
   "cell_type": "code",
   "execution_count": 14,
   "id": "69354c90-95cf-4ec5-8233-9d9497c3e844",
   "metadata": {},
   "outputs": [
    {
     "data": {
      "text/plain": [
       "'Welcome'"
      ]
     },
     "execution_count": 14,
     "metadata": {},
     "output_type": "execute_result"
    }
   ],
   "source": [
    "d.pop(0)"
   ]
  },
  {
   "cell_type": "code",
   "execution_count": 15,
   "id": "25438dff-666f-49d3-84e4-ffa2cb521f60",
   "metadata": {},
   "outputs": [
    {
     "name": "stdout",
     "output_type": "stream",
     "text": [
      "{1: {'are', 'How', 'you'}, 'name': {'first': 'Sam', 'last': 'Crew'}}\n"
     ]
    }
   ],
   "source": [
    "print(d)"
   ]
  },
  {
   "cell_type": "code",
   "execution_count": 16,
   "id": "b7000935-895e-469d-9fc2-10d11c2552ae",
   "metadata": {},
   "outputs": [
    {
     "data": {
      "text/plain": [
       "('name', {'first': 'Sam', 'last': 'Crew'})"
      ]
     },
     "execution_count": 16,
     "metadata": {},
     "output_type": "execute_result"
    }
   ],
   "source": [
    "d.popitem()      # always the last item is deleted"
   ]
  },
  {
   "cell_type": "code",
   "execution_count": 17,
   "id": "2854c61b-7a5c-4514-9811-5f22fd33ba70",
   "metadata": {},
   "outputs": [
    {
     "name": "stdout",
     "output_type": "stream",
     "text": [
      "{1: {'are', 'How', 'you'}}\n"
     ]
    }
   ],
   "source": [
    "print(d)"
   ]
  },
  {
   "cell_type": "code",
   "execution_count": 22,
   "id": "74cf4a39-2171-4571-87ad-4cf5b1ea9ac5",
   "metadata": {},
   "outputs": [
    {
     "name": "stdout",
     "output_type": "stream",
     "text": [
      "{1: {'are', 'How', 'you'}, 'name': {'first': 'Sam', 'last': 'Crew'}}\n"
     ]
    }
   ],
   "source": [
    "print(d)"
   ]
  },
  {
   "cell_type": "code",
   "execution_count": 23,
   "id": "da2d715c-3939-4a9a-ac4b-e9b62885086f",
   "metadata": {},
   "outputs": [],
   "source": [
    "d[0] = \"Welcome\""
   ]
  },
  {
   "cell_type": "code",
   "execution_count": 24,
   "id": "c8d556b0-3339-4a2b-8c53-a1e2965850cd",
   "metadata": {},
   "outputs": [
    {
     "name": "stdout",
     "output_type": "stream",
     "text": [
      "{1: {'are', 'How', 'you'}, 'name': {'first': 'Sam', 'last': 'Crew'}, 0: 'Welcome'}\n"
     ]
    }
   ],
   "source": [
    "print(d)"
   ]
  },
  {
   "cell_type": "markdown",
   "id": "b494f7f2-7286-415d-9769-988a63e4093c",
   "metadata": {},
   "source": [
    "# Built-in methods"
   ]
  },
  {
   "cell_type": "code",
   "execution_count": 25,
   "id": "22459c23-c299-4f0d-aa38-44e8ef482f7e",
   "metadata": {},
   "outputs": [
    {
     "data": {
      "text/plain": [
       "dict_values([{'are', 'How', 'you'}, {'first': 'Sam', 'last': 'Crew'}, 'Welcome'])"
      ]
     },
     "execution_count": 25,
     "metadata": {},
     "output_type": "execute_result"
    }
   ],
   "source": [
    "d.values()"
   ]
  },
  {
   "cell_type": "code",
   "execution_count": 26,
   "id": "e0a3d3c7-eca5-473c-813d-08a9d1a6eb9d",
   "metadata": {},
   "outputs": [
    {
     "data": {
      "text/plain": [
       "{'b': 1, 'd': 1, 'a': 1, 'c': 1}"
      ]
     },
     "execution_count": 26,
     "metadata": {},
     "output_type": "execute_result"
    }
   ],
   "source": [
    "keys={'a','b','c','d'}\n",
    "value=1\n",
    "dict.fromkeys(keys,value)"
   ]
  },
  {
   "cell_type": "code",
   "execution_count": 27,
   "id": "6256b4a1-7a16-4137-92f2-0699f1e791d5",
   "metadata": {},
   "outputs": [],
   "source": [
    "d.clear()"
   ]
  },
  {
   "cell_type": "code",
   "execution_count": 28,
   "id": "047582d3-e792-4b3b-9869-2d30e86b8867",
   "metadata": {},
   "outputs": [
    {
     "name": "stdout",
     "output_type": "stream",
     "text": [
      "{}\n"
     ]
    }
   ],
   "source": [
    "print(d)"
   ]
  },
  {
   "cell_type": "code",
   "execution_count": null,
   "id": "bd2e2dd6-3c58-4db0-86d5-9bcb5435841c",
   "metadata": {},
   "outputs": [],
   "source": []
  }
 ],
 "metadata": {
  "kernelspec": {
   "display_name": "Python 3 (ipykernel)",
   "language": "python",
   "name": "python3"
  },
  "language_info": {
   "codemirror_mode": {
    "name": "ipython",
    "version": 3
   },
   "file_extension": ".py",
   "mimetype": "text/x-python",
   "name": "python",
   "nbconvert_exporter": "python",
   "pygments_lexer": "ipython3",
   "version": "3.12.9"
  }
 },
 "nbformat": 4,
 "nbformat_minor": 5
}
