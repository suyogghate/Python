{
 "cells": [
  {
   "cell_type": "code",
   "execution_count": 1,
   "id": "9c557d0c-5ede-4902-a4f0-e92861afa24d",
   "metadata": {},
   "outputs": [],
   "source": [
    "# Import bs4 the beautifulsoup library\n",
    "from bs4 import BeautifulSoup\n",
    "# create a html document\n",
    "html_doc = \"\"\"\n",
    "<html>\n",
    "<body>\n",
    "<h1>My first heading</h1>\n",
    "<b><!--This is a coomet line--></b>\n",
    "<p title=\"About Me\" class=\"test\">My first paragraph</p>\n",
    "<div class=\"cities\">\n",
    "<h2>London</h2>\n",
    "</div>\n",
    "</body>\n",
    "</html>\n",
    "\"\"\"\n",
    "# Parse it using html parser\n",
    "soup = BeautifulSoup(html_doc, 'html.parser')"
   ]
  },
  {
   "cell_type": "code",
   "execution_count": 2,
   "id": "1ad633fd-849c-4933-8f7e-d2e32451670d",
   "metadata": {},
   "outputs": [
    {
     "data": {
      "text/plain": [
       "bs4.BeautifulSoup"
      ]
     },
     "execution_count": 2,
     "metadata": {},
     "output_type": "execute_result"
    }
   ],
   "source": [
    "# view the soup type\n",
    "type(soup)"
   ]
  },
  {
   "cell_type": "code",
   "execution_count": 5,
   "id": "5173020a-3657-40e8-ae96-635f03880fe5",
   "metadata": {},
   "outputs": [
    {
     "name": "stdout",
     "output_type": "stream",
     "text": [
      "\n",
      "<html>\n",
      "<body>\n",
      "<h1>My first heading</h1>\n",
      "<b><!--This is a coomet line--></b>\n",
      "<p class=\"test\" title=\"About Me\">My first paragraph</p>\n",
      "<div class=\"cities\">\n",
      "<h2>London</h2>\n",
      "</div>\n",
      "</body>\n",
      "</html>\n",
      "\n"
     ]
    }
   ],
   "source": [
    "# view the soup object\n",
    "print(soup)"
   ]
  },
  {
   "cell_type": "code",
   "execution_count": 6,
   "id": "47950c58-0b97-4141-b085-c818cc99646b",
   "metadata": {},
   "outputs": [],
   "source": [
    "#  create a tag object\n",
    "tag = soup.p"
   ]
  },
  {
   "cell_type": "code",
   "execution_count": 7,
   "id": "9164c218-97cc-48b2-88d3-694594b86ff4",
   "metadata": {},
   "outputs": [
    {
     "data": {
      "text/plain": [
       "bs4.element.Tag"
      ]
     },
     "execution_count": 7,
     "metadata": {},
     "output_type": "execute_result"
    }
   ],
   "source": [
    "# view the tag object type\n",
    "type(tag)"
   ]
  },
  {
   "cell_type": "code",
   "execution_count": 8,
   "id": "0057c0cc-696f-4d4e-85e5-c29db745c830",
   "metadata": {},
   "outputs": [
    {
     "name": "stdout",
     "output_type": "stream",
     "text": [
      "<p class=\"test\" title=\"About Me\">My first paragraph</p>\n"
     ]
    }
   ],
   "source": [
    "# print the tag\n",
    "print(tag)"
   ]
  },
  {
   "cell_type": "code",
   "execution_count": 9,
   "id": "f93ea20a-b030-482f-b15d-9eb59b1c0a8d",
   "metadata": {},
   "outputs": [],
   "source": [
    "# create a comment object\n",
    "comment = soup.b.string"
   ]
  },
  {
   "cell_type": "code",
   "execution_count": 10,
   "id": "2ba1bbdc-b3ca-4d74-90ed-90834436a4eb",
   "metadata": {},
   "outputs": [
    {
     "data": {
      "text/plain": [
       "bs4.element.Comment"
      ]
     },
     "execution_count": 10,
     "metadata": {},
     "output_type": "execute_result"
    }
   ],
   "source": [
    "type(comment)"
   ]
  },
  {
   "cell_type": "code",
   "execution_count": 11,
   "id": "c94ca158-c198-42fc-8e0f-d5d9e8c1cafc",
   "metadata": {},
   "outputs": [
    {
     "data": {
      "text/plain": [
       "'This is a coomet line'"
      ]
     },
     "execution_count": 11,
     "metadata": {},
     "output_type": "execute_result"
    }
   ],
   "source": [
    "# view the comment\n",
    "comment"
   ]
  },
  {
   "cell_type": "code",
   "execution_count": 12,
   "id": "44f34a15-85ec-4604-aa7b-c66cd845b0d5",
   "metadata": {},
   "outputs": [
    {
     "data": {
      "text/plain": [
       "{'title': 'About Me', 'class': ['test']}"
      ]
     },
     "execution_count": 12,
     "metadata": {},
     "output_type": "execute_result"
    }
   ],
   "source": [
    "# view tag attributes\n",
    "tag.attrs"
   ]
  },
  {
   "cell_type": "code",
   "execution_count": 13,
   "id": "bb03ab8b-6495-47a3-8029-1683422cf7a0",
   "metadata": {},
   "outputs": [
    {
     "data": {
      "text/plain": [
       "'My first paragraph'"
      ]
     },
     "execution_count": 13,
     "metadata": {},
     "output_type": "execute_result"
    }
   ],
   "source": [
    "# view the tag value\n",
    "tag.string"
   ]
  },
  {
   "cell_type": "code",
   "execution_count": 14,
   "id": "cbd0a748-76f0-452b-910a-eaebdd9dbc37",
   "metadata": {},
   "outputs": [
    {
     "data": {
      "text/plain": [
       "bs4.element.NavigableString"
      ]
     },
     "execution_count": 14,
     "metadata": {},
     "output_type": "execute_result"
    }
   ],
   "source": [
    "# View the tag type (Navigable string)\n",
    "type(tag.string)"
   ]
  },
  {
   "cell_type": "code",
   "execution_count": null,
   "id": "fd52503f-ddf2-4f0a-be75-7807868c8a58",
   "metadata": {},
   "outputs": [],
   "source": []
  },
  {
   "cell_type": "code",
   "execution_count": null,
   "id": "92268754-e35a-4f84-90e5-585e64d06c8b",
   "metadata": {},
   "outputs": [],
   "source": []
  },
  {
   "cell_type": "code",
   "execution_count": null,
   "id": "87fb631f-0bc0-4971-ad4d-d25977d384a4",
   "metadata": {},
   "outputs": [],
   "source": []
  }
 ],
 "metadata": {
  "kernelspec": {
   "display_name": "Python 3 (ipykernel)",
   "language": "python",
   "name": "python3"
  },
  "language_info": {
   "codemirror_mode": {
    "name": "ipython",
    "version": 3
   },
   "file_extension": ".py",
   "mimetype": "text/x-python",
   "name": "python",
   "nbconvert_exporter": "python",
   "pygments_lexer": "ipython3",
   "version": "3.12.9"
  }
 },
 "nbformat": 4,
 "nbformat_minor": 5
}
