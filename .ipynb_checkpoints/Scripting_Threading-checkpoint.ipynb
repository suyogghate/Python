{
 "cells": [
  {
   "cell_type": "markdown",
   "id": "498d6ada-2ea8-4f21-9fd5-0e545fd5448f",
   "metadata": {},
   "source": [
    "# Threading in Python"
   ]
  },
  {
   "cell_type": "code",
   "execution_count": 2,
   "id": "851caf41-be5b-4f08-b598-ec00da0df994",
   "metadata": {},
   "outputs": [
    {
     "name": "stdout",
     "output_type": "stream",
     "text": [
      "This is the child thread\n",
      "This is the child thread\n",
      "This is the child thread\n",
      "This is the child thread\n",
      "This is the child thread\n",
      "This is the parent thread\n",
      "This is the parent thread\n",
      "This is the parent thread\n",
      "This is the parent thread\n",
      "This is the parent thread\n"
     ]
    }
   ],
   "source": [
    "# from threading import *\n",
    "# def show():\n",
    "#     print(\"This is a child thread.\")\n",
    "# t = Thread(target=show())\n",
    "# t.start()\n",
    "# print(\"This is a parent thread.\")\n",
    "\n",
    "# --------------------------------------\n",
    "# class MyThread(Thread):\n",
    "#     def run(self):\n",
    "#         for i in range(5):\n",
    "#             print(\"\\nThis is a child class.\")\n",
    "\n",
    "# t=MyThread()\n",
    "# t.start()\n",
    "# for i in range(5):\n",
    "#     print(\"\\nThis is the main thread\")\n",
    "\n",
    "# ------------------------------------------\n",
    "# class Demo:\n",
    "#     def show(self):\n",
    "#         for i in range(5):\n",
    "#             print(\"This is the child thread\")\n",
    "# obj=Demo()\n",
    "# t=Thread(target=obj.show())\n",
    "# t.start()\n",
    "# for i in range(5):\n",
    "#     print(\"This is the parent thread\")"
   ]
  },
  {
   "cell_type": "code",
   "execution_count": null,
   "id": "d4b4c799-1bb1-44b9-87c4-dfa2e57b45e6",
   "metadata": {},
   "outputs": [],
   "source": [
    "# Context Switching: Storing the state of a process or thread and resuming its execution\n",
    "# at a later time is called context switching.\n",
    "\n",
    "# Multithreading: A model where multiple threads within a process execute independently\n",
    "# while sharing the same resources is called multithreading."
   ]
  },
  {
   "cell_type": "code",
   "execution_count": 5,
   "id": "70b7e1e5-b28d-4165-8146-08123be12929",
   "metadata": {},
   "outputs": [
    {
     "name": "stdout",
     "output_type": "stream",
     "text": [
      "The number is 1\n",
      "The double of the number is 2\n",
      "The square of number is 1\n",
      "The number is 2\n",
      "The double of the number is 4\n",
      "The square of number is 4\n",
      "The number is 3\n",
      "The double of the number is 6\n",
      "The square of number is 9\n",
      "The number is 4\n",
      "The double of the number is 8\n",
      "The square of number is 16\n",
      "The number is 5\n",
      "The double of the number is 10\n",
      "The square of number is 25\n",
      "This is the main thread\n"
     ]
    }
   ],
   "source": [
    "# from threading import *\n",
    "# import time\n",
    "\n",
    "# class Demo:\n",
    "#     def num(self):\n",
    "#         for i in range(1, 6):\n",
    "#             print(f\"The number is {i}\")\n",
    "#             time.sleep(1)\n",
    "#     def doubleNum(self):\n",
    "#         for i in range(1, 6):\n",
    "#             print(f\"The double of the number is {i * 2}\")\n",
    "#             time.sleep(1)\n",
    "#     def squareNum(self):\n",
    "#         for i in range(1, 6):\n",
    "#             print(f\"The square of number is {i*i}\")\n",
    "#             time.sleep(1)\n",
    "\n",
    "# obj=Demo()\n",
    "# t1=Thread(target=obj.num)\n",
    "# t2=Thread(target=obj.doubleNum)\n",
    "# t3=Thread(target=obj.squareNum)\n",
    "\n",
    "# t1.start()\n",
    "# time.sleep(0.2)\n",
    "# t2.start()\n",
    "# time.sleep(0.2)\n",
    "# t3.start()\n",
    "\n",
    "# t1.join()\n",
    "# t2.join()\n",
    "# t3.join()\n",
    "\n",
    "# print(\"This is the main thread\")"
   ]
  },
  {
   "cell_type": "markdown",
   "id": "e5065207-8f3a-471e-a95d-90250e6dac8f",
   "metadata": {},
   "source": [
    "# Scripting in Python"
   ]
  },
  {
   "cell_type": "code",
   "execution_count": 6,
   "id": "de471a8d-36d9-463b-9a00-f53607781807",
   "metadata": {},
   "outputs": [
    {
     "name": "stdout",
     "output_type": "stream",
     "text": [
      "E:\\Python\n"
     ]
    }
   ],
   "source": [
    "import os\n",
    "\n",
    "def current_directory():\n",
    "    cwd = os.getcwd()\n",
    "    print(cwd)\n",
    "\n",
    "current_directory()"
   ]
  },
  {
   "cell_type": "code",
   "execution_count": 7,
   "id": "89322efb-eb5b-4851-9bc6-f0214e61e345",
   "metadata": {},
   "outputs": [
    {
     "name": "stdout",
     "output_type": "stream",
     "text": [
      "E:\\Python\\Scripting_Threading.ipynb\n"
     ]
    }
   ],
   "source": [
    "def file_path(filename):\n",
    "    path = os.path.abspath(filename)\n",
    "    print(path)\n",
    "\n",
    "filename=\"Scripting_Threading.ipynb\"\n",
    "file_path(filename)"
   ]
  },
  {
   "cell_type": "code",
   "execution_count": 9,
   "id": "1786da3c-0210-4e23-b32e-b0b65f53207f",
   "metadata": {},
   "outputs": [
    {
     "name": "stdout",
     "output_type": "stream",
     "text": [
      "1741971559.3069212\n",
      "time.struct_time(tm_year=2025, tm_mon=3, tm_mday=14, tm_hour=22, tm_min=29, tm_sec=19, tm_wday=4, tm_yday=73, tm_isdst=0)\n",
      "2025\n",
      "Fri Mar 14 22:29:19 2025\n"
     ]
    }
   ],
   "source": [
    "import time\n",
    "\n",
    "epc = time.time()\n",
    "print(epc)\n",
    "localtime = time.localtime(epc)\n",
    "print(localtime)\n",
    "print(localtime.tm_year)\n",
    "\n",
    "print(time.ctime(epc))"
   ]
  },
  {
   "cell_type": "code",
   "execution_count": 12,
   "id": "d0f97ed6-9537-4fab-91b0-ac2edcbe1771",
   "metadata": {},
   "outputs": [
    {
     "ename": "SMTPAuthenticationError",
     "evalue": "(535, b'5.7.8 Username and Password not accepted. For more information, go to\\n5.7.8  https://support.google.com/mail/?p=BadCredentials 41be03b00d2f7-af56ea7d9ebsm2970981a12.58 - gsmtp')",
     "output_type": "error",
     "traceback": [
      "\u001b[31m---------------------------------------------------------------------------\u001b[39m",
      "\u001b[31mSMTPAuthenticationError\u001b[39m                   Traceback (most recent call last)",
      "\u001b[36mCell\u001b[39m\u001b[36m \u001b[39m\u001b[32mIn[12]\u001b[39m\u001b[32m, line 6\u001b[39m\n\u001b[32m      4\u001b[39m smtpObj.ehlo()\n\u001b[32m      5\u001b[39m smtpObj.starttls()\n\u001b[32m----> \u001b[39m\u001b[32m6\u001b[39m \u001b[43msmtpObj\u001b[49m\u001b[43m.\u001b[49m\u001b[43mlogin\u001b[49m\u001b[43m(\u001b[49m\u001b[33;43m\"\u001b[39;49m\u001b[33;43msuyogghateminks@gmail.com\u001b[39;49m\u001b[33;43m\"\u001b[39;49m\u001b[43m,\u001b[49m\u001b[43m \u001b[49m\u001b[33;43m\"\u001b[39;49m\u001b[33;43mGhate@0496\u001b[39;49m\u001b[33;43m\"\u001b[39;49m\u001b[43m)\u001b[49m\n\u001b[32m      7\u001b[39m smtpObj.sentmail(\u001b[33m\"\u001b[39m\u001b[33msuyogghateminks@gmail.com\u001b[39m\u001b[33m\"\u001b[39m, \u001b[33m\"\u001b[39m\u001b[33msuyogghate96@gmail.com\u001b[39m\u001b[33m\"\u001b[39m, \u001b[33m\"\u001b[39m\u001b[33mSubject: SMTP checking. \u001b[39m\u001b[38;5;130;01m\\n\u001b[39;00m\u001b[33m This is a test email from Simplilearn.\u001b[39m\u001b[33m\"\u001b[39m)\n\u001b[32m      8\u001b[39m smtpObj.quit()\n",
      "\u001b[36mFile \u001b[39m\u001b[32m~\\AppData\\Local\\Programs\\Python\\Python312\\Lib\\smtplib.py:750\u001b[39m, in \u001b[36mSMTP.login\u001b[39m\u001b[34m(self, user, password, initial_response_ok)\u001b[39m\n\u001b[32m    747\u001b[39m         last_exception = e\n\u001b[32m    749\u001b[39m \u001b[38;5;66;03m# We could not login successfully.  Return result of last attempt.\u001b[39;00m\n\u001b[32m--> \u001b[39m\u001b[32m750\u001b[39m \u001b[38;5;28;01mraise\u001b[39;00m last_exception\n",
      "\u001b[36mFile \u001b[39m\u001b[32m~\\AppData\\Local\\Programs\\Python\\Python312\\Lib\\smtplib.py:739\u001b[39m, in \u001b[36mSMTP.login\u001b[39m\u001b[34m(self, user, password, initial_response_ok)\u001b[39m\n\u001b[32m    737\u001b[39m method_name = \u001b[33m'\u001b[39m\u001b[33mauth_\u001b[39m\u001b[33m'\u001b[39m + authmethod.lower().replace(\u001b[33m'\u001b[39m\u001b[33m-\u001b[39m\u001b[33m'\u001b[39m, \u001b[33m'\u001b[39m\u001b[33m_\u001b[39m\u001b[33m'\u001b[39m)\n\u001b[32m    738\u001b[39m \u001b[38;5;28;01mtry\u001b[39;00m:\n\u001b[32m--> \u001b[39m\u001b[32m739\u001b[39m     (code, resp) = \u001b[38;5;28;43mself\u001b[39;49m\u001b[43m.\u001b[49m\u001b[43mauth\u001b[49m\u001b[43m(\u001b[49m\n\u001b[32m    740\u001b[39m \u001b[43m        \u001b[49m\u001b[43mauthmethod\u001b[49m\u001b[43m,\u001b[49m\u001b[43m \u001b[49m\u001b[38;5;28;43mgetattr\u001b[39;49m\u001b[43m(\u001b[49m\u001b[38;5;28;43mself\u001b[39;49m\u001b[43m,\u001b[49m\u001b[43m \u001b[49m\u001b[43mmethod_name\u001b[49m\u001b[43m)\u001b[49m\u001b[43m,\u001b[49m\n\u001b[32m    741\u001b[39m \u001b[43m        \u001b[49m\u001b[43minitial_response_ok\u001b[49m\u001b[43m=\u001b[49m\u001b[43minitial_response_ok\u001b[49m\u001b[43m)\u001b[49m\n\u001b[32m    742\u001b[39m     \u001b[38;5;66;03m# 235 == 'Authentication successful'\u001b[39;00m\n\u001b[32m    743\u001b[39m     \u001b[38;5;66;03m# 503 == 'Error: already authenticated'\u001b[39;00m\n\u001b[32m    744\u001b[39m     \u001b[38;5;28;01mif\u001b[39;00m code \u001b[38;5;129;01min\u001b[39;00m (\u001b[32m235\u001b[39m, \u001b[32m503\u001b[39m):\n",
      "\u001b[36mFile \u001b[39m\u001b[32m~\\AppData\\Local\\Programs\\Python\\Python312\\Lib\\smtplib.py:662\u001b[39m, in \u001b[36mSMTP.auth\u001b[39m\u001b[34m(self, mechanism, authobject, initial_response_ok)\u001b[39m\n\u001b[32m    660\u001b[39m \u001b[38;5;28;01mif\u001b[39;00m code \u001b[38;5;129;01min\u001b[39;00m (\u001b[32m235\u001b[39m, \u001b[32m503\u001b[39m):\n\u001b[32m    661\u001b[39m     \u001b[38;5;28;01mreturn\u001b[39;00m (code, resp)\n\u001b[32m--> \u001b[39m\u001b[32m662\u001b[39m \u001b[38;5;28;01mraise\u001b[39;00m SMTPAuthenticationError(code, resp)\n",
      "\u001b[31mSMTPAuthenticationError\u001b[39m: (535, b'5.7.8 Username and Password not accepted. For more information, go to\\n5.7.8  https://support.google.com/mail/?p=BadCredentials 41be03b00d2f7-af56ea7d9ebsm2970981a12.58 - gsmtp')"
     ]
    }
   ],
   "source": [
    "import smtplib\n",
    "\n",
    "smtpObj=smtplib.SMTP('smtp.gmail.com', 587)\n",
    "smtpObj.ehlo()\n",
    "smtpObj.starttls()\n",
    "smtpObj.login(\"suyogghateminks@gmail.com\", \"Ghate@0496\")\n",
    "smtpObj.sentmail(\"suyogghateminks@gmail.com\", \"suyogghate96@gmail.com\", \"Subject: SMTP checking. \\n This is a test email from Simplilearn.\")\n",
    "smtpObj.quit()"
   ]
  },
  {
   "cell_type": "code",
   "execution_count": 13,
   "id": "15c15fed-4d01-4824-a897-ae0fe5d74d13",
   "metadata": {},
   "outputs": [
    {
     "name": "stdout",
     "output_type": "stream",
     "text": [
      "File created!!!\n"
     ]
    }
   ],
   "source": [
    "from os import path\n",
    "\n",
    "def createFile(dest):\n",
    "    if not (path.isfile(dest)):\n",
    "        f=open(dest,'w')\n",
    "        f.write(\"Welcome to Python from Simplilearn\")\n",
    "        f.close()\n",
    "\n",
    "dest=\"E:\\\\Python\\\\smaple2.txt\"\n",
    "\n",
    "createFile(dest)\n",
    "\n",
    "print(\"File created!!!\")"
   ]
  },
  {
   "cell_type": "code",
   "execution_count": 16,
   "id": "a6eec821-0f71-42f1-bfd8-637fd59cc662",
   "metadata": {},
   "outputs": [
    {
     "name": "stdout",
     "output_type": "stream",
     "text": [
      "11\n"
     ]
    }
   ],
   "source": [
    "# def func1(*args):\n",
    "#     for i in args:\n",
    "#         print(i)\n",
    "\n",
    "# func1(10, 20, 30, 40)\n",
    "\n",
    "# def func1(*args, **kwargs):\n",
    "#     for i in kwargs.items():\n",
    "#         print(i)\n",
    "\n",
    "# func1(a=10, b=20, c=30, d=40)\n",
    "\n",
    "def func1():\n",
    "    x=10\n",
    "    def func2(x):\n",
    "        return x+1\n",
    "    return func2(x)\n",
    "\n",
    "result=func1()\n",
    "print(result)"
   ]
  },
  {
   "cell_type": "code",
   "execution_count": 18,
   "id": "f685847f-213e-4375-a667-6a6d1ffc478f",
   "metadata": {},
   "outputs": [
    {
     "name": "stdout",
     "output_type": "stream",
     "text": [
      "This is the first function.\n",
      "This is the nested function\n",
      "This is the outer function\n"
     ]
    }
   ],
   "source": [
    "def func1(called_func):\n",
    "    print(\"This is the first function.\")\n",
    "    def nested_func1(called_func):\n",
    "        print(\"This is the nested function\")\n",
    "        called_func()\n",
    "    return nested_func1(called_func)\n",
    "\n",
    "def outer_func():\n",
    "    print(\"This is the outer function\")\n",
    "\n",
    "obj=func1(outer_func)"
   ]
  },
  {
   "cell_type": "code",
   "execution_count": 19,
   "id": "79be0dd7-dbb4-4503-99ad-c971ce68f04d",
   "metadata": {},
   "outputs": [
    {
     "name": "stdout",
     "output_type": "stream",
     "text": [
      "5\n",
      "10\n"
     ]
    }
   ],
   "source": [
    "# create classes at runtime\n",
    "# factory\n",
    "B=type(\"BaseClass\", (object,), {})\n",
    "C1=type(\"C1\", (B, ), {'val':5})\n",
    "C2=type(\"C2\", (B, ), {'val':10})\n",
    "\n",
    "def ClassCreator(bool):\n",
    "    if bool:\n",
    "        return C1()\n",
    "    else:\n",
    "        return C2()\n",
    "\n",
    "print(ClassCreator(True).val)\n",
    "print(ClassCreator(False).val)"
   ]
  },
  {
   "cell_type": "code",
   "execution_count": 23,
   "id": "599f3a8e-f296-40c3-8fd4-ec5d0f379780",
   "metadata": {},
   "outputs": [
    {
     "name": "stdout",
     "output_type": "stream",
     "text": [
      "This is the first function.\n",
      "This is the nested function\n",
      "This is the outer function\n"
     ]
    }
   ],
   "source": [
    "# decorators\n",
    "def func1(called_func):\n",
    "    print(\"This is the first function.\")\n",
    "    def nested_func1():\n",
    "        print(\"This is the nested function\")\n",
    "        called_func()\n",
    "    return nested_func1\n",
    "\n",
    "@func1\n",
    "def outer_func():\n",
    "    print(\"This is the outer function\")\n",
    "\n",
    "outer_func()"
   ]
  },
  {
   "cell_type": "code",
   "execution_count": null,
   "id": "b82073d4-bd32-4688-95b2-f57dbe09b744",
   "metadata": {},
   "outputs": [],
   "source": []
  }
 ],
 "metadata": {
  "kernelspec": {
   "display_name": "Python 3 (ipykernel)",
   "language": "python",
   "name": "python3"
  },
  "language_info": {
   "codemirror_mode": {
    "name": "ipython",
    "version": 3
   },
   "file_extension": ".py",
   "mimetype": "text/x-python",
   "name": "python",
   "nbconvert_exporter": "python",
   "pygments_lexer": "ipython3",
   "version": "3.12.9"
  }
 },
 "nbformat": 4,
 "nbformat_minor": 5
}
