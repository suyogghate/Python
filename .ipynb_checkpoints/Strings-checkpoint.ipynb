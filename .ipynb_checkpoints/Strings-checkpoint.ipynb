{
 "cells": [
  {
   "cell_type": "code",
   "execution_count": 1,
   "id": "6609a720-d95b-4aa8-b2b0-8373e29f398f",
   "metadata": {},
   "outputs": [
    {
     "name": "stdout",
     "output_type": "stream",
     "text": [
      "Simplilearn\n"
     ]
    }
   ],
   "source": [
    "str=\"Simplilearn\"\n",
    "print(str)"
   ]
  },
  {
   "cell_type": "code",
   "execution_count": 2,
   "id": "b54b598e-dda1-47bf-85e9-ca1bac205822",
   "metadata": {},
   "outputs": [
    {
     "name": "stdout",
     "output_type": "stream",
     "text": [
      "Tim's Birthday\n"
     ]
    }
   ],
   "source": [
    "str1=\"Tim's Birthday\"\n",
    "print(str1)"
   ]
  },
  {
   "cell_type": "code",
   "execution_count": 4,
   "id": "36bbed6e-e63c-4670-b68b-71ddefdcf60d",
   "metadata": {},
   "outputs": [
    {
     "name": "stdout",
     "output_type": "stream",
     "text": [
      "Tim said \"I am busy today\"\n"
     ]
    }
   ],
   "source": [
    "str1='Tim said \"I am busy today\"'\n",
    "print(str1)"
   ]
  },
  {
   "cell_type": "code",
   "execution_count": 6,
   "id": "bd962af8-8b6b-4fd0-b009-08d4f72b33e1",
   "metadata": {},
   "outputs": [
    {
     "name": "stdout",
     "output_type": "stream",
     "text": [
      "Tim said \"I'm busy today.\"\n"
     ]
    }
   ],
   "source": [
    "str1='Tim said \"I\\'m busy today.\"'\n",
    "print(str1)"
   ]
  },
  {
   "cell_type": "code",
   "execution_count": 31,
   "id": "d3dc23b2-3a36-465c-bdc2-a75b1db8cfea",
   "metadata": {},
   "outputs": [
    {
     "name": "stdout",
     "output_type": "stream",
     "text": [
      "hey there\n",
      "Welcome to simplilearn\n",
      "hey there welcome to simplilearn\n"
     ]
    }
   ],
   "source": [
    "str1='''hey there\n",
    "Welcome to simplilearn'''\n",
    "print(str1)\n",
    "str1=\"hey there welcome to simplilearn\"\n",
    "print(str1)"
   ]
  },
  {
   "cell_type": "code",
   "execution_count": 8,
   "id": "1c686083-3813-4b11-ac2d-f6e6a98671d6",
   "metadata": {},
   "outputs": [
    {
     "name": "stdout",
     "output_type": "stream",
     "text": [
      "32\n"
     ]
    }
   ],
   "source": [
    "print(len(str1))"
   ]
  },
  {
   "cell_type": "code",
   "execution_count": 11,
   "id": "c09e51ba-f99c-4add-8d88-8f0848d82449",
   "metadata": {},
   "outputs": [
    {
     "name": "stdout",
     "output_type": "stream",
     "text": [
      "r\n"
     ]
    }
   ],
   "source": [
    "print(str1[7])"
   ]
  },
  {
   "cell_type": "code",
   "execution_count": 13,
   "id": "96e2cf01-9de6-479e-a290-dde4613267a6",
   "metadata": {},
   "outputs": [
    {
     "name": "stdout",
     "output_type": "stream",
     "text": [
      "hey there\n",
      "Welcome to simplilearn"
     ]
    }
   ],
   "source": [
    "for i in str1:\n",
    "    print(i, end=\"\")"
   ]
  },
  {
   "cell_type": "code",
   "execution_count": 15,
   "id": "9e331ad4-954f-47a6-bc26-621c5eb5326f",
   "metadata": {},
   "outputs": [
    {
     "name": "stdout",
     "output_type": "stream",
     "text": [
      "hey there\n",
      "\n"
     ]
    }
   ],
   "source": [
    "print(str1[0:10])"
   ]
  },
  {
   "cell_type": "code",
   "execution_count": 17,
   "id": "8fe77ed7-67b3-4645-baee-68e4108a82f7",
   "metadata": {},
   "outputs": [
    {
     "name": "stdout",
     "output_type": "stream",
     "text": [
      "hey there\n",
      "\n"
     ]
    }
   ],
   "source": [
    "print(str1[:10])"
   ]
  },
  {
   "cell_type": "code",
   "execution_count": 18,
   "id": "379e890f-88d1-4c71-8c23-77337c4bfc98",
   "metadata": {},
   "outputs": [
    {
     "name": "stdout",
     "output_type": "stream",
     "text": [
      "here\n",
      "Welcome to simplilearn\n"
     ]
    }
   ],
   "source": [
    "print(str1[5:])"
   ]
  },
  {
   "cell_type": "code",
   "execution_count": 19,
   "id": "ea8f4314-b0d1-4e7c-9588-09e979813097",
   "metadata": {},
   "outputs": [
    {
     "name": "stdout",
     "output_type": "stream",
     "text": [
      "y t\n"
     ]
    }
   ],
   "source": [
    "print(str1[2:5])"
   ]
  },
  {
   "cell_type": "code",
   "execution_count": 20,
   "id": "0e8344a2-9e13-4810-8cfa-09548027a6f4",
   "metadata": {},
   "outputs": [
    {
     "name": "stdout",
     "output_type": "stream",
     "text": [
      "HEY THERE\n",
      "WELCOME TO SIMPLILEARN\n"
     ]
    }
   ],
   "source": [
    "print(str1.upper())"
   ]
  },
  {
   "cell_type": "code",
   "execution_count": 21,
   "id": "9b66cc60-39f1-4057-be02-9111345498d1",
   "metadata": {},
   "outputs": [
    {
     "name": "stdout",
     "output_type": "stream",
     "text": [
      "hey there\n",
      "welcome to simplilearn\n"
     ]
    }
   ],
   "source": [
    "print(str1.lower())"
   ]
  },
  {
   "cell_type": "code",
   "execution_count": 25,
   "id": "c8c99a9a-ae43-4a70-9b79-1e924733c2c6",
   "metadata": {},
   "outputs": [
    {
     "name": "stdout",
     "output_type": "stream",
     "text": [
      "12\n"
     ]
    }
   ],
   "source": [
    "print(str1.find('l'))"
   ]
  },
  {
   "cell_type": "code",
   "execution_count": 26,
   "id": "4853c83a-353a-40f8-9814-f8cc0d9f329f",
   "metadata": {},
   "outputs": [
    {
     "name": "stdout",
     "output_type": "stream",
     "text": [
      "12\n"
     ]
    }
   ],
   "source": [
    "print(str1.index('l'))"
   ]
  },
  {
   "cell_type": "code",
   "execution_count": 27,
   "id": "22d026d1-d03a-412a-8d57-cbd1ac07e019",
   "metadata": {},
   "outputs": [
    {
     "name": "stdout",
     "output_type": "stream",
     "text": [
      "['hey', 'there\\nWelcome', 'to', 'simplilearn']\n"
     ]
    }
   ],
   "source": [
    "print(str1.split(\" \"))"
   ]
  },
  {
   "cell_type": "code",
   "execution_count": 28,
   "id": "c2b805eb-2526-4ddb-a5fe-ba3d9c7f9761",
   "metadata": {},
   "outputs": [
    {
     "name": "stdout",
     "output_type": "stream",
     "text": [
      "['hey', 'there\\nWelcome', 'to', 'simplilearn']\n"
     ]
    }
   ],
   "source": [
    "x = str1.split(\" \")\n",
    "print(x)"
   ]
  },
  {
   "cell_type": "code",
   "execution_count": 30,
   "id": "322d9168-d9bf-4bf4-8e48-48c9b60ec7c3",
   "metadata": {},
   "outputs": [
    {
     "name": "stdout",
     "output_type": "stream",
     "text": [
      "hey \n",
      "Welcome to simplilearn\n"
     ]
    }
   ],
   "source": [
    "print(str1.replace(\"there\", \"\"))"
   ]
  },
  {
   "cell_type": "code",
   "execution_count": 32,
   "id": "787e470d-cbe0-4524-89f1-df2dd7d90279",
   "metadata": {},
   "outputs": [
    {
     "name": "stdout",
     "output_type": "stream",
     "text": [
      "('hey there welcome', ' to ', 'simplilearn')\n"
     ]
    }
   ],
   "source": [
    "print(str1.rpartition(\" to \"))"
   ]
  },
  {
   "cell_type": "code",
   "execution_count": 33,
   "id": "3ffa0e55-65d3-4f77-9622-259e2acbe2a1",
   "metadata": {},
   "outputs": [],
   "source": [
    "str2 = \"good\"\n",
    "str3 = \"morning\"\n",
    "str4 = str2 + \" \" + str3"
   ]
  },
  {
   "cell_type": "code",
   "execution_count": 35,
   "id": "fb071fb3-a41f-439d-9583-0c17b078b7b6",
   "metadata": {},
   "outputs": [
    {
     "name": "stdout",
     "output_type": "stream",
     "text": [
      "good morning\n"
     ]
    }
   ],
   "source": [
    "print(str2 + \" \" + str3)"
   ]
  },
  {
   "cell_type": "code",
   "execution_count": 37,
   "id": "aa53aaa4-4ebc-4100-9db8-49021f3b065c",
   "metadata": {},
   "outputs": [
    {
     "name": "stdout",
     "output_type": "stream",
     "text": [
      "Hey there all\n"
     ]
    }
   ],
   "source": [
    "str2 = \"Hey\"\n",
    "str3 = \"there\"\n",
    "str4 = \"all\"\n",
    "ans = \"{} {} {}\".format(str2, str3, str4)\n",
    "print(ans)"
   ]
  },
  {
   "cell_type": "code",
   "execution_count": null,
   "id": "63ef75e2-78e9-469a-8429-51d3afdb5c39",
   "metadata": {},
   "outputs": [],
   "source": []
  },
  {
   "cell_type": "code",
   "execution_count": null,
   "id": "49d082e6-e2ae-4b0e-88b3-021d77c0ce41",
   "metadata": {},
   "outputs": [],
   "source": []
  }
 ],
 "metadata": {
  "kernelspec": {
   "display_name": "Python 3 (ipykernel)",
   "language": "python",
   "name": "python3"
  },
  "language_info": {
   "codemirror_mode": {
    "name": "ipython",
    "version": 3
   },
   "file_extension": ".py",
   "mimetype": "text/x-python",
   "name": "python",
   "nbconvert_exporter": "python",
   "pygments_lexer": "ipython3",
   "version": "3.12.9"
  }
 },
 "nbformat": 4,
 "nbformat_minor": 5
}
