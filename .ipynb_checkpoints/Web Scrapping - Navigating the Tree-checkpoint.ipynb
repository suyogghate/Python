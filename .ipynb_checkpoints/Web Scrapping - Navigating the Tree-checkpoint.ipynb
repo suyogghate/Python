{
 "cells": [
  {
   "cell_type": "code",
   "execution_count": 3,
   "id": "9da9ea9f-3629-4905-a3a2-71d72dd7bae7",
   "metadata": {},
   "outputs": [],
   "source": [
    "# import the required library\n",
    "from bs4 import BeautifulSoup"
   ]
  },
  {
   "cell_type": "code",
   "execution_count": 4,
   "id": "a5b43c42-f23d-4809-a28d-6a949d36f23f",
   "metadata": {},
   "outputs": [],
   "source": [
    "# create html document\n",
    "book_html_doc = \"\"\"<catalog>\n",
    "<head><title>The web book catalog</title></head>\n",
    "<p class=\"title\"><b>The Book Catalog</b></p>\n",
    "<books>\n",
    "    <book id=\"bk001\">\n",
    "        <author>Hightower, Kim</author>\n",
    "        <title>The First Book</title>\n",
    "        <genre>Fiction</genre>\n",
    "        <price>44.95</price>\n",
    "        <pub_date>2000-10-01</pub_date>\n",
    "        <review>An amazing story of nothing.</review>\n",
    "    </book>\n",
    "    <book id=\"bk002\">\n",
    "        <author>Nagata, Suanne</author>\n",
    "        <title>Becoming Somebody</title>\n",
    "        <genre>Biography</genre>\n",
    "        <review>A masterpiece of the fine art of gossiping.</review>\n",
    "    </book>\n",
    "    <book id=\"bk003\">\n",
    "        <author>Oberg, Bruce</author>\n",
    "        <title>The Poet’s First Poem</title>\n",
    "        <genre>Poem</genre>\n",
    "        <price>24.95</price>\n",
    "        <review>The least poetic poems of the decade.</review>\n",
    "    </book>\n",
    "</books></catalog>\"\"\""
   ]
  },
  {
   "cell_type": "code",
   "execution_count": 5,
   "id": "46b4da4e-e0f6-4cc0-ace8-c8812bd3e106",
   "metadata": {},
   "outputs": [],
   "source": [
    "# create a soup object\n",
    "book_soup = BeautifulSoup(book_html_doc, 'html.parser')"
   ]
  },
  {
   "cell_type": "code",
   "execution_count": 12,
   "id": "91a2a813-26a6-4de0-b697-00272ea5f383",
   "metadata": {},
   "outputs": [
    {
     "name": "stdout",
     "output_type": "stream",
     "text": [
      "<catalog>\n",
      "<head><title>The web book catalog</title></head>\n",
      "<p class=\"title\"><b>The Book Catalog</b></p>\n",
      "<books>\n",
      "<book id=\"bk001\">\n",
      "<author>Hightower, Kim</author>\n",
      "<title>The First Book</title>\n",
      "<genre>Fiction</genre>\n",
      "<price>44.95</price>\n",
      "<pub_date>2000-10-01</pub_date>\n",
      "<review>An amazing story of nothing.</review>\n",
      "</book>\n",
      "<book id=\"bk002\">\n",
      "<author>Nagata, Suanne</author>\n",
      "<title>Becoming Somebody</title>\n",
      "<genre>Biography</genre>\n",
      "<review>A masterpiece of the fine art of gossiping.</review>\n",
      "</book>\n",
      "<book id=\"bk003\">\n",
      "<author>Oberg, Bruce</author>\n",
      "<title>The Poet’s First Poem</title>\n",
      "<genre>Poem</genre>\n",
      "<price>24.95</price>\n",
      "<review>The least poetic poems of the decade.</review>\n",
      "</book>\n",
      "</books></catalog>\n"
     ]
    }
   ],
   "source": [
    "# print the catalog tag\n",
    "print(book_soup)"
   ]
  },
  {
   "cell_type": "code",
   "execution_count": 13,
   "id": "346cca71-8ace-4730-aa89-dfc99a5f0752",
   "metadata": {},
   "outputs": [
    {
     "data": {
      "text/plain": [
       "<head><title>The web book catalog</title></head>"
      ]
     },
     "execution_count": 13,
     "metadata": {},
     "output_type": "execute_result"
    }
   ],
   "source": [
    "# view the head of the book html doc\n",
    "book_soup.head"
   ]
  },
  {
   "cell_type": "code",
   "execution_count": 14,
   "id": "815c94f2-9812-4aa5-82e5-5af78c545e06",
   "metadata": {},
   "outputs": [
    {
     "data": {
      "text/plain": [
       "<title>The web book catalog</title>"
      ]
     },
     "execution_count": 14,
     "metadata": {},
     "output_type": "execute_result"
    }
   ],
   "source": [
    "# view the title of the book html doc\n",
    "title_tag = book_soup.title\n",
    "title_tag"
   ]
  },
  {
   "cell_type": "code",
   "execution_count": 15,
   "id": "e3a16803-dfaf-4393-8c79-45e858760cb3",
   "metadata": {},
   "outputs": [
    {
     "name": "stdout",
     "output_type": "stream",
     "text": [
      "<p class=\"title\"><b>The Book Catalog</b></p>\n"
     ]
    }
   ],
   "source": [
    "# print the catalog bold tag\n",
    "print(book_soup.catalog.p)"
   ]
  },
  {
   "cell_type": "code",
   "execution_count": 16,
   "id": "42f47dde-d6e5-4c13-8599-4c61e93148ef",
   "metadata": {},
   "outputs": [
    {
     "name": "stdout",
     "output_type": "stream",
     "text": [
      "<title>The web book catalog</title>\n",
      "The web book catalog\n"
     ]
    }
   ],
   "source": [
    "# navigate down the descendants and print them\n",
    "for descen in book_soup.head.descendants:\n",
    "    print(descen)"
   ]
  },
  {
   "cell_type": "code",
   "execution_count": 17,
   "id": "4668939e-cba1-49b2-b51d-df67cb0119c2",
   "metadata": {},
   "outputs": [
    {
     "name": "stdout",
     "output_type": "stream",
     "text": [
      "'The web book catalog'\n",
      "'The Book Catalog'\n",
      "'Hightower, Kim'\n",
      "'The First Book'\n",
      "'Fiction'\n",
      "'44.95'\n",
      "'2000-10-01'\n",
      "'An amazing story of nothing.'\n",
      "'Nagata, Suanne'\n",
      "'Becoming Somebody'\n",
      "'Biography'\n",
      "'A masterpiece of the fine art of gossiping.'\n",
      "'Oberg, Bruce'\n",
      "'The Poet’s First Poem'\n",
      "'Poem'\n",
      "'24.95'\n",
      "'The least poetic poems of the decade.'\n"
     ]
    }
   ],
   "source": [
    "# navigate down using stripped string method\n",
    "for string in book_soup.stripped_strings:\n",
    "    print(repr(string))"
   ]
  },
  {
   "cell_type": "code",
   "execution_count": 18,
   "id": "baec3e5f-940c-42c2-a9e7-9509d70c4563",
   "metadata": {},
   "outputs": [
    {
     "data": {
      "text/plain": [
       "<head><title>The web book catalog</title></head>"
      ]
     },
     "execution_count": 18,
     "metadata": {},
     "output_type": "execute_result"
    }
   ],
   "source": [
    "# navigate up using parent method\n",
    "title_tag.parent"
   ]
  },
  {
   "cell_type": "code",
   "execution_count": 19,
   "id": "c1ce3555-d171-4c65-86e4-5f7cc6c8b368",
   "metadata": {},
   "outputs": [],
   "source": [
    "# create element object to navigate back and forth\n",
    "element_soup = book_soup.catalog.books"
   ]
  },
  {
   "cell_type": "code",
   "execution_count": 20,
   "id": "d8460bd8-deaf-4924-8912-d578c9e265ac",
   "metadata": {},
   "outputs": [
    {
     "data": {
      "text/plain": [
       "<book id=\"bk001\">\n",
       "<author>Hightower, Kim</author>\n",
       "<title>The First Book</title>\n",
       "<genre>Fiction</genre>\n",
       "<price>44.95</price>\n",
       "<pub_date>2000-10-01</pub_date>\n",
       "<review>An amazing story of nothing.</review>\n",
       "</book>"
      ]
     },
     "execution_count": 20,
     "metadata": {},
     "output_type": "execute_result"
    }
   ],
   "source": [
    "# navigate forward using next_element method\n",
    "next_element = element_soup.next_element.next_element\n",
    "next_element"
   ]
  },
  {
   "cell_type": "code",
   "execution_count": 21,
   "id": "445f721a-6333-4652-be59-904aeecb2fa8",
   "metadata": {},
   "outputs": [
    {
     "data": {
      "text/plain": [
       "<books>\n",
       "<book id=\"bk001\">\n",
       "<author>Hightower, Kim</author>\n",
       "<title>The First Book</title>\n",
       "<genre>Fiction</genre>\n",
       "<price>44.95</price>\n",
       "<pub_date>2000-10-01</pub_date>\n",
       "<review>An amazing story of nothing.</review>\n",
       "</book>\n",
       "<book id=\"bk002\">\n",
       "<author>Nagata, Suanne</author>\n",
       "<title>Becoming Somebody</title>\n",
       "<genre>Biography</genre>\n",
       "<review>A masterpiece of the fine art of gossiping.</review>\n",
       "</book>\n",
       "<book id=\"bk003\">\n",
       "<author>Oberg, Bruce</author>\n",
       "<title>The Poet’s First Poem</title>\n",
       "<genre>Poem</genre>\n",
       "<price>24.95</price>\n",
       "<review>The least poetic poems of the decade.</review>\n",
       "</book>\n",
       "</books>"
      ]
     },
     "execution_count": 21,
     "metadata": {},
     "output_type": "execute_result"
    }
   ],
   "source": [
    "# navigate back using previous element method\n",
    "previous_element = next_element.previous_element.previous_element\n",
    "previous_element"
   ]
  },
  {
   "cell_type": "code",
   "execution_count": 22,
   "id": "18f4053b-30cc-4217-a419-360f961e76ed",
   "metadata": {},
   "outputs": [
    {
     "data": {
      "text/plain": [
       "<book id=\"bk001\">\n",
       "<author>Hightower, Kim</author>\n",
       "<title>The First Book</title>\n",
       "<genre>Fiction</genre>\n",
       "<price>44.95</price>\n",
       "<pub_date>2000-10-01</pub_date>\n",
       "<review>An amazing story of nothing.</review>\n",
       "</book>"
      ]
     },
     "execution_count": 22,
     "metadata": {},
     "output_type": "execute_result"
    }
   ],
   "source": [
    "# create a sibling object and navigate to view it\n",
    "next_sibling = book_soup.catalog.books.book\n",
    "next_sibling"
   ]
  },
  {
   "cell_type": "code",
   "execution_count": 24,
   "id": "6f655d2f-fc9d-4df1-b75e-ef680a55b2f9",
   "metadata": {},
   "outputs": [
    {
     "data": {
      "text/plain": [
       "<book id=\"bk002\">\n",
       "<author>Nagata, Suanne</author>\n",
       "<title>Becoming Somebody</title>\n",
       "<genre>Biography</genre>\n",
       "<review>A masterpiece of the fine art of gossiping.</review>\n",
       "</book>"
      ]
     },
     "execution_count": 24,
     "metadata": {},
     "output_type": "execute_result"
    }
   ],
   "source": [
    "# navigate to next sibling\n",
    "next_sibling2 = next_sibling.next_sibling\n",
    "next_sibling2.next_sibling"
   ]
  },
  {
   "cell_type": "code",
   "execution_count": 25,
   "id": "607997dc-59a5-4da7-a328-50267cb70bea",
   "metadata": {},
   "outputs": [
    {
     "data": {
      "text/plain": [
       "<book id=\"bk001\">\n",
       "<author>Hightower, Kim</author>\n",
       "<title>The First Book</title>\n",
       "<genre>Fiction</genre>\n",
       "<price>44.95</price>\n",
       "<pub_date>2000-10-01</pub_date>\n",
       "<review>An amazing story of nothing.</review>\n",
       "</book>"
      ]
     },
     "execution_count": 25,
     "metadata": {},
     "output_type": "execute_result"
    }
   ],
   "source": [
    "# navigate to previous sibling\n",
    "previous_sibling = next_sibling2.previous_sibling\n",
    "previous_sibling"
   ]
  },
  {
   "cell_type": "code",
   "execution_count": null,
   "id": "97857671-3417-4a94-93ec-fe287eb384d8",
   "metadata": {},
   "outputs": [],
   "source": []
  },
  {
   "cell_type": "code",
   "execution_count": null,
   "id": "dde09d32-805a-4d40-a21d-606e7ebd2913",
   "metadata": {},
   "outputs": [],
   "source": []
  },
  {
   "cell_type": "code",
   "execution_count": null,
   "id": "4d77a5d2-cc2d-4fb4-ac21-0c025e9fdd0b",
   "metadata": {},
   "outputs": [],
   "source": []
  },
  {
   "cell_type": "code",
   "execution_count": null,
   "id": "3fc855af-eadb-46b2-bf47-fb0b42561757",
   "metadata": {},
   "outputs": [],
   "source": []
  }
 ],
 "metadata": {
  "kernelspec": {
   "display_name": "Python 3 (ipykernel)",
   "language": "python",
   "name": "python3"
  },
  "language_info": {
   "codemirror_mode": {
    "name": "ipython",
    "version": 3
   },
   "file_extension": ".py",
   "mimetype": "text/x-python",
   "name": "python",
   "nbconvert_exporter": "python",
   "pygments_lexer": "ipython3",
   "version": "3.12.9"
  }
 },
 "nbformat": 4,
 "nbformat_minor": 5
}
