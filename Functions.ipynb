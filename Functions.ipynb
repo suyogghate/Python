{
 "cells": [
  {
   "cell_type": "code",
   "execution_count": 1,
   "id": "225ea51a-f12f-402c-ab5c-303ca1d785f1",
   "metadata": {},
   "outputs": [
    {
     "name": "stdout",
     "output_type": "stream",
     "text": [
      "250\n"
     ]
    }
   ],
   "source": [
    "def add(*a):\n",
    "    total = 0\n",
    "    for i in a:\n",
    "        total+=i\n",
    "    print(total)\n",
    "\n",
    "add(10, 30, 50, 70, 90)"
   ]
  },
  {
   "cell_type": "code",
   "execution_count": 2,
   "id": "0a723ada-4628-451f-b846-63de25b274f8",
   "metadata": {},
   "outputs": [
    {
     "name": "stdout",
     "output_type": "stream",
     "text": [
      "140707417680600 140707417680920\n",
      "140707417680600 140707417680920\n",
      "140707417680344 140707417680376\n",
      "Sum:  5\n",
      "Sum is: 30\n"
     ]
    }
   ],
   "source": [
    "def add(a, b):\n",
    "    print(id(a), id(b))   \n",
    "    a=2\n",
    "    b=3\n",
    "    print(id(a), id(b))\n",
    "    total=a+b\n",
    "    print(\"Sum: \", total)\n",
    "\n",
    "x=10\n",
    "y=20\n",
    "print(id(x), id(y))   # id() is used to know the memory location\n",
    "add(x, y)\n",
    "print(f\"Sum is: {x+y}\")"
   ]
  },
  {
   "cell_type": "code",
   "execution_count": 3,
   "id": "1aadbb8d-f84a-45a4-b641-a51367c9aee5",
   "metadata": {},
   "outputs": [
    {
     "name": "stdout",
     "output_type": "stream",
     "text": [
      "[0, 1, 2]\n",
      "[0, 1, 6]\n"
     ]
    }
   ],
   "source": [
    "def add(lst):\n",
    "    lst[2]=6\n",
    "\n",
    "lst=[0, 1, 2]\n",
    "print(lst)\n",
    "add(lst)\n",
    "print(lst)\n",
    "# lists are mutable in python, whereas int and strings are immutable"
   ]
  },
  {
   "cell_type": "code",
   "execution_count": null,
   "id": "9a81621e-c029-4e75-940d-71490867f462",
   "metadata": {},
   "outputs": [],
   "source": []
  },
  {
   "cell_type": "code",
   "execution_count": null,
   "id": "158dfadc-b495-4b0f-8591-5a203f08126f",
   "metadata": {},
   "outputs": [],
   "source": []
  },
  {
   "cell_type": "code",
   "execution_count": null,
   "id": "6894ef51-b4d8-4595-b998-b576144697d4",
   "metadata": {},
   "outputs": [],
   "source": []
  }
 ],
 "metadata": {
  "kernelspec": {
   "display_name": "Python 3 (ipykernel)",
   "language": "python",
   "name": "python3"
  },
  "language_info": {
   "codemirror_mode": {
    "name": "ipython",
    "version": 3
   },
   "file_extension": ".py",
   "mimetype": "text/x-python",
   "name": "python",
   "nbconvert_exporter": "python",
   "pygments_lexer": "ipython3",
   "version": "3.12.9"
  }
 },
 "nbformat": 4,
 "nbformat_minor": 5
}
