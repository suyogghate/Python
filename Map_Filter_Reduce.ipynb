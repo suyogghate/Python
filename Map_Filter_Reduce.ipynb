{
 "cells": [
  {
   "cell_type": "markdown",
   "id": "17adbeca-389b-4ac6-a9c0-b9c8d67b9871",
   "metadata": {},
   "source": [
    "# Map"
   ]
  },
  {
   "cell_type": "code",
   "execution_count": 1,
   "id": "65ea89d5-4766-4f6e-a7b7-17a8e36413c7",
   "metadata": {},
   "outputs": [],
   "source": [
    "def add(a):\n",
    "    return a+a"
   ]
  },
  {
   "cell_type": "code",
   "execution_count": 2,
   "id": "bbeae8fe-9e00-44e2-a202-b2f89278b069",
   "metadata": {},
   "outputs": [],
   "source": [
    "numbers = (5, 3, 6, 9)"
   ]
  },
  {
   "cell_type": "code",
   "execution_count": 3,
   "id": "ff6fa4e2-4dc2-4972-9e61-ee81b1ce2aca",
   "metadata": {},
   "outputs": [],
   "source": [
    "out = map(add, numbers)"
   ]
  },
  {
   "cell_type": "code",
   "execution_count": 4,
   "id": "5e384f26-0c3e-4633-923e-2d63a634010c",
   "metadata": {},
   "outputs": [
    {
     "name": "stdout",
     "output_type": "stream",
     "text": [
      "<map object at 0x000001BB52F8E920>\n"
     ]
    }
   ],
   "source": [
    "print(out)"
   ]
  },
  {
   "cell_type": "code",
   "execution_count": 5,
   "id": "5ed4359e-562c-43d4-b8a5-b33c0644790c",
   "metadata": {},
   "outputs": [
    {
     "name": "stdout",
     "output_type": "stream",
     "text": [
      "[10, 6, 12, 18]\n"
     ]
    }
   ],
   "source": [
    "add = list(out)\n",
    "print(add)"
   ]
  },
  {
   "cell_type": "code",
   "execution_count": 6,
   "id": "ad197021-67ff-4dcf-b6fa-0101d24e88a1",
   "metadata": {},
   "outputs": [],
   "source": [
    "numbers = (5, 3, 6, 9)"
   ]
  },
  {
   "cell_type": "code",
   "execution_count": 7,
   "id": "8794a23e-3ed8-4734-8483-0bdc77324bd1",
   "metadata": {},
   "outputs": [],
   "source": [
    "out = map(lambda x: x*x, numbers)"
   ]
  },
  {
   "cell_type": "code",
   "execution_count": 8,
   "id": "e8d689a2-804b-4db0-bc44-084749b39439",
   "metadata": {},
   "outputs": [
    {
     "name": "stdout",
     "output_type": "stream",
     "text": [
      "[25, 9, 36, 81]\n"
     ]
    }
   ],
   "source": [
    "print(list(out))"
   ]
  },
  {
   "cell_type": "code",
   "execution_count": 9,
   "id": "eb90d00e-9bdf-431d-b94e-4b365da23b3b",
   "metadata": {},
   "outputs": [
    {
     "name": "stdout",
     "output_type": "stream",
     "text": [
      "['PEN', 'BOOKS', 'COPY', 'PENCIL']\n"
     ]
    }
   ],
   "source": [
    "map_obj = map(str.upper, ['pen', 'books', 'copy', 'pencil'])\n",
    "print(list(map_obj))"
   ]
  },
  {
   "cell_type": "code",
   "execution_count": 11,
   "id": "c7771c64-ec52-4ac6-a1cc-70fc5d75fe61",
   "metadata": {},
   "outputs": [
    {
     "name": "stdout",
     "output_type": "stream",
     "text": [
      "[3, 5, 4, 6]\n"
     ]
    }
   ],
   "source": [
    "map_obj = map(lambda x:len(list(x)), ['pen', 'books', 'copy', 'pencil'])\n",
    "print(list(map_obj))"
   ]
  },
  {
   "cell_type": "markdown",
   "id": "28bb5e88-45e1-4182-a2bf-020fbf10d376",
   "metadata": {},
   "source": [
    "# Filter"
   ]
  },
  {
   "cell_type": "code",
   "execution_count": 12,
   "id": "5efd97a9-e749-4df8-b71a-c8d43780ba19",
   "metadata": {},
   "outputs": [],
   "source": [
    "def fil(a):\n",
    "    if a > 5:\n",
    "        return a"
   ]
  },
  {
   "cell_type": "code",
   "execution_count": 13,
   "id": "2a68b540-038f-4924-ae4e-31c2aaffe91e",
   "metadata": {},
   "outputs": [
    {
     "name": "stdout",
     "output_type": "stream",
     "text": [
      "[7, 9]\n"
     ]
    }
   ],
   "source": [
    "out = filter(fil, (1, 4, 7, 9, 3))\n",
    "print(list(out))"
   ]
  },
  {
   "cell_type": "code",
   "execution_count": 14,
   "id": "aaf35716-4e0f-470b-9944-5a1e3f0c316f",
   "metadata": {},
   "outputs": [
    {
     "name": "stdout",
     "output_type": "stream",
     "text": [
      "[7, 9]\n"
     ]
    }
   ],
   "source": [
    "y = filter(lambda a: (a>5), (1, 4, 7, 9, 3))\n",
    "print(list(y))"
   ]
  },
  {
   "cell_type": "code",
   "execution_count": 15,
   "id": "36944d63-e52a-49de-ba2f-dbbfdc728fe7",
   "metadata": {},
   "outputs": [
    {
     "name": "stdout",
     "output_type": "stream",
     "text": [
      "['peas', 'ginger', 'beetroot']\n"
     ]
    }
   ],
   "source": [
    "def veggies_with_e(x):\n",
    "    return 'e' in x\n",
    "map_obj = filter(veggies_with_e, ['peas', 'garlic', 'ginger', 'beetroot', 'carrot'])\n",
    "print(list(map_obj))"
   ]
  },
  {
   "cell_type": "code",
   "execution_count": 16,
   "id": "48ea8f76-fbd2-432c-b334-45340e65ccb8",
   "metadata": {},
   "outputs": [
    {
     "name": "stdout",
     "output_type": "stream",
     "text": [
      "['garlic', 'ginger', 'beetroot', 'carrot']\n"
     ]
    }
   ],
   "source": [
    "map_obj = filter(lambda x: 'r' in x, ['peas', 'garlic', 'ginger', 'beetroot', 'carrot'])\n",
    "print(list(map_obj))"
   ]
  },
  {
   "cell_type": "markdown",
   "id": "b31870ae-87e6-4d11-a4fe-1c544685a8da",
   "metadata": {},
   "source": [
    "# Reduce"
   ]
  },
  {
   "cell_type": "code",
   "execution_count": 17,
   "id": "bba9a6c3-0a10-4b35-8566-18e709ea9c8e",
   "metadata": {},
   "outputs": [
    {
     "data": {
      "text/plain": [
       "168"
      ]
     },
     "execution_count": 17,
     "metadata": {},
     "output_type": "execute_result"
    }
   ],
   "source": [
    "from functools import reduce\n",
    "reduce(lambda a,b: a+b, [10, 45, 23, 90])"
   ]
  },
  {
   "cell_type": "code",
   "execution_count": 18,
   "id": "3929118b-7ba6-41ba-94d5-95302cddc022",
   "metadata": {},
   "outputs": [
    {
     "data": {
      "text/plain": [
       "931500"
      ]
     },
     "execution_count": 18,
     "metadata": {},
     "output_type": "execute_result"
    }
   ],
   "source": [
    "reduce(lambda a,b: a*b, [10, 45, 23, 90])"
   ]
  },
  {
   "cell_type": "code",
   "execution_count": 19,
   "id": "db4c40ed-615e-4743-ac26-238e9f9d955e",
   "metadata": {},
   "outputs": [
    {
     "name": "stdout",
     "output_type": "stream",
     "text": [
      "34\n"
     ]
    }
   ],
   "source": [
    "numbers = [3, 4, 6, 9, 12]\n",
    "def custom_sum(first, second):\n",
    "    return first + second\n",
    "result = reduce(custom_sum, numbers)\n",
    "print(result)"
   ]
  },
  {
   "cell_type": "code",
   "execution_count": null,
   "id": "72dbbd1d-ab3d-4b4a-8a70-f9b0f384a522",
   "metadata": {},
   "outputs": [],
   "source": []
  },
  {
   "cell_type": "code",
   "execution_count": null,
   "id": "b2fef2df-cdec-4ac7-82f3-e7b3c1c2c843",
   "metadata": {},
   "outputs": [],
   "source": []
  },
  {
   "cell_type": "code",
   "execution_count": null,
   "id": "14fa7c8d-a754-44a0-8db7-91d45ebe7e4c",
   "metadata": {},
   "outputs": [],
   "source": []
  },
  {
   "cell_type": "code",
   "execution_count": null,
   "id": "2a5b88f0-857a-4e3f-98db-4ba3a47c5e92",
   "metadata": {},
   "outputs": [],
   "source": []
  },
  {
   "cell_type": "code",
   "execution_count": null,
   "id": "08b5de8f-b355-4d78-8e1a-e06922184ae1",
   "metadata": {},
   "outputs": [],
   "source": []
  }
 ],
 "metadata": {
  "kernelspec": {
   "display_name": "Python 3 (ipykernel)",
   "language": "python",
   "name": "python3"
  },
  "language_info": {
   "codemirror_mode": {
    "name": "ipython",
    "version": 3
   },
   "file_extension": ".py",
   "mimetype": "text/x-python",
   "name": "python",
   "nbconvert_exporter": "python",
   "pygments_lexer": "ipython3",
   "version": "3.12.9"
  }
 },
 "nbformat": 4,
 "nbformat_minor": 5
}
