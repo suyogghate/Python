{
 "cells": [
  {
   "cell_type": "code",
   "execution_count": 1,
   "id": "41cfdfdf-4ddc-4ed0-8176-a0e2a9eb331c",
   "metadata": {},
   "outputs": [],
   "source": [
    "# import the required library\n",
    "from bs4 import BeautifulSoup"
   ]
  },
  {
   "cell_type": "code",
   "execution_count": 2,
   "id": "7268c125-3f09-452a-a990-3456c3fc1236",
   "metadata": {},
   "outputs": [],
   "source": [
    "# sample web document from www.simplilearn.com\n",
    "data_SL = \"\"\"<ul class=\"content-col_discover\">\n",
    "    <h5>Discover</h5>\n",
    "    <li><a href=\"/resources\" id=\"free_resources\">Free resources</a></li>\n",
    "    <li><a href=\"http://community.simplilearn.com/\" id=\"community\">Simplilearn community</a></li>\n",
    "    <li><a href=\"/career-data-labs\" id=\"lab\">Career data labs</a></li>\n",
    "    <li><a href=\"/scholarships-for-veterans\" id=\"scholarship\">Veterans scholarship</a></li>\n",
    "    <li><a href=\"http://www.simplilearn.com/feed/\" id=\"rss\">RSS feed</a></li>\n",
    "</ul>\"\"\"\n"
   ]
  },
  {
   "cell_type": "code",
   "execution_count": 3,
   "id": "a3647991-6649-43d7-89ed-134ff4fdb552",
   "metadata": {},
   "outputs": [],
   "source": [
    "# create soup object\n",
    "soup_SL = BeautifulSoup(data_SL, 'html.parser')"
   ]
  },
  {
   "cell_type": "code",
   "execution_count": 5,
   "id": "6ccf0dc5-fcb2-4b16-84ff-0ec3350e0f16",
   "metadata": {},
   "outputs": [
    {
     "name": "stdout",
     "output_type": "stream",
     "text": [
      "\n",
      "Discover\n",
      "Free resources\n",
      "Simplilearn community\n",
      "Career data labs\n",
      "Veterans scholarship\n",
      "RSS feed\n",
      "\n"
     ]
    }
   ],
   "source": [
    "# parse only part of the document, text(string) values for tags using getText method\n",
    "print(soup_SL.get_text())"
   ]
  },
  {
   "cell_type": "code",
   "execution_count": 6,
   "id": "4bce3167-309c-40d9-bbbb-3a2a996cd74f",
   "metadata": {},
   "outputs": [],
   "source": [
    "# import SoupStrainer class for parsing the desired part of the web document\n",
    "from bs4 import SoupStrainer"
   ]
  },
  {
   "cell_type": "code",
   "execution_count": 7,
   "id": "d69c7819-2ebe-4edd-b468-f679b897db6b",
   "metadata": {},
   "outputs": [],
   "source": [
    "# create object to parse only the id (link) with lab\n",
    "tags_with_LabLink = SoupStrainer(id=\"lab\")"
   ]
  },
  {
   "cell_type": "code",
   "execution_count": 8,
   "id": "e4da9410-1ce8-4353-87dc-e43240fc5f38",
   "metadata": {},
   "outputs": [
    {
     "name": "stdout",
     "output_type": "stream",
     "text": [
      "<a href=\"/career-data-labs\" id=\"lab\">\n",
      " Career data labs\n",
      "</a>\n",
      "\n"
     ]
    }
   ],
   "source": [
    "# print the part of the parsed document\n",
    "print(BeautifulSoup(data_SL, 'html.parser', parse_only=tags_with_LabLink).prettify())"
   ]
  },
  {
   "cell_type": "code",
   "execution_count": null,
   "id": "a3e2234e-74dc-4ab2-9208-601792a47ace",
   "metadata": {},
   "outputs": [],
   "source": []
  },
  {
   "cell_type": "code",
   "execution_count": null,
   "id": "3de581f3-190a-43bd-a02d-2ed7435c73cc",
   "metadata": {},
   "outputs": [],
   "source": []
  },
  {
   "cell_type": "code",
   "execution_count": null,
   "id": "cd3726fa-2e32-4eac-a95c-0ca660a5bd84",
   "metadata": {},
   "outputs": [],
   "source": []
  },
  {
   "cell_type": "code",
   "execution_count": null,
   "id": "71578e1f-0f80-4aa8-b145-16cd995e0c79",
   "metadata": {},
   "outputs": [],
   "source": []
  },
  {
   "cell_type": "code",
   "execution_count": null,
   "id": "8e721cd2-1c09-4713-b5c3-cc156191eb63",
   "metadata": {},
   "outputs": [],
   "source": []
  },
  {
   "cell_type": "code",
   "execution_count": null,
   "id": "1be7f134-78db-41c5-ad4f-1459caa8349f",
   "metadata": {},
   "outputs": [],
   "source": []
  },
  {
   "cell_type": "code",
   "execution_count": null,
   "id": "276d1b9d-fd00-4353-b6eb-33a38b955039",
   "metadata": {},
   "outputs": [],
   "source": []
  }
 ],
 "metadata": {
  "kernelspec": {
   "display_name": "Python 3 (ipykernel)",
   "language": "python",
   "name": "python3"
  },
  "language_info": {
   "codemirror_mode": {
    "name": "ipython",
    "version": 3
   },
   "file_extension": ".py",
   "mimetype": "text/x-python",
   "name": "python",
   "nbconvert_exporter": "python",
   "pygments_lexer": "ipython3",
   "version": "3.12.9"
  }
 },
 "nbformat": 4,
 "nbformat_minor": 5
}
