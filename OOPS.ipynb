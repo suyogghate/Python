{
 "cells": [
  {
   "cell_type": "markdown",
   "id": "0e3a403e-93ca-4dd3-9ae1-3549044a2821",
   "metadata": {},
   "source": [
    "# Class and Objects"
   ]
  },
  {
   "cell_type": "code",
   "execution_count": 2,
   "id": "d2db462f-eff7-49eb-8f27-51fd2bdf5bc4",
   "metadata": {},
   "outputs": [
    {
     "name": "stdout",
     "output_type": "stream",
     "text": [
      "Hi, I am Nikita\n",
      "Hi, I am Palak\n",
      "Hi, I am Ankita\n",
      "I am eligible to vote!\n",
      "I am eligible to vote!\n",
      "I am not eligible to vote!\n"
     ]
    }
   ],
   "source": [
    "class Person:\n",
    "    def __init__(self, name, gender, age):\n",
    "        self.name = name\n",
    "        self.gender = gender\n",
    "        self.age = age\n",
    "\n",
    "    def talk(self):\n",
    "        print(f\"Hi, I am {self.name}\")\n",
    "\n",
    "    def vote(self):\n",
    "        if self.age < 18:\n",
    "            print(f\"I am not eligible to vote!\")\n",
    "        else:\n",
    "            print(f\"I am eligible to vote!\")\n",
    "\n",
    "# obj = Person()\n",
    "# obj.talk()\n",
    "# obj.vote()\n",
    "\n",
    "obj1 = Person(\"Nikita\", \"Female\", 22)\n",
    "obj2 = Person(\"Palak\", \"Female\", 25)\n",
    "obj3 = Person(\"Ankita\", \"Female\", 16)\n",
    "\n",
    "obj1.talk()\n",
    "obj2.talk()\n",
    "obj3.talk()\n",
    "\n",
    "obj1.vote()\n",
    "obj2.vote()\n",
    "obj3.vote()"
   ]
  },
  {
   "cell_type": "markdown",
   "id": "d7e4c58e-8180-4911-bab6-3290f3ca0713",
   "metadata": {},
   "source": [
    "# Inheritance"
   ]
  },
  {
   "cell_type": "code",
   "execution_count": 6,
   "id": "78327d10-fb96-48b0-8725-066a1ab2baa1",
   "metadata": {},
   "outputs": [
    {
     "name": "stdout",
     "output_type": "stream",
     "text": [
      "Camry : Speed is: 137\n",
      "Scorpio : Speed is 127\n"
     ]
    }
   ],
   "source": [
    "class Car:\n",
    "    def __init__(self, name):\n",
    "        # self.year = year\n",
    "        # self.speed = speed\n",
    "        self.name = name\n",
    "    def getSpeed(self):\n",
    "        # print(f\"Maximum speed is: {self.speed}\")\n",
    "        print(\"Maximum speed is: 200\")\n",
    "    def setSpeed(self, speed):\n",
    "        self.speed = speed\n",
    "\n",
    "class Sedan(Car):           # child class -> inheriting from parent class (Car)\n",
    "    def accelerate(self):\n",
    "        print(\"Speed is: 137\")\n",
    "    def openTrunk(self):\n",
    "        print(\"Trunk has been opened.\")\n",
    "\n",
    "class SUV(Car):\n",
    "    def accelerate(self):\n",
    "        print(\"Speed is 127\")\n",
    "    \n",
    "# BMW = Car(2018, 155)\n",
    "# FORD = Car(2016, 140)\n",
    "\n",
    "# Honda = Sedan(2018, 150)\n",
    "# BMW.getSpeed()\n",
    "# Honda.getSpeed()\n",
    "# Honda.openTrunk()\n",
    "\n",
    "objL = [Sedan(\"Camry\"), SUV(\"Scorpio\")]\n",
    "\n",
    "for obj in objL:\n",
    "    print(obj.name+\" : \", end=\"\")\n",
    "    obj.accelerate()\n",
    "\n"
   ]
  },
  {
   "cell_type": "code",
   "execution_count": null,
   "id": "8f9c8539-0b10-4ecb-98e9-28b9b967eb74",
   "metadata": {},
   "outputs": [],
   "source": []
  },
  {
   "cell_type": "code",
   "execution_count": null,
   "id": "acbd85f5-3afb-4fbc-b96a-eea24254a7f3",
   "metadata": {},
   "outputs": [],
   "source": []
  },
  {
   "cell_type": "code",
   "execution_count": null,
   "id": "bd20cfa9-cfd6-4586-a79b-a747f037cbdb",
   "metadata": {},
   "outputs": [],
   "source": []
  }
 ],
 "metadata": {
  "kernelspec": {
   "display_name": "Python 3 (ipykernel)",
   "language": "python",
   "name": "python3"
  },
  "language_info": {
   "codemirror_mode": {
    "name": "ipython",
    "version": 3
   },
   "file_extension": ".py",
   "mimetype": "text/x-python",
   "name": "python",
   "nbconvert_exporter": "python",
   "pygments_lexer": "ipython3",
   "version": "3.12.9"
  }
 },
 "nbformat": 4,
 "nbformat_minor": 5
}
