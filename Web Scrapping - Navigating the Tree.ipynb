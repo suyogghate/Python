{
 "cells": [
  {
   "cell_type": "code",
   "execution_count": 1,
   "id": "9da9ea9f-3629-4905-a3a2-71d72dd7bae7",
   "metadata": {},
   "outputs": [],
   "source": [
    "# import the required library\n",
    "from bs4 import BeautifulSoup"
   ]
  },
  {
   "cell_type": "code",
   "execution_count": null,
   "id": "a5b43c42-f23d-4809-a28d-6a949d36f23f",
   "metadata": {},
   "outputs": [],
   "source": [
    "# create html document\n",
    "book_html_doc = \"\"\"<catalog>\n",
    "    \n",
    "\"\"\""
   ]
  },
  {
   "cell_type": "code",
   "execution_count": null,
   "id": "46b4da4e-e0f6-4cc0-ace8-c8812bd3e106",
   "metadata": {},
   "outputs": [],
   "source": [
    "# create a soup object"
   ]
  },
  {
   "cell_type": "code",
   "execution_count": null,
   "id": "91a2a813-26a6-4de0-b697-00272ea5f383",
   "metadata": {},
   "outputs": [],
   "source": [
    "# print the catalog tag"
   ]
  },
  {
   "cell_type": "code",
   "execution_count": null,
   "id": "346cca71-8ace-4730-aa89-dfc99a5f0752",
   "metadata": {},
   "outputs": [],
   "source": [
    "# view the head of the book html doc"
   ]
  },
  {
   "cell_type": "code",
   "execution_count": null,
   "id": "815c94f2-9812-4aa5-82e5-5af78c545e06",
   "metadata": {},
   "outputs": [],
   "source": [
    "# view the title of the book html doc"
   ]
  },
  {
   "cell_type": "code",
   "execution_count": null,
   "id": "e3a16803-dfaf-4393-8c79-45e858760cb3",
   "metadata": {},
   "outputs": [],
   "source": [
    "# print the catalog bold tag"
   ]
  },
  {
   "cell_type": "code",
   "execution_count": null,
   "id": "42f47dde-d6e5-4c13-8599-4c61e93148ef",
   "metadata": {},
   "outputs": [],
   "source": [
    "# navigate down the descendants and print them"
   ]
  },
  {
   "cell_type": "code",
   "execution_count": null,
   "id": "4668939e-cba1-49b2-b51d-df67cb0119c2",
   "metadata": {},
   "outputs": [],
   "source": [
    "# navigate down using stripped string method"
   ]
  },
  {
   "cell_type": "code",
   "execution_count": null,
   "id": "baec3e5f-940c-42c2-a9e7-9509d70c4563",
   "metadata": {},
   "outputs": [],
   "source": []
  },
  {
   "cell_type": "code",
   "execution_count": null,
   "id": "c1ce3555-d171-4c65-86e4-5f7cc6c8b368",
   "metadata": {},
   "outputs": [],
   "source": []
  },
  {
   "cell_type": "code",
   "execution_count": null,
   "id": "d8460bd8-deaf-4924-8912-d578c9e265ac",
   "metadata": {},
   "outputs": [],
   "source": []
  },
  {
   "cell_type": "code",
   "execution_count": null,
   "id": "445f721a-6333-4652-be59-904aeecb2fa8",
   "metadata": {},
   "outputs": [],
   "source": []
  },
  {
   "cell_type": "code",
   "execution_count": null,
   "id": "18f4053b-30cc-4217-a419-360f961e76ed",
   "metadata": {},
   "outputs": [],
   "source": []
  },
  {
   "cell_type": "code",
   "execution_count": null,
   "id": "6f655d2f-fc9d-4df1-b75e-ef680a55b2f9",
   "metadata": {},
   "outputs": [],
   "source": []
  }
 ],
 "metadata": {
  "kernelspec": {
   "display_name": "Python 3 (ipykernel)",
   "language": "python",
   "name": "python3"
  },
  "language_info": {
   "codemirror_mode": {
    "name": "ipython",
    "version": 3
   },
   "file_extension": ".py",
   "mimetype": "text/x-python",
   "name": "python",
   "nbconvert_exporter": "python",
   "pygments_lexer": "ipython3",
   "version": "3.12.9"
  }
 },
 "nbformat": 4,
 "nbformat_minor": 5
}
